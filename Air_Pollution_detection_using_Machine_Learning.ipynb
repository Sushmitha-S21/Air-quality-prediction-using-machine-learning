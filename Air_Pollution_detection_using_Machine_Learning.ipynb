{
  "cells": [
    {
      "cell_type": "code",
      "execution_count": 7,
      "id": "fe65f460",
      "metadata": {
        "execution": {
          "iopub.execute_input": "2022-03-31T11:19:12.847620Z",
          "iopub.status.busy": "2022-03-31T11:19:12.846431Z",
          "iopub.status.idle": "2022-03-31T11:19:12.849324Z",
          "shell.execute_reply": "2022-03-31T11:19:12.849813Z",
          "shell.execute_reply.started": "2022-03-31T11:10:50.168405Z"
        },
        "papermill": {
          "duration": 0.090048,
          "end_time": "2022-03-31T11:19:12.850107",
          "exception": false,
          "start_time": "2022-03-31T11:19:12.760059",
          "status": "completed"
        },
        "tags": [],
        "id": "fe65f460"
      },
      "outputs": [],
      "source": [
        "## Importing necessary libraries"
      ]
    },
    {
      "cell_type": "code",
      "source": [
        "from google.colab import drive\n",
        "drive.mount('/content/drive')"
      ],
      "metadata": {
        "colab": {
          "base_uri": "https://localhost:8080/"
        },
        "id": "u3ioWMnJ30Eg",
        "outputId": "b8477b77-ea08-4896-bd35-25bdd51315ec"
      },
      "id": "u3ioWMnJ30Eg",
      "execution_count": 8,
      "outputs": [
        {
          "output_type": "stream",
          "name": "stdout",
          "text": [
            "Drive already mounted at /content/drive; to attempt to forcibly remount, call drive.mount(\"/content/drive\", force_remount=True).\n"
          ]
        }
      ]
    },
    {
      "cell_type": "code",
      "execution_count": 78,
      "id": "6228266f",
      "metadata": {
        "execution": {
          "iopub.execute_input": "2022-03-31T11:19:13.013589Z",
          "iopub.status.busy": "2022-03-31T11:19:13.012911Z",
          "iopub.status.idle": "2022-03-31T11:19:14.502767Z",
          "shell.execute_reply": "2022-03-31T11:19:14.501981Z",
          "shell.execute_reply.started": "2022-03-31T11:10:50.191155Z"
        },
        "papermill": {
          "duration": 1.572637,
          "end_time": "2022-03-31T11:19:14.502931",
          "exception": false,
          "start_time": "2022-03-31T11:19:12.930294",
          "status": "completed"
        },
        "tags": [],
        "id": "6228266f"
      },
      "outputs": [],
      "source": [
        "import pandas as pd #read our dataset\n",
        "import numpy as np #used for working with arrays \n",
        "import seaborn as sns #used for visualization statstical graphs\n",
        "import matplotlib.pyplot as plt #visualisation; will help us to create plots\n",
        "import warnings \n",
        "warnings.filterwarnings(\"ignore\") #remove warnings\n",
        "\n",
        "from sklearn.preprocessing import LabelEncoder #used for categorical variables\n",
        "from sklearn.model_selection import train_test_split #used for split our data and for running ML models and comparing\n",
        "\n",
        "#importing ML models\n",
        "from sklearn.linear_model import LinearRegression#predicted output is continous in nature with constant slope\n",
        "from sklearn.tree import DecisionTreeRegressor #used for both regression and classification\n",
        "#it breaks the dataset into many subsets and the DT is incrementally developed; here we will face overfitting problem which will be oercome by the Random forest\n",
        "from sklearn.ensemble import RandomForestRegressor #meta estimator\n",
        "\n",
        "#used for evaluating models\n",
        "from sklearn import metrics\n",
        "from sklearn.metrics import mean_absolute_error, mean_squared_error,r2_score #used for regression models\n",
        "from sklearn.metrics import accuracy_score,confusion_matrix #used for classification models\n"
      ]
    },
    {
      "cell_type": "code",
      "execution_count": 10,
      "id": "d0fa80c9",
      "metadata": {
        "execution": {
          "iopub.execute_input": "2022-03-31T11:19:14.664117Z",
          "iopub.status.busy": "2022-03-31T11:19:14.663452Z",
          "iopub.status.idle": "2022-03-31T11:19:16.599485Z",
          "shell.execute_reply": "2022-03-31T11:19:16.600008Z",
          "shell.execute_reply.started": "2022-03-31T11:10:51.535945Z"
        },
        "papermill": {
          "duration": 2.018932,
          "end_time": "2022-03-31T11:19:16.600192",
          "exception": false,
          "start_time": "2022-03-31T11:19:14.581260",
          "status": "completed"
        },
        "tags": [],
        "id": "d0fa80c9"
      },
      "outputs": [],
      "source": [
        "df=pd.read_csv('/content/drive/MyDrive/DATASETS/data.csv',encoding='unicode_escape')\n",
        "# Reading the dataset"
      ]
    },
    {
      "cell_type": "markdown",
      "id": "86f33bbb",
      "metadata": {
        "papermill": {
          "duration": 0.078248,
          "end_time": "2022-03-31T11:19:16.757597",
          "exception": false,
          "start_time": "2022-03-31T11:19:16.679349",
          "status": "completed"
        },
        "tags": [],
        "id": "86f33bbb"
      },
      "source": [
        "## Data Understanding"
      ]
    },
    {
      "cell_type": "code",
      "execution_count": 11,
      "id": "6a9f2262",
      "metadata": {
        "execution": {
          "iopub.execute_input": "2022-03-31T11:19:16.923141Z",
          "iopub.status.busy": "2022-03-31T11:19:16.922105Z",
          "iopub.status.idle": "2022-03-31T11:19:16.943718Z",
          "shell.execute_reply": "2022-03-31T11:19:16.944253Z",
          "shell.execute_reply.started": "2022-03-31T11:10:53.174510Z"
        },
        "papermill": {
          "duration": 0.108817,
          "end_time": "2022-03-31T11:19:16.944429",
          "exception": false,
          "start_time": "2022-03-31T11:19:16.835612",
          "status": "completed"
        },
        "tags": [],
        "colab": {
          "base_uri": "https://localhost:8080/",
          "height": 337
        },
        "id": "6a9f2262",
        "outputId": "7c885828-2cb4-421f-aa61-f9c7ca24c7b0"
      },
      "outputs": [
        {
          "output_type": "execute_result",
          "data": {
            "text/plain": [
              "  stn_code       sampling_date           state   location agency  \\\n",
              "0    150.0  February - M021990  Andhra Pradesh  Hyderabad    NaN   \n",
              "1    151.0  February - M021990  Andhra Pradesh  Hyderabad    NaN   \n",
              "2    152.0  February - M021990  Andhra Pradesh  Hyderabad    NaN   \n",
              "3    150.0     March - M031990  Andhra Pradesh  Hyderabad    NaN   \n",
              "4    151.0     March - M031990  Andhra Pradesh  Hyderabad    NaN   \n",
              "\n",
              "                                 type  so2   no2  rspm  spm  \\\n",
              "0  Residential, Rural and other Areas  4.8  17.4   NaN  NaN   \n",
              "1                     Industrial Area  3.1   7.0   NaN  NaN   \n",
              "2  Residential, Rural and other Areas  6.2  28.5   NaN  NaN   \n",
              "3  Residential, Rural and other Areas  6.3  14.7   NaN  NaN   \n",
              "4                     Industrial Area  4.7   7.5   NaN  NaN   \n",
              "\n",
              "  location_monitoring_station  pm2_5        date  \n",
              "0                         NaN    NaN  1990-02-01  \n",
              "1                         NaN    NaN  1990-02-01  \n",
              "2                         NaN    NaN  1990-02-01  \n",
              "3                         NaN    NaN  1990-03-01  \n",
              "4                         NaN    NaN  1990-03-01  "
            ],
            "text/html": [
              "\n",
              "  <div id=\"df-f26d09ea-11d3-4dad-ab14-96457eb45b0f\">\n",
              "    <div class=\"colab-df-container\">\n",
              "      <div>\n",
              "<style scoped>\n",
              "    .dataframe tbody tr th:only-of-type {\n",
              "        vertical-align: middle;\n",
              "    }\n",
              "\n",
              "    .dataframe tbody tr th {\n",
              "        vertical-align: top;\n",
              "    }\n",
              "\n",
              "    .dataframe thead th {\n",
              "        text-align: right;\n",
              "    }\n",
              "</style>\n",
              "<table border=\"1\" class=\"dataframe\">\n",
              "  <thead>\n",
              "    <tr style=\"text-align: right;\">\n",
              "      <th></th>\n",
              "      <th>stn_code</th>\n",
              "      <th>sampling_date</th>\n",
              "      <th>state</th>\n",
              "      <th>location</th>\n",
              "      <th>agency</th>\n",
              "      <th>type</th>\n",
              "      <th>so2</th>\n",
              "      <th>no2</th>\n",
              "      <th>rspm</th>\n",
              "      <th>spm</th>\n",
              "      <th>location_monitoring_station</th>\n",
              "      <th>pm2_5</th>\n",
              "      <th>date</th>\n",
              "    </tr>\n",
              "  </thead>\n",
              "  <tbody>\n",
              "    <tr>\n",
              "      <th>0</th>\n",
              "      <td>150.0</td>\n",
              "      <td>February - M021990</td>\n",
              "      <td>Andhra Pradesh</td>\n",
              "      <td>Hyderabad</td>\n",
              "      <td>NaN</td>\n",
              "      <td>Residential, Rural and other Areas</td>\n",
              "      <td>4.8</td>\n",
              "      <td>17.4</td>\n",
              "      <td>NaN</td>\n",
              "      <td>NaN</td>\n",
              "      <td>NaN</td>\n",
              "      <td>NaN</td>\n",
              "      <td>1990-02-01</td>\n",
              "    </tr>\n",
              "    <tr>\n",
              "      <th>1</th>\n",
              "      <td>151.0</td>\n",
              "      <td>February - M021990</td>\n",
              "      <td>Andhra Pradesh</td>\n",
              "      <td>Hyderabad</td>\n",
              "      <td>NaN</td>\n",
              "      <td>Industrial Area</td>\n",
              "      <td>3.1</td>\n",
              "      <td>7.0</td>\n",
              "      <td>NaN</td>\n",
              "      <td>NaN</td>\n",
              "      <td>NaN</td>\n",
              "      <td>NaN</td>\n",
              "      <td>1990-02-01</td>\n",
              "    </tr>\n",
              "    <tr>\n",
              "      <th>2</th>\n",
              "      <td>152.0</td>\n",
              "      <td>February - M021990</td>\n",
              "      <td>Andhra Pradesh</td>\n",
              "      <td>Hyderabad</td>\n",
              "      <td>NaN</td>\n",
              "      <td>Residential, Rural and other Areas</td>\n",
              "      <td>6.2</td>\n",
              "      <td>28.5</td>\n",
              "      <td>NaN</td>\n",
              "      <td>NaN</td>\n",
              "      <td>NaN</td>\n",
              "      <td>NaN</td>\n",
              "      <td>1990-02-01</td>\n",
              "    </tr>\n",
              "    <tr>\n",
              "      <th>3</th>\n",
              "      <td>150.0</td>\n",
              "      <td>March - M031990</td>\n",
              "      <td>Andhra Pradesh</td>\n",
              "      <td>Hyderabad</td>\n",
              "      <td>NaN</td>\n",
              "      <td>Residential, Rural and other Areas</td>\n",
              "      <td>6.3</td>\n",
              "      <td>14.7</td>\n",
              "      <td>NaN</td>\n",
              "      <td>NaN</td>\n",
              "      <td>NaN</td>\n",
              "      <td>NaN</td>\n",
              "      <td>1990-03-01</td>\n",
              "    </tr>\n",
              "    <tr>\n",
              "      <th>4</th>\n",
              "      <td>151.0</td>\n",
              "      <td>March - M031990</td>\n",
              "      <td>Andhra Pradesh</td>\n",
              "      <td>Hyderabad</td>\n",
              "      <td>NaN</td>\n",
              "      <td>Industrial Area</td>\n",
              "      <td>4.7</td>\n",
              "      <td>7.5</td>\n",
              "      <td>NaN</td>\n",
              "      <td>NaN</td>\n",
              "      <td>NaN</td>\n",
              "      <td>NaN</td>\n",
              "      <td>1990-03-01</td>\n",
              "    </tr>\n",
              "  </tbody>\n",
              "</table>\n",
              "</div>\n",
              "      <button class=\"colab-df-convert\" onclick=\"convertToInteractive('df-f26d09ea-11d3-4dad-ab14-96457eb45b0f')\"\n",
              "              title=\"Convert this dataframe to an interactive table.\"\n",
              "              style=\"display:none;\">\n",
              "        \n",
              "  <svg xmlns=\"http://www.w3.org/2000/svg\" height=\"24px\"viewBox=\"0 0 24 24\"\n",
              "       width=\"24px\">\n",
              "    <path d=\"M0 0h24v24H0V0z\" fill=\"none\"/>\n",
              "    <path d=\"M18.56 5.44l.94 2.06.94-2.06 2.06-.94-2.06-.94-.94-2.06-.94 2.06-2.06.94zm-11 1L8.5 8.5l.94-2.06 2.06-.94-2.06-.94L8.5 2.5l-.94 2.06-2.06.94zm10 10l.94 2.06.94-2.06 2.06-.94-2.06-.94-.94-2.06-.94 2.06-2.06.94z\"/><path d=\"M17.41 7.96l-1.37-1.37c-.4-.4-.92-.59-1.43-.59-.52 0-1.04.2-1.43.59L10.3 9.45l-7.72 7.72c-.78.78-.78 2.05 0 2.83L4 21.41c.39.39.9.59 1.41.59.51 0 1.02-.2 1.41-.59l7.78-7.78 2.81-2.81c.8-.78.8-2.07 0-2.86zM5.41 20L4 18.59l7.72-7.72 1.47 1.35L5.41 20z\"/>\n",
              "  </svg>\n",
              "      </button>\n",
              "      \n",
              "  <style>\n",
              "    .colab-df-container {\n",
              "      display:flex;\n",
              "      flex-wrap:wrap;\n",
              "      gap: 12px;\n",
              "    }\n",
              "\n",
              "    .colab-df-convert {\n",
              "      background-color: #E8F0FE;\n",
              "      border: none;\n",
              "      border-radius: 50%;\n",
              "      cursor: pointer;\n",
              "      display: none;\n",
              "      fill: #1967D2;\n",
              "      height: 32px;\n",
              "      padding: 0 0 0 0;\n",
              "      width: 32px;\n",
              "    }\n",
              "\n",
              "    .colab-df-convert:hover {\n",
              "      background-color: #E2EBFA;\n",
              "      box-shadow: 0px 1px 2px rgba(60, 64, 67, 0.3), 0px 1px 3px 1px rgba(60, 64, 67, 0.15);\n",
              "      fill: #174EA6;\n",
              "    }\n",
              "\n",
              "    [theme=dark] .colab-df-convert {\n",
              "      background-color: #3B4455;\n",
              "      fill: #D2E3FC;\n",
              "    }\n",
              "\n",
              "    [theme=dark] .colab-df-convert:hover {\n",
              "      background-color: #434B5C;\n",
              "      box-shadow: 0px 1px 3px 1px rgba(0, 0, 0, 0.15);\n",
              "      filter: drop-shadow(0px 1px 2px rgba(0, 0, 0, 0.3));\n",
              "      fill: #FFFFFF;\n",
              "    }\n",
              "  </style>\n",
              "\n",
              "      <script>\n",
              "        const buttonEl =\n",
              "          document.querySelector('#df-f26d09ea-11d3-4dad-ab14-96457eb45b0f button.colab-df-convert');\n",
              "        buttonEl.style.display =\n",
              "          google.colab.kernel.accessAllowed ? 'block' : 'none';\n",
              "\n",
              "        async function convertToInteractive(key) {\n",
              "          const element = document.querySelector('#df-f26d09ea-11d3-4dad-ab14-96457eb45b0f');\n",
              "          const dataTable =\n",
              "            await google.colab.kernel.invokeFunction('convertToInteractive',\n",
              "                                                     [key], {});\n",
              "          if (!dataTable) return;\n",
              "\n",
              "          const docLinkHtml = 'Like what you see? Visit the ' +\n",
              "            '<a target=\"_blank\" href=https://colab.research.google.com/notebooks/data_table.ipynb>data table notebook</a>'\n",
              "            + ' to learn more about interactive tables.';\n",
              "          element.innerHTML = '';\n",
              "          dataTable['output_type'] = 'display_data';\n",
              "          await google.colab.output.renderOutput(dataTable, element);\n",
              "          const docLink = document.createElement('div');\n",
              "          docLink.innerHTML = docLinkHtml;\n",
              "          element.appendChild(docLink);\n",
              "        }\n",
              "      </script>\n",
              "    </div>\n",
              "  </div>\n",
              "  "
            ]
          },
          "metadata": {},
          "execution_count": 11
        }
      ],
      "source": [
        "df.head()\n",
        "# Loading the dataset"
      ]
    },
    {
      "cell_type": "code",
      "execution_count": 12,
      "id": "65e9bb88",
      "metadata": {
        "execution": {
          "iopub.execute_input": "2022-03-31T11:19:17.110544Z",
          "iopub.status.busy": "2022-03-31T11:19:17.109627Z",
          "iopub.status.idle": "2022-03-31T11:19:17.113781Z",
          "shell.execute_reply": "2022-03-31T11:19:17.113135Z",
          "shell.execute_reply.started": "2022-03-31T11:10:53.202874Z"
        },
        "papermill": {
          "duration": 0.090433,
          "end_time": "2022-03-31T11:19:17.113923",
          "exception": false,
          "start_time": "2022-03-31T11:19:17.023490",
          "status": "completed"
        },
        "tags": [],
        "colab": {
          "base_uri": "https://localhost:8080/"
        },
        "id": "65e9bb88",
        "outputId": "f117ed71-2074-4b20-8593-85ed6370ff74"
      },
      "outputs": [
        {
          "output_type": "execute_result",
          "data": {
            "text/plain": [
              "(435742, 13)"
            ]
          },
          "metadata": {},
          "execution_count": 12
        }
      ],
      "source": [
        "df.shape\n",
        "# As we can see that there are 4,35,742 rows and 13 columns in the dataset"
      ]
    },
    {
      "cell_type": "code",
      "execution_count": 13,
      "id": "6990e64c",
      "metadata": {
        "execution": {
          "iopub.execute_input": "2022-03-31T11:19:17.276854Z",
          "iopub.status.busy": "2022-03-31T11:19:17.276175Z",
          "iopub.status.idle": "2022-03-31T11:19:17.644873Z",
          "shell.execute_reply": "2022-03-31T11:19:17.645425Z",
          "shell.execute_reply.started": "2022-03-31T11:10:53.209797Z"
        },
        "papermill": {
          "duration": 0.453117,
          "end_time": "2022-03-31T11:19:17.645668",
          "exception": false,
          "start_time": "2022-03-31T11:19:17.192551",
          "status": "completed"
        },
        "tags": [],
        "colab": {
          "base_uri": "https://localhost:8080/"
        },
        "id": "6990e64c",
        "outputId": "343de50c-46c5-4281-92bb-3ba0d15c0891"
      },
      "outputs": [
        {
          "output_type": "stream",
          "name": "stdout",
          "text": [
            "<class 'pandas.core.frame.DataFrame'>\n",
            "RangeIndex: 435742 entries, 0 to 435741\n",
            "Data columns (total 13 columns):\n",
            " #   Column                       Non-Null Count   Dtype  \n",
            "---  ------                       --------------   -----  \n",
            " 0   stn_code                     291665 non-null  object \n",
            " 1   sampling_date                435739 non-null  object \n",
            " 2   state                        435742 non-null  object \n",
            " 3   location                     435739 non-null  object \n",
            " 4   agency                       286261 non-null  object \n",
            " 5   type                         430349 non-null  object \n",
            " 6   so2                          401096 non-null  float64\n",
            " 7   no2                          419509 non-null  float64\n",
            " 8   rspm                         395520 non-null  float64\n",
            " 9   spm                          198355 non-null  float64\n",
            " 10  location_monitoring_station  408251 non-null  object \n",
            " 11  pm2_5                        9314 non-null    float64\n",
            " 12  date                         435735 non-null  object \n",
            "dtypes: float64(5), object(8)\n",
            "memory usage: 43.2+ MB\n"
          ]
        }
      ],
      "source": [
        "df.info()\n",
        "# Checking the over all information on the dataset."
      ]
    },
    {
      "cell_type": "code",
      "execution_count": 14,
      "id": "e6e8c6f7",
      "metadata": {
        "execution": {
          "iopub.execute_input": "2022-03-31T11:19:17.814351Z",
          "iopub.status.busy": "2022-03-31T11:19:17.813696Z",
          "iopub.status.idle": "2022-03-31T11:19:18.164034Z",
          "shell.execute_reply": "2022-03-31T11:19:18.163462Z",
          "shell.execute_reply.started": "2022-03-31T11:10:53.579825Z"
        },
        "papermill": {
          "duration": 0.43764,
          "end_time": "2022-03-31T11:19:18.164183",
          "exception": false,
          "start_time": "2022-03-31T11:19:17.726543",
          "status": "completed"
        },
        "tags": [],
        "colab": {
          "base_uri": "https://localhost:8080/"
        },
        "id": "e6e8c6f7",
        "outputId": "fad8b79e-8a85-4605-a05d-5fe5f1e9d862"
      },
      "outputs": [
        {
          "output_type": "execute_result",
          "data": {
            "text/plain": [
              "stn_code                       144077\n",
              "sampling_date                       3\n",
              "state                               0\n",
              "location                            3\n",
              "agency                         149481\n",
              "type                             5393\n",
              "so2                             34646\n",
              "no2                             16233\n",
              "rspm                            40222\n",
              "spm                            237387\n",
              "location_monitoring_station     27491\n",
              "pm2_5                          426428\n",
              "date                                7\n",
              "dtype: int64"
            ]
          },
          "metadata": {},
          "execution_count": 14
        }
      ],
      "source": [
        "df.isnull().sum()\n",
        "# There are a lot of missing values present in the dataset"
      ]
    },
    {
      "cell_type": "code",
      "execution_count": 15,
      "id": "7bbae519",
      "metadata": {
        "execution": {
          "iopub.execute_input": "2022-03-31T11:19:18.337575Z",
          "iopub.status.busy": "2022-03-31T11:19:18.336884Z",
          "iopub.status.idle": "2022-03-31T11:19:18.420093Z",
          "shell.execute_reply": "2022-03-31T11:19:18.419573Z",
          "shell.execute_reply.started": "2022-03-31T11:10:53.926722Z"
        },
        "papermill": {
          "duration": 0.176048,
          "end_time": "2022-03-31T11:19:18.420229",
          "exception": false,
          "start_time": "2022-03-31T11:19:18.244181",
          "status": "completed"
        },
        "tags": [],
        "colab": {
          "base_uri": "https://localhost:8080/",
          "height": 300
        },
        "id": "7bbae519",
        "outputId": "a206dea6-3114-4125-8719-134fe9b5a145"
      },
      "outputs": [
        {
          "output_type": "execute_result",
          "data": {
            "text/plain": [
              "                 so2            no2           rspm            spm        pm2_5\n",
              "count  401096.000000  419509.000000  395520.000000  198355.000000  9314.000000\n",
              "mean       10.829414      25.809623     108.832784     220.783480    40.791467\n",
              "std        11.177187      18.503086      74.872430     151.395457    30.832525\n",
              "min         0.000000       0.000000       0.000000       0.000000     3.000000\n",
              "25%         5.000000      14.000000      56.000000     111.000000    24.000000\n",
              "50%         8.000000      22.000000      90.000000     187.000000    32.000000\n",
              "75%        13.700000      32.200000     142.000000     296.000000    46.000000\n",
              "max       909.000000     876.000000    6307.033333    3380.000000   504.000000"
            ],
            "text/html": [
              "\n",
              "  <div id=\"df-665e7bd8-63d7-4a9d-afd0-301df93b8274\">\n",
              "    <div class=\"colab-df-container\">\n",
              "      <div>\n",
              "<style scoped>\n",
              "    .dataframe tbody tr th:only-of-type {\n",
              "        vertical-align: middle;\n",
              "    }\n",
              "\n",
              "    .dataframe tbody tr th {\n",
              "        vertical-align: top;\n",
              "    }\n",
              "\n",
              "    .dataframe thead th {\n",
              "        text-align: right;\n",
              "    }\n",
              "</style>\n",
              "<table border=\"1\" class=\"dataframe\">\n",
              "  <thead>\n",
              "    <tr style=\"text-align: right;\">\n",
              "      <th></th>\n",
              "      <th>so2</th>\n",
              "      <th>no2</th>\n",
              "      <th>rspm</th>\n",
              "      <th>spm</th>\n",
              "      <th>pm2_5</th>\n",
              "    </tr>\n",
              "  </thead>\n",
              "  <tbody>\n",
              "    <tr>\n",
              "      <th>count</th>\n",
              "      <td>401096.000000</td>\n",
              "      <td>419509.000000</td>\n",
              "      <td>395520.000000</td>\n",
              "      <td>198355.000000</td>\n",
              "      <td>9314.000000</td>\n",
              "    </tr>\n",
              "    <tr>\n",
              "      <th>mean</th>\n",
              "      <td>10.829414</td>\n",
              "      <td>25.809623</td>\n",
              "      <td>108.832784</td>\n",
              "      <td>220.783480</td>\n",
              "      <td>40.791467</td>\n",
              "    </tr>\n",
              "    <tr>\n",
              "      <th>std</th>\n",
              "      <td>11.177187</td>\n",
              "      <td>18.503086</td>\n",
              "      <td>74.872430</td>\n",
              "      <td>151.395457</td>\n",
              "      <td>30.832525</td>\n",
              "    </tr>\n",
              "    <tr>\n",
              "      <th>min</th>\n",
              "      <td>0.000000</td>\n",
              "      <td>0.000000</td>\n",
              "      <td>0.000000</td>\n",
              "      <td>0.000000</td>\n",
              "      <td>3.000000</td>\n",
              "    </tr>\n",
              "    <tr>\n",
              "      <th>25%</th>\n",
              "      <td>5.000000</td>\n",
              "      <td>14.000000</td>\n",
              "      <td>56.000000</td>\n",
              "      <td>111.000000</td>\n",
              "      <td>24.000000</td>\n",
              "    </tr>\n",
              "    <tr>\n",
              "      <th>50%</th>\n",
              "      <td>8.000000</td>\n",
              "      <td>22.000000</td>\n",
              "      <td>90.000000</td>\n",
              "      <td>187.000000</td>\n",
              "      <td>32.000000</td>\n",
              "    </tr>\n",
              "    <tr>\n",
              "      <th>75%</th>\n",
              "      <td>13.700000</td>\n",
              "      <td>32.200000</td>\n",
              "      <td>142.000000</td>\n",
              "      <td>296.000000</td>\n",
              "      <td>46.000000</td>\n",
              "    </tr>\n",
              "    <tr>\n",
              "      <th>max</th>\n",
              "      <td>909.000000</td>\n",
              "      <td>876.000000</td>\n",
              "      <td>6307.033333</td>\n",
              "      <td>3380.000000</td>\n",
              "      <td>504.000000</td>\n",
              "    </tr>\n",
              "  </tbody>\n",
              "</table>\n",
              "</div>\n",
              "      <button class=\"colab-df-convert\" onclick=\"convertToInteractive('df-665e7bd8-63d7-4a9d-afd0-301df93b8274')\"\n",
              "              title=\"Convert this dataframe to an interactive table.\"\n",
              "              style=\"display:none;\">\n",
              "        \n",
              "  <svg xmlns=\"http://www.w3.org/2000/svg\" height=\"24px\"viewBox=\"0 0 24 24\"\n",
              "       width=\"24px\">\n",
              "    <path d=\"M0 0h24v24H0V0z\" fill=\"none\"/>\n",
              "    <path d=\"M18.56 5.44l.94 2.06.94-2.06 2.06-.94-2.06-.94-.94-2.06-.94 2.06-2.06.94zm-11 1L8.5 8.5l.94-2.06 2.06-.94-2.06-.94L8.5 2.5l-.94 2.06-2.06.94zm10 10l.94 2.06.94-2.06 2.06-.94-2.06-.94-.94-2.06-.94 2.06-2.06.94z\"/><path d=\"M17.41 7.96l-1.37-1.37c-.4-.4-.92-.59-1.43-.59-.52 0-1.04.2-1.43.59L10.3 9.45l-7.72 7.72c-.78.78-.78 2.05 0 2.83L4 21.41c.39.39.9.59 1.41.59.51 0 1.02-.2 1.41-.59l7.78-7.78 2.81-2.81c.8-.78.8-2.07 0-2.86zM5.41 20L4 18.59l7.72-7.72 1.47 1.35L5.41 20z\"/>\n",
              "  </svg>\n",
              "      </button>\n",
              "      \n",
              "  <style>\n",
              "    .colab-df-container {\n",
              "      display:flex;\n",
              "      flex-wrap:wrap;\n",
              "      gap: 12px;\n",
              "    }\n",
              "\n",
              "    .colab-df-convert {\n",
              "      background-color: #E8F0FE;\n",
              "      border: none;\n",
              "      border-radius: 50%;\n",
              "      cursor: pointer;\n",
              "      display: none;\n",
              "      fill: #1967D2;\n",
              "      height: 32px;\n",
              "      padding: 0 0 0 0;\n",
              "      width: 32px;\n",
              "    }\n",
              "\n",
              "    .colab-df-convert:hover {\n",
              "      background-color: #E2EBFA;\n",
              "      box-shadow: 0px 1px 2px rgba(60, 64, 67, 0.3), 0px 1px 3px 1px rgba(60, 64, 67, 0.15);\n",
              "      fill: #174EA6;\n",
              "    }\n",
              "\n",
              "    [theme=dark] .colab-df-convert {\n",
              "      background-color: #3B4455;\n",
              "      fill: #D2E3FC;\n",
              "    }\n",
              "\n",
              "    [theme=dark] .colab-df-convert:hover {\n",
              "      background-color: #434B5C;\n",
              "      box-shadow: 0px 1px 3px 1px rgba(0, 0, 0, 0.15);\n",
              "      filter: drop-shadow(0px 1px 2px rgba(0, 0, 0, 0.3));\n",
              "      fill: #FFFFFF;\n",
              "    }\n",
              "  </style>\n",
              "\n",
              "      <script>\n",
              "        const buttonEl =\n",
              "          document.querySelector('#df-665e7bd8-63d7-4a9d-afd0-301df93b8274 button.colab-df-convert');\n",
              "        buttonEl.style.display =\n",
              "          google.colab.kernel.accessAllowed ? 'block' : 'none';\n",
              "\n",
              "        async function convertToInteractive(key) {\n",
              "          const element = document.querySelector('#df-665e7bd8-63d7-4a9d-afd0-301df93b8274');\n",
              "          const dataTable =\n",
              "            await google.colab.kernel.invokeFunction('convertToInteractive',\n",
              "                                                     [key], {});\n",
              "          if (!dataTable) return;\n",
              "\n",
              "          const docLinkHtml = 'Like what you see? Visit the ' +\n",
              "            '<a target=\"_blank\" href=https://colab.research.google.com/notebooks/data_table.ipynb>data table notebook</a>'\n",
              "            + ' to learn more about interactive tables.';\n",
              "          element.innerHTML = '';\n",
              "          dataTable['output_type'] = 'display_data';\n",
              "          await google.colab.output.renderOutput(dataTable, element);\n",
              "          const docLink = document.createElement('div');\n",
              "          docLink.innerHTML = docLinkHtml;\n",
              "          element.appendChild(docLink);\n",
              "        }\n",
              "      </script>\n",
              "    </div>\n",
              "  </div>\n",
              "  "
            ]
          },
          "metadata": {},
          "execution_count": 15
        }
      ],
      "source": [
        "df.describe()\n",
        "# Checking the descriptive stats of the numeric values present in the data like mean, standard deviation, min values and max value present in the data"
      ]
    },
    {
      "cell_type": "code",
      "execution_count": 16,
      "id": "75492cf3",
      "metadata": {
        "execution": {
          "iopub.execute_input": "2022-03-31T11:19:18.584834Z",
          "iopub.status.busy": "2022-03-31T11:19:18.584190Z",
          "iopub.status.idle": "2022-03-31T11:19:18.952368Z",
          "shell.execute_reply": "2022-03-31T11:19:18.951864Z",
          "shell.execute_reply.started": "2022-03-31T11:10:54.019504Z"
        },
        "papermill": {
          "duration": 0.451122,
          "end_time": "2022-03-31T11:19:18.952541",
          "exception": false,
          "start_time": "2022-03-31T11:19:18.501419",
          "status": "completed"
        },
        "tags": [],
        "colab": {
          "base_uri": "https://localhost:8080/"
        },
        "id": "75492cf3",
        "outputId": "1d5d15cf-d69b-4048-f8a6-38328dd2c0b9"
      },
      "outputs": [
        {
          "output_type": "execute_result",
          "data": {
            "text/plain": [
              "stn_code                        803\n",
              "sampling_date                  5485\n",
              "state                            37\n",
              "location                        304\n",
              "agency                           64\n",
              "type                             10\n",
              "so2                            4197\n",
              "no2                            6864\n",
              "rspm                           6065\n",
              "spm                            6668\n",
              "location_monitoring_station     991\n",
              "pm2_5                           433\n",
              "date                           5067\n",
              "dtype: int64"
            ]
          },
          "metadata": {},
          "execution_count": 16
        }
      ],
      "source": [
        "df.nunique()\n",
        "# These are all the unique values present in the dataframe"
      ]
    },
    {
      "cell_type": "code",
      "execution_count": 17,
      "id": "4468079b",
      "metadata": {
        "execution": {
          "iopub.execute_input": "2022-03-31T11:19:19.119107Z",
          "iopub.status.busy": "2022-03-31T11:19:19.118464Z",
          "iopub.status.idle": "2022-03-31T11:19:19.123362Z",
          "shell.execute_reply": "2022-03-31T11:19:19.123977Z",
          "shell.execute_reply.started": "2022-03-31T11:10:54.412701Z"
        },
        "papermill": {
          "duration": 0.089051,
          "end_time": "2022-03-31T11:19:19.124141",
          "exception": false,
          "start_time": "2022-03-31T11:19:19.035090",
          "status": "completed"
        },
        "tags": [],
        "colab": {
          "base_uri": "https://localhost:8080/"
        },
        "id": "4468079b",
        "outputId": "4f2eb974-2297-4ea4-9e75-03d48a96583f"
      },
      "outputs": [
        {
          "output_type": "execute_result",
          "data": {
            "text/plain": [
              "Index(['stn_code', 'sampling_date', 'state', 'location', 'agency', 'type',\n",
              "       'so2', 'no2', 'rspm', 'spm', 'location_monitoring_station', 'pm2_5',\n",
              "       'date'],\n",
              "      dtype='object')"
            ]
          },
          "metadata": {},
          "execution_count": 17
        }
      ],
      "source": [
        "df.columns\n",
        "# These are all the columns present in the dataset."
      ]
    },
    {
      "cell_type": "markdown",
      "id": "b30a15b5",
      "metadata": {
        "papermill": {
          "duration": 0.080324,
          "end_time": "2022-03-31T11:19:19.285878",
          "exception": false,
          "start_time": "2022-03-31T11:19:19.205554",
          "status": "completed"
        },
        "tags": [],
        "id": "b30a15b5"
      },
      "source": [
        "stn_code (station code)\n",
        "sampling_date (date of sample collection)\n",
        "state (Indian State)\n",
        "location (location of sample collection)\n",
        "agency\n",
        "type (type of area)\n",
        "so2 (sulphur dioxide concentration)\n",
        "no2 (nitrogen dioxide concentration)\n",
        "rspm (respirable suspended particualte matter concentration)\n",
        "spm (suspended particulate matter)\n",
        "location_monitoring_station\n",
        "pm2_5 (particulate matter 2.5)\n",
        "date (date)"
      ]
    },
    {
      "cell_type": "markdown",
      "id": "6ab84642",
      "metadata": {
        "papermill": {
          "duration": 0.080359,
          "end_time": "2022-03-31T11:19:19.447324",
          "exception": false,
          "start_time": "2022-03-31T11:19:19.366965",
          "status": "completed"
        },
        "tags": [],
        "id": "6ab84642"
      },
      "source": [
        "## Data Visualization"
      ]
    },
    {
      "cell_type": "code",
      "execution_count": 18,
      "id": "0b096fbc",
      "metadata": {
        "execution": {
          "iopub.execute_input": "2022-03-31T11:19:19.613543Z",
          "iopub.status.busy": "2022-03-31T11:19:19.612914Z",
          "iopub.status.idle": "2022-03-31T11:19:58.237126Z",
          "shell.execute_reply": "2022-03-31T11:19:58.237697Z",
          "shell.execute_reply.started": "2022-03-31T11:10:54.419791Z"
        },
        "papermill": {
          "duration": 38.708521,
          "end_time": "2022-03-31T11:19:58.237876",
          "exception": false,
          "start_time": "2022-03-31T11:19:19.529355",
          "status": "completed"
        },
        "tags": [],
        "colab": {
          "base_uri": "https://localhost:8080/",
          "height": 920
        },
        "id": "0b096fbc",
        "outputId": "85afa4b2-6d1b-4e88-8bcd-a47f31f68c18"
      },
      "outputs": [
        {
          "output_type": "execute_result",
          "data": {
            "text/plain": [
              "<seaborn.axisgrid.PairGrid at 0x7f4bd1eddf70>"
            ]
          },
          "metadata": {},
          "execution_count": 18
        },
        {
          "output_type": "display_data",
          "data": {
            "text/plain": [
              "<Figure size 900x900 with 30 Axes>"
            ],
            "image/png": "[encoded data removed]"
          },
          "metadata": {
            "needs_background": "light"
          }
        }
      ],
      "source": [
        "sns.pairplot(data=df)"
      ]
    },
    {
      "cell_type": "code",
      "execution_count": 19,
      "id": "2f0467ea",
      "metadata": {
        "execution": {
          "iopub.execute_input": "2022-03-31T11:19:58.465535Z",
          "iopub.status.busy": "2022-03-31T11:19:58.464839Z",
          "iopub.status.idle": "2022-03-31T11:19:58.470667Z",
          "shell.execute_reply": "2022-03-31T11:19:58.471120Z",
          "shell.execute_reply.started": "2022-03-31T11:11:33.090220Z"
        },
        "papermill": {
          "duration": 0.147965,
          "end_time": "2022-03-31T11:19:58.471291",
          "exception": false,
          "start_time": "2022-03-31T11:19:58.323326",
          "status": "completed"
        },
        "tags": [],
        "colab": {
          "base_uri": "https://localhost:8080/"
        },
        "id": "2f0467ea",
        "outputId": "f71d8662-0f19-4765-eccd-aa676e120eb2"
      },
      "outputs": [
        {
          "output_type": "execute_result",
          "data": {
            "text/plain": [
              "Maharashtra                    60384\n",
              "Uttar Pradesh                  42816\n",
              "Andhra Pradesh                 26368\n",
              "Punjab                         25634\n",
              "Rajasthan                      25589\n",
              "Kerala                         24728\n",
              "Himachal Pradesh               22896\n",
              "West Bengal                    22463\n",
              "Gujarat                        21279\n",
              "Tamil Nadu                     20597\n",
              "Madhya Pradesh                 19920\n",
              "Assam                          19361\n",
              "Odisha                         19279\n",
              "Karnataka                      17119\n",
              "Delhi                           8551\n",
              "Chandigarh                      8520\n",
              "Chhattisgarh                    7831\n",
              "Goa                             6206\n",
              "Jharkhand                       5968\n",
              "Mizoram                         5338\n",
              "Telangana                       3978\n",
              "Meghalaya                       3853\n",
              "Puducherry                      3785\n",
              "Haryana                         3420\n",
              "Nagaland                        2463\n",
              "Bihar                           2275\n",
              "Uttarakhand                     1961\n",
              "Jammu & Kashmir                 1289\n",
              "Daman & Diu                      782\n",
              "Dadra & Nagar Haveli             634\n",
              "Uttaranchal                      285\n",
              "Arunachal Pradesh                 90\n",
              "Manipur                           76\n",
              "Sikkim                             1\n",
              "andaman-and-nicobar-islands        1\n",
              "Lakshadweep                        1\n",
              "Tripura                            1\n",
              "Name: state, dtype: int64"
            ]
          },
          "metadata": {},
          "execution_count": 19
        }
      ],
      "source": [
        "df['state'].value_counts()\n",
        "# Viewing the count of values present in the state column"
      ]
    },
    {
      "cell_type": "code",
      "execution_count": 20,
      "id": "e05aa8af",
      "metadata": {
        "execution": {
          "iopub.execute_input": "2022-03-31T11:19:58.648240Z",
          "iopub.status.busy": "2022-03-31T11:19:58.647620Z",
          "iopub.status.idle": "2022-03-31T11:19:59.312599Z",
          "shell.execute_reply": "2022-03-31T11:19:59.313083Z",
          "shell.execute_reply.started": "2022-03-31T11:11:33.151717Z"
        },
        "papermill": {
          "duration": 0.754835,
          "end_time": "2022-03-31T11:19:59.313247",
          "exception": false,
          "start_time": "2022-03-31T11:19:58.558412",
          "status": "completed"
        },
        "tags": [],
        "colab": {
          "base_uri": "https://localhost:8080/",
          "height": 544
        },
        "id": "e05aa8af",
        "outputId": "744589a1-9ebd-4fd2-c991-02c13a998056"
      },
      "outputs": [
        {
          "output_type": "execute_result",
          "data": {
            "text/plain": [
              "[]"
            ]
          },
          "metadata": {},
          "execution_count": 20
        },
        {
          "output_type": "display_data",
          "data": {
            "text/plain": [
              "<Figure size 1080x432 with 1 Axes>"
            ],
            "image/png": "[encoded data removed]"
          },
          "metadata": {
            "needs_background": "light"
          }
        }
      ],
      "source": [
        "plt.figure(figsize=(15, 6))\n",
        "plt.xticks(rotation=90)\n",
        "df.state.hist()\n",
        "plt.xlabel('state')\n",
        "plt.ylabel('Frequencies')\n",
        "plt.plot()\n",
        "# The visualization shows us the count of states present in the dataset."
      ]
    },
    {
      "cell_type": "code",
      "execution_count": 21,
      "id": "c7c6c057",
      "metadata": {
        "execution": {
          "iopub.execute_input": "2022-03-31T11:19:59.494640Z",
          "iopub.status.busy": "2022-03-31T11:19:59.494000Z",
          "iopub.status.idle": "2022-03-31T11:19:59.566308Z",
          "shell.execute_reply": "2022-03-31T11:19:59.565798Z",
          "shell.execute_reply.started": "2022-03-31T11:11:33.818984Z"
        },
        "papermill": {
          "duration": 0.164631,
          "end_time": "2022-03-31T11:19:59.566448",
          "exception": false,
          "start_time": "2022-03-31T11:19:59.401817",
          "status": "completed"
        },
        "tags": [],
        "colab": {
          "base_uri": "https://localhost:8080/"
        },
        "id": "c7c6c057",
        "outputId": "a6e13325-aec8-410d-8e63-c73d847dde34"
      },
      "outputs": [
        {
          "output_type": "execute_result",
          "data": {
            "text/plain": [
              "Residential, Rural and other Areas    179014\n",
              "Industrial Area                        96091\n",
              "Residential and others                 86791\n",
              "Industrial Areas                       51747\n",
              "Sensitive Area                          8980\n",
              "Sensitive Areas                         5536\n",
              "RIRUO                                   1304\n",
              "Sensitive                                495\n",
              "Industrial                               233\n",
              "Residential                              158\n",
              "Name: type, dtype: int64"
            ]
          },
          "metadata": {},
          "execution_count": 21
        }
      ],
      "source": [
        "df['type'].value_counts()\n",
        "# Viewing the count of values present in the type column"
      ]
    },
    {
      "cell_type": "code",
      "execution_count": 22,
      "id": "04518632",
      "metadata": {
        "execution": {
          "iopub.execute_input": "2022-03-31T11:19:59.770531Z",
          "iopub.status.busy": "2022-03-31T11:19:59.769387Z",
          "iopub.status.idle": "2022-03-31T11:20:00.264632Z",
          "shell.execute_reply": "2022-03-31T11:20:00.264092Z",
          "shell.execute_reply.started": "2022-03-31T11:11:33.895797Z"
        },
        "papermill": {
          "duration": 0.609534,
          "end_time": "2022-03-31T11:20:00.264769",
          "exception": false,
          "start_time": "2022-03-31T11:19:59.655235",
          "status": "completed"
        },
        "tags": [],
        "colab": {
          "base_uri": "https://localhost:8080/",
          "height": 565
        },
        "id": "04518632",
        "outputId": "171f6c66-bcea-4da6-bf4a-ecb53ed67c3d"
      },
      "outputs": [
        {
          "output_type": "execute_result",
          "data": {
            "text/plain": [
              "[]"
            ]
          },
          "metadata": {},
          "execution_count": 22
        },
        {
          "output_type": "display_data",
          "data": {
            "text/plain": [
              "<Figure size 1080x432 with 1 Axes>"
            ],
            "image/png": "[encoded data removed]"
          },
          "metadata": {
            "needs_background": "light"
          }
        }
      ],
      "source": [
        "plt.figure(figsize=(15, 6))\n",
        "plt.xticks(rotation=90)\n",
        "df.type.hist()\n",
        "plt.xlabel('Type')\n",
        "plt.ylabel('Frequencies')\n",
        "plt.plot()\n",
        "# The visualization shows us the count of Types present in the dataset."
      ]
    },
    {
      "cell_type": "code",
      "execution_count": 23,
      "id": "74032b79",
      "metadata": {
        "execution": {
          "iopub.execute_input": "2022-03-31T11:20:00.491229Z",
          "iopub.status.busy": "2022-03-31T11:20:00.488397Z",
          "iopub.status.idle": "2022-03-31T11:20:00.495554Z",
          "shell.execute_reply": "2022-03-31T11:20:00.496020Z",
          "shell.execute_reply.started": "2022-03-31T11:11:34.419262Z"
        },
        "papermill": {
          "duration": 0.141563,
          "end_time": "2022-03-31T11:20:00.496194",
          "exception": false,
          "start_time": "2022-03-31T11:20:00.354631",
          "status": "completed"
        },
        "tags": [],
        "colab": {
          "base_uri": "https://localhost:8080/"
        },
        "id": "74032b79",
        "outputId": "833ed1eb-2445-4aac-91fd-00af1e21e3d9"
      },
      "outputs": [
        {
          "output_type": "execute_result",
          "data": {
            "text/plain": [
              "Maharashtra State Pollution Control Board                                 27857\n",
              "Uttar Pradesh State Pollution Control Board                               22686\n",
              "Andhra Pradesh State Pollution Control Board                              19139\n",
              "Himachal Pradesh State Environment Proection & Pollution Control Board    15287\n",
              "Punjab State Pollution Control Board                                      15232\n",
              "                                                                          ...  \n",
              "Arunachal Pradesh State Pollution Control Board                              90\n",
              "TNPC                                                                         82\n",
              "RPCB                                                                         63\n",
              "VRCE                                                                         61\n",
              "RJPB                                                                         53\n",
              "Name: agency, Length: 64, dtype: int64"
            ]
          },
          "metadata": {},
          "execution_count": 23
        }
      ],
      "source": [
        "df['agency'].value_counts()\n",
        "# Viewing the counts of values present in the agency column"
      ]
    },
    {
      "cell_type": "code",
      "execution_count": 24,
      "id": "fb323d73",
      "metadata": {
        "execution": {
          "iopub.execute_input": "2022-03-31T11:20:00.683163Z",
          "iopub.status.busy": "2022-03-31T11:20:00.682551Z",
          "iopub.status.idle": "2022-03-31T11:20:02.549238Z",
          "shell.execute_reply": "2022-03-31T11:20:02.549740Z",
          "shell.execute_reply.started": "2022-03-31T11:11:34.473123Z"
        },
        "papermill": {
          "duration": 1.961497,
          "end_time": "2022-03-31T11:20:02.549910",
          "exception": false,
          "start_time": "2022-03-31T11:20:00.588413",
          "status": "completed"
        },
        "tags": [],
        "colab": {
          "base_uri": "https://localhost:8080/",
          "height": 760
        },
        "id": "fb323d73",
        "outputId": "cddcd67c-b739-4d7e-d727-4fe7fd90615f"
      },
      "outputs": [
        {
          "output_type": "execute_result",
          "data": {
            "text/plain": [
              "[]"
            ]
          },
          "metadata": {},
          "execution_count": 24
        },
        {
          "output_type": "display_data",
          "data": {
            "text/plain": [
              "<Figure size 1080x432 with 1 Axes>"
            ],
            "image/png": "[encoded data removed]"
          },
          "metadata": {
            "needs_background": "light"
          }
        }
      ],
      "source": [
        "plt.figure(figsize=(15, 6))\n",
        "plt.xticks(rotation=90)\n",
        "df.agency.hist()\n",
        "plt.xlabel('Agency')\n",
        "plt.ylabel('Frequencies')\n",
        "plt.plot()\n",
        "# The visualization shows us the count of Agency present in the dataset."
      ]
    },
    {
      "cell_type": "code",
      "execution_count": 25,
      "id": "ccdb20de",
      "metadata": {
        "execution": {
          "iopub.execute_input": "2022-03-31T11:20:02.760904Z",
          "iopub.status.busy": "2022-03-31T11:20:02.745292Z",
          "iopub.status.idle": "2022-03-31T11:20:08.649221Z",
          "shell.execute_reply": "2022-03-31T11:20:08.649733Z",
          "shell.execute_reply.started": "2022-03-31T11:11:36.355816Z"
        },
        "papermill": {
          "duration": 6.004778,
          "end_time": "2022-03-31T11:20:08.649905",
          "exception": false,
          "start_time": "2022-03-31T11:20:02.645127",
          "status": "completed"
        },
        "tags": [],
        "colab": {
          "base_uri": "https://localhost:8080/",
          "height": 506
        },
        "id": "ccdb20de",
        "outputId": "14dd0723-55db-46ce-903f-8902fa539863"
      },
      "outputs": [
        {
          "output_type": "display_data",
          "data": {
            "text/plain": [
              "<Figure size 2160x720 with 1 Axes>"
            ],
            "image/png": "[encoded data removed]"
          },
          "metadata": {
            "needs_background": "light"
          }
        }
      ],
      "source": [
        "plt.figure(figsize=(30, 10))\n",
        "plt.xticks(rotation=90)\n",
        "sns.barplot(x='state',y='so2',data=df);\n",
        "# This visualization shows the name of the state having higher so2 levels in the air which is Uttaranchal followed by Uttarakhand"
      ]
    },
    {
      "cell_type": "code",
      "execution_count": 26,
      "id": "6876c0b8",
      "metadata": {
        "execution": {
          "iopub.execute_input": "2022-03-31T11:20:08.847675Z",
          "iopub.status.busy": "2022-03-31T11:20:08.846989Z",
          "iopub.status.idle": "2022-03-31T11:20:08.848666Z",
          "shell.execute_reply": "2022-03-31T11:20:08.849098Z",
          "shell.execute_reply.started": "2022-03-31T11:11:42.250196Z"
        },
        "papermill": {
          "duration": 0.103169,
          "end_time": "2022-03-31T11:20:08.849265",
          "exception": false,
          "start_time": "2022-03-31T11:20:08.746096",
          "status": "completed"
        },
        "tags": [],
        "id": "6876c0b8"
      },
      "outputs": [],
      "source": [
        "plt.rcParams['figure.figsize']=(30,10)"
      ]
    },
    {
      "cell_type": "code",
      "execution_count": 79,
      "id": "6b225740",
      "metadata": {
        "execution": {
          "iopub.execute_input": "2022-03-31T11:20:09.050874Z",
          "iopub.status.busy": "2022-03-31T11:20:09.049841Z",
          "iopub.status.idle": "2022-03-31T11:20:09.862870Z",
          "shell.execute_reply": "2022-03-31T11:20:09.863393Z",
          "shell.execute_reply.started": "2022-03-31T11:11:42.256960Z"
        },
        "papermill": {
          "duration": 0.91842,
          "end_time": "2022-03-31T11:20:09.863602",
          "exception": false,
          "start_time": "2022-03-31T11:20:08.945182",
          "status": "completed"
        },
        "tags": [],
        "colab": {
          "base_uri": "https://localhost:8080/",
          "height": 510
        },
        "id": "6b225740",
        "outputId": "be54903f-79c5-4d80-c338-80fdd52d3667"
      },
      "outputs": [
        {
          "output_type": "display_data",
          "data": {
            "text/plain": [
              "<Figure size 2160x720 with 1 Axes>"
            ],
            "image/png": "[encoded data removed]"
          },
          "metadata": {
            "needs_background": "light"
          }
        }
      ],
      "source": [
        "df[['so2','state']].groupby([\"state\"]).mean().sort_values(by='so2').plot.bar(color='red')\n",
        "plt.show()\n",
        "# Below we get a clear picture of the states in an increasing order based on their so2 levels."
      ]
    },
    {
      "cell_type": "code",
      "execution_count": 28,
      "id": "eb356420",
      "metadata": {
        "execution": {
          "iopub.execute_input": "2022-03-31T11:20:10.086537Z",
          "iopub.status.busy": "2022-03-31T11:20:10.085396Z",
          "iopub.status.idle": "2022-03-31T11:20:16.090582Z",
          "shell.execute_reply": "2022-03-31T11:20:16.091076Z",
          "shell.execute_reply.started": "2022-03-31T11:11:43.093646Z"
        },
        "papermill": {
          "duration": 6.12919,
          "end_time": "2022-03-31T11:20:16.091240",
          "exception": false,
          "start_time": "2022-03-31T11:20:09.962050",
          "status": "completed"
        },
        "tags": [],
        "colab": {
          "base_uri": "https://localhost:8080/",
          "height": 506
        },
        "id": "eb356420",
        "outputId": "1d9c7ebf-5e94-47df-f707-9c0c3fcd3fc0"
      },
      "outputs": [
        {
          "output_type": "display_data",
          "data": {
            "text/plain": [
              "<Figure size 2160x720 with 1 Axes>"
            ],
            "image/png": "[encoded data removed]"
          },
          "metadata": {
            "needs_background": "light"
          }
        }
      ],
      "source": [
        "plt.figure(figsize=(30, 10))\n",
        "plt.xticks(rotation=90)\n",
        "sns.barplot(x='state',y='no2',data=df);\n",
        "# West bengal has a higher no2 level compared to other states "
      ]
    },
    {
      "cell_type": "code",
      "execution_count": 80,
      "id": "4f72a855",
      "metadata": {
        "execution": {
          "iopub.execute_input": "2022-03-31T11:20:16.297068Z",
          "iopub.status.busy": "2022-03-31T11:20:16.296035Z",
          "iopub.status.idle": "2022-03-31T11:20:16.820645Z",
          "shell.execute_reply": "2022-03-31T11:20:16.821150Z",
          "shell.execute_reply.started": "2022-03-31T11:11:49.183690Z"
        },
        "papermill": {
          "duration": 0.630876,
          "end_time": "2022-03-31T11:20:16.821318",
          "exception": false,
          "start_time": "2022-03-31T11:20:16.190442",
          "status": "completed"
        },
        "tags": [],
        "colab": {
          "base_uri": "https://localhost:8080/",
          "height": 510
        },
        "id": "4f72a855",
        "outputId": "401ee1cb-952a-4cfc-bb69-d039c1d3c4b2"
      },
      "outputs": [
        {
          "output_type": "display_data",
          "data": {
            "text/plain": [
              "<Figure size 2160x720 with 1 Axes>"
            ],
            "image/png": "[encoded data removed]"
          },
          "metadata": {
            "needs_background": "light"
          }
        }
      ],
      "source": [
        "df[['no2','state']].groupby([\"state\"]).mean().sort_values(by='no2').plot.bar(color='green')\n",
        "plt.show()\n",
        "# Below we get a clear picture of the states in an increasing order based on their no2 levels."
      ]
    },
    {
      "cell_type": "code",
      "execution_count": 30,
      "id": "ea403338",
      "metadata": {
        "execution": {
          "iopub.execute_input": "2022-03-31T11:20:17.130872Z",
          "iopub.status.busy": "2022-03-31T11:20:17.129938Z",
          "iopub.status.idle": "2022-03-31T11:20:22.825524Z",
          "shell.execute_reply": "2022-03-31T11:20:22.824979Z",
          "shell.execute_reply.started": "2022-03-31T11:11:49.734785Z"
        },
        "papermill": {
          "duration": 5.904287,
          "end_time": "2022-03-31T11:20:22.825686",
          "exception": false,
          "start_time": "2022-03-31T11:20:16.921399",
          "status": "completed"
        },
        "tags": [],
        "colab": {
          "base_uri": "https://localhost:8080/",
          "height": 504
        },
        "id": "ea403338",
        "outputId": "5bb2eedb-0c7a-4515-dada-4988d4542d44"
      },
      "outputs": [
        {
          "output_type": "display_data",
          "data": {
            "text/plain": [
              "<Figure size 2160x720 with 1 Axes>"
            ],
            "image/png": "[encoded data removed]"
          },
          "metadata": {
            "needs_background": "light"
          }
        }
      ],
      "source": [
        "plt.figure(figsize=(30, 10))\n",
        "plt.xticks(rotation=90)\n",
        "sns.barplot(x='state',y='rspm',data=df);\n",
        "# Delhi has higher rspm level compared to other states "
      ]
    },
    {
      "cell_type": "code",
      "execution_count": 31,
      "id": "d02a87ea",
      "metadata": {
        "execution": {
          "iopub.execute_input": "2022-03-31T11:20:23.057810Z",
          "iopub.status.busy": "2022-03-31T11:20:23.055621Z",
          "iopub.status.idle": "2022-03-31T11:20:26.782009Z",
          "shell.execute_reply": "2022-03-31T11:20:26.782553Z",
          "shell.execute_reply.started": "2022-03-31T11:11:55.563863Z"
        },
        "papermill": {
          "duration": 3.852673,
          "end_time": "2022-03-31T11:20:26.782728",
          "exception": false,
          "start_time": "2022-03-31T11:20:22.930055",
          "status": "completed"
        },
        "tags": [],
        "colab": {
          "base_uri": "https://localhost:8080/",
          "height": 504
        },
        "id": "d02a87ea",
        "outputId": "2e3b9cc3-69b0-4a8a-bc49-a32d754452de"
      },
      "outputs": [
        {
          "output_type": "display_data",
          "data": {
            "text/plain": [
              "<Figure size 2160x720 with 1 Axes>"
            ],
            "image/png": "[encoded data removed]"
          },
          "metadata": {
            "needs_background": "light"
          }
        }
      ],
      "source": [
        "plt.figure(figsize=(30, 10))\n",
        "plt.xticks(rotation=90)\n",
        "sns.barplot(x='state',y='spm',data=df);\n",
        "# Delhi has higher spm level compared to other states "
      ]
    },
    {
      "cell_type": "code",
      "execution_count": 32,
      "id": "29276774",
      "metadata": {
        "execution": {
          "iopub.execute_input": "2022-03-31T11:20:26.997292Z",
          "iopub.status.busy": "2022-03-31T11:20:26.996288Z",
          "iopub.status.idle": "2022-03-31T11:20:28.294702Z",
          "shell.execute_reply": "2022-03-31T11:20:28.294179Z",
          "shell.execute_reply.started": "2022-03-31T11:11:59.353934Z"
        },
        "papermill": {
          "duration": 1.406208,
          "end_time": "2022-03-31T11:20:28.294845",
          "exception": false,
          "start_time": "2022-03-31T11:20:26.888637",
          "status": "completed"
        },
        "tags": [],
        "colab": {
          "base_uri": "https://localhost:8080/",
          "height": 504
        },
        "id": "29276774",
        "outputId": "59b7ab12-6272-444f-d2d9-b2a4ad6a500a"
      },
      "outputs": [
        {
          "output_type": "display_data",
          "data": {
            "text/plain": [
              "<Figure size 2160x720 with 1 Axes>"
            ],
            "image/png": "[encoded data removed]"
          },
          "metadata": {
            "needs_background": "light"
          }
        }
      ],
      "source": [
        "plt.figure(figsize=(30, 10))\n",
        "plt.xticks(rotation=90)\n",
        "sns.barplot(x='state',y='pm2_5',data=df);\n",
        "# Delhi has higher pm2_5 level compared to other states "
      ]
    },
    {
      "cell_type": "markdown",
      "id": "36fd11a4",
      "metadata": {
        "papermill": {
          "duration": 0.107283,
          "end_time": "2022-03-31T11:20:28.508323",
          "exception": false,
          "start_time": "2022-03-31T11:20:28.401040",
          "status": "completed"
        },
        "tags": [],
        "id": "36fd11a4"
      },
      "source": [
        "### Checking all null values and treating those null values."
      ]
    },
    {
      "cell_type": "code",
      "execution_count": 33,
      "id": "c5a0b125",
      "metadata": {
        "execution": {
          "iopub.execute_input": "2022-03-31T11:20:28.726777Z",
          "iopub.status.busy": "2022-03-31T11:20:28.726121Z",
          "iopub.status.idle": "2022-03-31T11:20:29.070990Z",
          "shell.execute_reply": "2022-03-31T11:20:29.070383Z",
          "shell.execute_reply.started": "2022-03-31T11:12:00.668143Z"
        },
        "papermill": {
          "duration": 0.455563,
          "end_time": "2022-03-31T11:20:29.071133",
          "exception": false,
          "start_time": "2022-03-31T11:20:28.615570",
          "status": "completed"
        },
        "tags": [],
        "id": "c5a0b125"
      },
      "outputs": [],
      "source": [
        "nullvalues = df.isnull().sum().sort_values(ascending=False)\n",
        "# Checking all null values"
      ]
    },
    {
      "cell_type": "code",
      "execution_count": 34,
      "id": "dd148c25",
      "metadata": {
        "execution": {
          "iopub.execute_input": "2022-03-31T11:20:29.315410Z",
          "iopub.status.busy": "2022-03-31T11:20:29.314802Z",
          "iopub.status.idle": "2022-03-31T11:20:29.318208Z",
          "shell.execute_reply": "2022-03-31T11:20:29.318842Z",
          "shell.execute_reply.started": "2022-03-31T11:12:01.014662Z"
        },
        "papermill": {
          "duration": 0.125622,
          "end_time": "2022-03-31T11:20:29.319011",
          "exception": false,
          "start_time": "2022-03-31T11:20:29.193389",
          "status": "completed"
        },
        "tags": [],
        "colab": {
          "base_uri": "https://localhost:8080/"
        },
        "id": "dd148c25",
        "outputId": "6689219f-ed99-4fb4-9780-5bd14a25e534"
      },
      "outputs": [
        {
          "output_type": "execute_result",
          "data": {
            "text/plain": [
              "pm2_5                          426428\n",
              "spm                            237387\n",
              "agency                         149481\n",
              "stn_code                       144077\n",
              "rspm                            40222\n",
              "so2                             34646\n",
              "location_monitoring_station     27491\n",
              "no2                             16233\n",
              "type                             5393\n",
              "date                                7\n",
              "sampling_date                       3\n",
              "location                            3\n",
              "state                               0\n",
              "dtype: int64"
            ]
          },
          "metadata": {},
          "execution_count": 34
        }
      ],
      "source": [
        "nullvalues\n",
        "# higher null values present in pm2_5 followed by spm"
      ]
    },
    {
      "cell_type": "code",
      "execution_count": 35,
      "id": "2ab6bf91",
      "metadata": {
        "execution": {
          "iopub.execute_input": "2022-03-31T11:20:29.536880Z",
          "iopub.status.busy": "2022-03-31T11:20:29.534471Z",
          "iopub.status.idle": "2022-03-31T11:20:30.223616Z",
          "shell.execute_reply": "2022-03-31T11:20:30.223065Z",
          "shell.execute_reply.started": "2022-03-31T11:12:01.022581Z"
        },
        "papermill": {
          "duration": 0.797886,
          "end_time": "2022-03-31T11:20:30.223770",
          "exception": false,
          "start_time": "2022-03-31T11:20:29.425884",
          "status": "completed"
        },
        "tags": [],
        "id": "2ab6bf91"
      },
      "outputs": [],
      "source": [
        "null_values_percentage = (df.isnull().sum()/df.isnull().count()*100).sort_values(ascending=False)\n",
        "#count(returns Non-NAN value)"
      ]
    },
    {
      "cell_type": "code",
      "execution_count": 36,
      "id": "89de5f22",
      "metadata": {
        "execution": {
          "iopub.execute_input": "2022-03-31T11:20:30.445448Z",
          "iopub.status.busy": "2022-03-31T11:20:30.444797Z",
          "iopub.status.idle": "2022-03-31T11:20:30.447465Z",
          "shell.execute_reply": "2022-03-31T11:20:30.446855Z",
          "shell.execute_reply.started": "2022-03-31T11:12:01.714818Z"
        },
        "papermill": {
          "duration": 0.115519,
          "end_time": "2022-03-31T11:20:30.447652",
          "exception": false,
          "start_time": "2022-03-31T11:20:30.332133",
          "status": "completed"
        },
        "tags": [],
        "id": "89de5f22"
      },
      "outputs": [],
      "source": [
        "missing_data_with_percentage = pd.concat([nullvalues, null_values_percentage], axis=1, keys=['Total', 'Percent'])\n",
        "# Concatenating total null values and their percentage of missing values for further imputation or column deletion"
      ]
    },
    {
      "cell_type": "code",
      "execution_count": 37,
      "id": "b934a243",
      "metadata": {
        "execution": {
          "iopub.execute_input": "2022-03-31T11:20:30.672212Z",
          "iopub.status.busy": "2022-03-31T11:20:30.671547Z",
          "iopub.status.idle": "2022-03-31T11:20:30.675444Z",
          "shell.execute_reply": "2022-03-31T11:20:30.674951Z",
          "shell.execute_reply.started": "2022-03-31T11:12:01.721829Z"
        },
        "papermill": {
          "duration": 0.121146,
          "end_time": "2022-03-31T11:20:30.675605",
          "exception": false,
          "start_time": "2022-03-31T11:20:30.554459",
          "status": "completed"
        },
        "tags": [],
        "colab": {
          "base_uri": "https://localhost:8080/",
          "height": 457
        },
        "id": "b934a243",
        "outputId": "f6993c68-e2e1-44fa-8067-bff3beb57e86"
      },
      "outputs": [
        {
          "output_type": "execute_result",
          "data": {
            "text/plain": [
              "                              Total    Percent\n",
              "pm2_5                        426428  97.862497\n",
              "spm                          237387  54.478797\n",
              "agency                       149481  34.304933\n",
              "stn_code                     144077  33.064749\n",
              "rspm                          40222   9.230692\n",
              "so2                           34646   7.951035\n",
              "location_monitoring_station   27491   6.309009\n",
              "no2                           16233   3.725370\n",
              "type                           5393   1.237659\n",
              "date                              7   0.001606\n",
              "sampling_date                     3   0.000688\n",
              "location                          3   0.000688\n",
              "state                             0   0.000000"
            ],
            "text/html": [
              "\n",
              "  <div id=\"df-f21dd47a-6d3c-4c5a-aabf-28526128b730\">\n",
              "    <div class=\"colab-df-container\">\n",
              "      <div>\n",
              "<style scoped>\n",
              "    .dataframe tbody tr th:only-of-type {\n",
              "        vertical-align: middle;\n",
              "    }\n",
              "\n",
              "    .dataframe tbody tr th {\n",
              "        vertical-align: top;\n",
              "    }\n",
              "\n",
              "    .dataframe thead th {\n",
              "        text-align: right;\n",
              "    }\n",
              "</style>\n",
              "<table border=\"1\" class=\"dataframe\">\n",
              "  <thead>\n",
              "    <tr style=\"text-align: right;\">\n",
              "      <th></th>\n",
              "      <th>Total</th>\n",
              "      <th>Percent</th>\n",
              "    </tr>\n",
              "  </thead>\n",
              "  <tbody>\n",
              "    <tr>\n",
              "      <th>pm2_5</th>\n",
              "      <td>426428</td>\n",
              "      <td>97.862497</td>\n",
              "    </tr>\n",
              "    <tr>\n",
              "      <th>spm</th>\n",
              "      <td>237387</td>\n",
              "      <td>54.478797</td>\n",
              "    </tr>\n",
              "    <tr>\n",
              "      <th>agency</th>\n",
              "      <td>149481</td>\n",
              "      <td>34.304933</td>\n",
              "    </tr>\n",
              "    <tr>\n",
              "      <th>stn_code</th>\n",
              "      <td>144077</td>\n",
              "      <td>33.064749</td>\n",
              "    </tr>\n",
              "    <tr>\n",
              "      <th>rspm</th>\n",
              "      <td>40222</td>\n",
              "      <td>9.230692</td>\n",
              "    </tr>\n",
              "    <tr>\n",
              "      <th>so2</th>\n",
              "      <td>34646</td>\n",
              "      <td>7.951035</td>\n",
              "    </tr>\n",
              "    <tr>\n",
              "      <th>location_monitoring_station</th>\n",
              "      <td>27491</td>\n",
              "      <td>6.309009</td>\n",
              "    </tr>\n",
              "    <tr>\n",
              "      <th>no2</th>\n",
              "      <td>16233</td>\n",
              "      <td>3.725370</td>\n",
              "    </tr>\n",
              "    <tr>\n",
              "      <th>type</th>\n",
              "      <td>5393</td>\n",
              "      <td>1.237659</td>\n",
              "    </tr>\n",
              "    <tr>\n",
              "      <th>date</th>\n",
              "      <td>7</td>\n",
              "      <td>0.001606</td>\n",
              "    </tr>\n",
              "    <tr>\n",
              "      <th>sampling_date</th>\n",
              "      <td>3</td>\n",
              "      <td>0.000688</td>\n",
              "    </tr>\n",
              "    <tr>\n",
              "      <th>location</th>\n",
              "      <td>3</td>\n",
              "      <td>0.000688</td>\n",
              "    </tr>\n",
              "    <tr>\n",
              "      <th>state</th>\n",
              "      <td>0</td>\n",
              "      <td>0.000000</td>\n",
              "    </tr>\n",
              "  </tbody>\n",
              "</table>\n",
              "</div>\n",
              "      <button class=\"colab-df-convert\" onclick=\"convertToInteractive('df-f21dd47a-6d3c-4c5a-aabf-28526128b730')\"\n",
              "              title=\"Convert this dataframe to an interactive table.\"\n",
              "              style=\"display:none;\">\n",
              "        \n",
              "  <svg xmlns=\"http://www.w3.org/2000/svg\" height=\"24px\"viewBox=\"0 0 24 24\"\n",
              "       width=\"24px\">\n",
              "    <path d=\"M0 0h24v24H0V0z\" fill=\"none\"/>\n",
              "    <path d=\"M18.56 5.44l.94 2.06.94-2.06 2.06-.94-2.06-.94-.94-2.06-.94 2.06-2.06.94zm-11 1L8.5 8.5l.94-2.06 2.06-.94-2.06-.94L8.5 2.5l-.94 2.06-2.06.94zm10 10l.94 2.06.94-2.06 2.06-.94-2.06-.94-.94-2.06-.94 2.06-2.06.94z\"/><path d=\"M17.41 7.96l-1.37-1.37c-.4-.4-.92-.59-1.43-.59-.52 0-1.04.2-1.43.59L10.3 9.45l-7.72 7.72c-.78.78-.78 2.05 0 2.83L4 21.41c.39.39.9.59 1.41.59.51 0 1.02-.2 1.41-.59l7.78-7.78 2.81-2.81c.8-.78.8-2.07 0-2.86zM5.41 20L4 18.59l7.72-7.72 1.47 1.35L5.41 20z\"/>\n",
              "  </svg>\n",
              "      </button>\n",
              "      \n",
              "  <style>\n",
              "    .colab-df-container {\n",
              "      display:flex;\n",
              "      flex-wrap:wrap;\n",
              "      gap: 12px;\n",
              "    }\n",
              "\n",
              "    .colab-df-convert {\n",
              "      background-color: #E8F0FE;\n",
              "      border: none;\n",
              "      border-radius: 50%;\n",
              "      cursor: pointer;\n",
              "      display: none;\n",
              "      fill: #1967D2;\n",
              "      height: 32px;\n",
              "      padding: 0 0 0 0;\n",
              "      width: 32px;\n",
              "    }\n",
              "\n",
              "    .colab-df-convert:hover {\n",
              "      background-color: #E2EBFA;\n",
              "      box-shadow: 0px 1px 2px rgba(60, 64, 67, 0.3), 0px 1px 3px 1px rgba(60, 64, 67, 0.15);\n",
              "      fill: #174EA6;\n",
              "    }\n",
              "\n",
              "    [theme=dark] .colab-df-convert {\n",
              "      background-color: #3B4455;\n",
              "      fill: #D2E3FC;\n",
              "    }\n",
              "\n",
              "    [theme=dark] .colab-df-convert:hover {\n",
              "      background-color: #434B5C;\n",
              "      box-shadow: 0px 1px 3px 1px rgba(0, 0, 0, 0.15);\n",
              "      filter: drop-shadow(0px 1px 2px rgba(0, 0, 0, 0.3));\n",
              "      fill: #FFFFFF;\n",
              "    }\n",
              "  </style>\n",
              "\n",
              "      <script>\n",
              "        const buttonEl =\n",
              "          document.querySelector('#df-f21dd47a-6d3c-4c5a-aabf-28526128b730 button.colab-df-convert');\n",
              "        buttonEl.style.display =\n",
              "          google.colab.kernel.accessAllowed ? 'block' : 'none';\n",
              "\n",
              "        async function convertToInteractive(key) {\n",
              "          const element = document.querySelector('#df-f21dd47a-6d3c-4c5a-aabf-28526128b730');\n",
              "          const dataTable =\n",
              "            await google.colab.kernel.invokeFunction('convertToInteractive',\n",
              "                                                     [key], {});\n",
              "          if (!dataTable) return;\n",
              "\n",
              "          const docLinkHtml = 'Like what you see? Visit the ' +\n",
              "            '<a target=\"_blank\" href=https://colab.research.google.com/notebooks/data_table.ipynb>data table notebook</a>'\n",
              "            + ' to learn more about interactive tables.';\n",
              "          element.innerHTML = '';\n",
              "          dataTable['output_type'] = 'display_data';\n",
              "          await google.colab.output.renderOutput(dataTable, element);\n",
              "          const docLink = document.createElement('div');\n",
              "          docLink.innerHTML = docLinkHtml;\n",
              "          element.appendChild(docLink);\n",
              "        }\n",
              "      </script>\n",
              "    </div>\n",
              "  </div>\n",
              "  "
            ]
          },
          "metadata": {},
          "execution_count": 37
        }
      ],
      "source": [
        "missing_data_with_percentage\n",
        "# As you can see below these are the percentages of null values present in the dataset"
      ]
    },
    {
      "cell_type": "code",
      "execution_count": 38,
      "id": "74818a98",
      "metadata": {
        "execution": {
          "iopub.execute_input": "2022-03-31T11:20:30.897344Z",
          "iopub.status.busy": "2022-03-31T11:20:30.896654Z",
          "iopub.status.idle": "2022-03-31T11:20:31.032719Z",
          "shell.execute_reply": "2022-03-31T11:20:31.032103Z",
          "shell.execute_reply.started": "2022-03-31T11:12:01.738701Z"
        },
        "papermill": {
          "duration": 0.250703,
          "end_time": "2022-03-31T11:20:31.032904",
          "exception": false,
          "start_time": "2022-03-31T11:20:30.782201",
          "status": "completed"
        },
        "tags": [],
        "id": "74818a98"
      },
      "outputs": [],
      "source": [
        "df.drop(['agency'],axis=1,inplace=True)\n",
        "df.drop(['stn_code'],axis=1,inplace=True)\n",
        "df.drop(['date'],axis=1,inplace=True)\n",
        "df.drop(['sampling_date'],axis=1,inplace=True)\n",
        "df.drop(['location_monitoring_station'],axis=1,inplace=True)\n",
        "# Dropping unnecessary columns"
      ]
    },
    {
      "cell_type": "code",
      "execution_count": 39,
      "id": "cc99121a",
      "metadata": {
        "execution": {
          "iopub.execute_input": "2022-03-31T11:20:31.388730Z",
          "iopub.status.busy": "2022-03-31T11:20:31.388062Z",
          "iopub.status.idle": "2022-03-31T11:20:31.400799Z",
          "shell.execute_reply": "2022-03-31T11:20:31.400216Z",
          "shell.execute_reply.started": "2022-03-31T11:12:01.879354Z"
        },
        "papermill": {
          "duration": 0.260407,
          "end_time": "2022-03-31T11:20:31.400942",
          "exception": false,
          "start_time": "2022-03-31T11:20:31.140535",
          "status": "completed"
        },
        "tags": [],
        "colab": {
          "base_uri": "https://localhost:8080/"
        },
        "id": "cc99121a",
        "outputId": "f5d8cd74-030e-4ccf-fbc7-c939b1524c3b"
      },
      "outputs": [
        {
          "output_type": "execute_result",
          "data": {
            "text/plain": [
              "state            0\n",
              "location         3\n",
              "type          5393\n",
              "so2          34646\n",
              "no2          16233\n",
              "rspm         40222\n",
              "spm         237387\n",
              "pm2_5       426428\n",
              "dtype: int64"
            ]
          },
          "metadata": {},
          "execution_count": 39
        }
      ],
      "source": [
        "df.isnull().sum()\n",
        "# Now checking the null values"
      ]
    },
    {
      "cell_type": "code",
      "execution_count": 40,
      "id": "b36b779d",
      "metadata": {
        "execution": {
          "iopub.execute_input": "2022-03-31T11:20:31.642793Z",
          "iopub.status.busy": "2022-03-31T11:20:31.642080Z",
          "iopub.status.idle": "2022-03-31T11:20:31.646183Z",
          "shell.execute_reply": "2022-03-31T11:20:31.645663Z",
          "shell.execute_reply.started": "2022-03-31T11:12:02.035423Z"
        },
        "papermill": {
          "duration": 0.134615,
          "end_time": "2022-03-31T11:20:31.646318",
          "exception": false,
          "start_time": "2022-03-31T11:20:31.511703",
          "status": "completed"
        },
        "tags": [],
        "colab": {
          "base_uri": "https://localhost:8080/",
          "height": 423
        },
        "id": "b36b779d",
        "outputId": "5fae8fd1-a53b-4c59-d71b-f93508e2178c"
      },
      "outputs": [
        {
          "output_type": "execute_result",
          "data": {
            "text/plain": [
              "                              state   location  \\\n",
              "0                    Andhra Pradesh  Hyderabad   \n",
              "1                    Andhra Pradesh  Hyderabad   \n",
              "2                    Andhra Pradesh  Hyderabad   \n",
              "3                    Andhra Pradesh  Hyderabad   \n",
              "4                    Andhra Pradesh  Hyderabad   \n",
              "...                             ...        ...   \n",
              "435737                  West Bengal   ULUBERIA   \n",
              "435738                  West Bengal   ULUBERIA   \n",
              "435739  andaman-and-nicobar-islands        NaN   \n",
              "435740                  Lakshadweep        NaN   \n",
              "435741                      Tripura        NaN   \n",
              "\n",
              "                                      type   so2   no2   rspm  spm  pm2_5  \n",
              "0       Residential, Rural and other Areas   4.8  17.4    NaN  NaN    NaN  \n",
              "1                          Industrial Area   3.1   7.0    NaN  NaN    NaN  \n",
              "2       Residential, Rural and other Areas   6.2  28.5    NaN  NaN    NaN  \n",
              "3       Residential, Rural and other Areas   6.3  14.7    NaN  NaN    NaN  \n",
              "4                          Industrial Area   4.7   7.5    NaN  NaN    NaN  \n",
              "...                                    ...   ...   ...    ...  ...    ...  \n",
              "435737                               RIRUO  22.0  50.0  143.0  NaN    NaN  \n",
              "435738                               RIRUO  20.0  46.0  171.0  NaN    NaN  \n",
              "435739                                 NaN   NaN   NaN    NaN  NaN    NaN  \n",
              "435740                                 NaN   NaN   NaN    NaN  NaN    NaN  \n",
              "435741                                 NaN   NaN   NaN    NaN  NaN    NaN  \n",
              "\n",
              "[435742 rows x 8 columns]"
            ],
            "text/html": [
              "\n",
              "  <div id=\"df-51869d0b-72bc-4b85-b9ce-6520463c07c4\">\n",
              "    <div class=\"colab-df-container\">\n",
              "      <div>\n",
              "<style scoped>\n",
              "    .dataframe tbody tr th:only-of-type {\n",
              "        vertical-align: middle;\n",
              "    }\n",
              "\n",
              "    .dataframe tbody tr th {\n",
              "        vertical-align: top;\n",
              "    }\n",
              "\n",
              "    .dataframe thead th {\n",
              "        text-align: right;\n",
              "    }\n",
              "</style>\n",
              "<table border=\"1\" class=\"dataframe\">\n",
              "  <thead>\n",
              "    <tr style=\"text-align: right;\">\n",
              "      <th></th>\n",
              "      <th>state</th>\n",
              "      <th>location</th>\n",
              "      <th>type</th>\n",
              "      <th>so2</th>\n",
              "      <th>no2</th>\n",
              "      <th>rspm</th>\n",
              "      <th>spm</th>\n",
              "      <th>pm2_5</th>\n",
              "    </tr>\n",
              "  </thead>\n",
              "  <tbody>\n",
              "    <tr>\n",
              "      <th>0</th>\n",
              "      <td>Andhra Pradesh</td>\n",
              "      <td>Hyderabad</td>\n",
              "      <td>Residential, Rural and other Areas</td>\n",
              "      <td>4.8</td>\n",
              "      <td>17.4</td>\n",
              "      <td>NaN</td>\n",
              "      <td>NaN</td>\n",
              "      <td>NaN</td>\n",
              "    </tr>\n",
              "    <tr>\n",
              "      <th>1</th>\n",
              "      <td>Andhra Pradesh</td>\n",
              "      <td>Hyderabad</td>\n",
              "      <td>Industrial Area</td>\n",
              "      <td>3.1</td>\n",
              "      <td>7.0</td>\n",
              "      <td>NaN</td>\n",
              "      <td>NaN</td>\n",
              "      <td>NaN</td>\n",
              "    </tr>\n",
              "    <tr>\n",
              "      <th>2</th>\n",
              "      <td>Andhra Pradesh</td>\n",
              "      <td>Hyderabad</td>\n",
              "      <td>Residential, Rural and other Areas</td>\n",
              "      <td>6.2</td>\n",
              "      <td>28.5</td>\n",
              "      <td>NaN</td>\n",
              "      <td>NaN</td>\n",
              "      <td>NaN</td>\n",
              "    </tr>\n",
              "    <tr>\n",
              "      <th>3</th>\n",
              "      <td>Andhra Pradesh</td>\n",
              "      <td>Hyderabad</td>\n",
              "      <td>Residential, Rural and other Areas</td>\n",
              "      <td>6.3</td>\n",
              "      <td>14.7</td>\n",
              "      <td>NaN</td>\n",
              "      <td>NaN</td>\n",
              "      <td>NaN</td>\n",
              "    </tr>\n",
              "    <tr>\n",
              "      <th>4</th>\n",
              "      <td>Andhra Pradesh</td>\n",
              "      <td>Hyderabad</td>\n",
              "      <td>Industrial Area</td>\n",
              "      <td>4.7</td>\n",
              "      <td>7.5</td>\n",
              "      <td>NaN</td>\n",
              "      <td>NaN</td>\n",
              "      <td>NaN</td>\n",
              "    </tr>\n",
              "    <tr>\n",
              "      <th>...</th>\n",
              "      <td>...</td>\n",
              "      <td>...</td>\n",
              "      <td>...</td>\n",
              "      <td>...</td>\n",
              "      <td>...</td>\n",
              "      <td>...</td>\n",
              "      <td>...</td>\n",
              "      <td>...</td>\n",
              "    </tr>\n",
              "    <tr>\n",
              "      <th>435737</th>\n",
              "      <td>West Bengal</td>\n",
              "      <td>ULUBERIA</td>\n",
              "      <td>RIRUO</td>\n",
              "      <td>22.0</td>\n",
              "      <td>50.0</td>\n",
              "      <td>143.0</td>\n",
              "      <td>NaN</td>\n",
              "      <td>NaN</td>\n",
              "    </tr>\n",
              "    <tr>\n",
              "      <th>435738</th>\n",
              "      <td>West Bengal</td>\n",
              "      <td>ULUBERIA</td>\n",
              "      <td>RIRUO</td>\n",
              "      <td>20.0</td>\n",
              "      <td>46.0</td>\n",
              "      <td>171.0</td>\n",
              "      <td>NaN</td>\n",
              "      <td>NaN</td>\n",
              "    </tr>\n",
              "    <tr>\n",
              "      <th>435739</th>\n",
              "      <td>andaman-and-nicobar-islands</td>\n",
              "      <td>NaN</td>\n",
              "      <td>NaN</td>\n",
              "      <td>NaN</td>\n",
              "      <td>NaN</td>\n",
              "      <td>NaN</td>\n",
              "      <td>NaN</td>\n",
              "      <td>NaN</td>\n",
              "    </tr>\n",
              "    <tr>\n",
              "      <th>435740</th>\n",
              "      <td>Lakshadweep</td>\n",
              "      <td>NaN</td>\n",
              "      <td>NaN</td>\n",
              "      <td>NaN</td>\n",
              "      <td>NaN</td>\n",
              "      <td>NaN</td>\n",
              "      <td>NaN</td>\n",
              "      <td>NaN</td>\n",
              "    </tr>\n",
              "    <tr>\n",
              "      <th>435741</th>\n",
              "      <td>Tripura</td>\n",
              "      <td>NaN</td>\n",
              "      <td>NaN</td>\n",
              "      <td>NaN</td>\n",
              "      <td>NaN</td>\n",
              "      <td>NaN</td>\n",
              "      <td>NaN</td>\n",
              "      <td>NaN</td>\n",
              "    </tr>\n",
              "  </tbody>\n",
              "</table>\n",
              "<p>435742 rows × 8 columns</p>\n",
              "</div>\n",
              "      <button class=\"colab-df-convert\" onclick=\"convertToInteractive('df-51869d0b-72bc-4b85-b9ce-6520463c07c4')\"\n",
              "              title=\"Convert this dataframe to an interactive table.\"\n",
              "              style=\"display:none;\">\n",
              "        \n",
              "  <svg xmlns=\"http://www.w3.org/2000/svg\" height=\"24px\"viewBox=\"0 0 24 24\"\n",
              "       width=\"24px\">\n",
              "    <path d=\"M0 0h24v24H0V0z\" fill=\"none\"/>\n",
              "    <path d=\"M18.56 5.44l.94 2.06.94-2.06 2.06-.94-2.06-.94-.94-2.06-.94 2.06-2.06.94zm-11 1L8.5 8.5l.94-2.06 2.06-.94-2.06-.94L8.5 2.5l-.94 2.06-2.06.94zm10 10l.94 2.06.94-2.06 2.06-.94-2.06-.94-.94-2.06-.94 2.06-2.06.94z\"/><path d=\"M17.41 7.96l-1.37-1.37c-.4-.4-.92-.59-1.43-.59-.52 0-1.04.2-1.43.59L10.3 9.45l-7.72 7.72c-.78.78-.78 2.05 0 2.83L4 21.41c.39.39.9.59 1.41.59.51 0 1.02-.2 1.41-.59l7.78-7.78 2.81-2.81c.8-.78.8-2.07 0-2.86zM5.41 20L4 18.59l7.72-7.72 1.47 1.35L5.41 20z\"/>\n",
              "  </svg>\n",
              "      </button>\n",
              "      \n",
              "  <style>\n",
              "    .colab-df-container {\n",
              "      display:flex;\n",
              "      flex-wrap:wrap;\n",
              "      gap: 12px;\n",
              "    }\n",
              "\n",
              "    .colab-df-convert {\n",
              "      background-color: #E8F0FE;\n",
              "      border: none;\n",
              "      border-radius: 50%;\n",
              "      cursor: pointer;\n",
              "      display: none;\n",
              "      fill: #1967D2;\n",
              "      height: 32px;\n",
              "      padding: 0 0 0 0;\n",
              "      width: 32px;\n",
              "    }\n",
              "\n",
              "    .colab-df-convert:hover {\n",
              "      background-color: #E2EBFA;\n",
              "      box-shadow: 0px 1px 2px rgba(60, 64, 67, 0.3), 0px 1px 3px 1px rgba(60, 64, 67, 0.15);\n",
              "      fill: #174EA6;\n",
              "    }\n",
              "\n",
              "    [theme=dark] .colab-df-convert {\n",
              "      background-color: #3B4455;\n",
              "      fill: #D2E3FC;\n",
              "    }\n",
              "\n",
              "    [theme=dark] .colab-df-convert:hover {\n",
              "      background-color: #434B5C;\n",
              "      box-shadow: 0px 1px 3px 1px rgba(0, 0, 0, 0.15);\n",
              "      filter: drop-shadow(0px 1px 2px rgba(0, 0, 0, 0.3));\n",
              "      fill: #FFFFFF;\n",
              "    }\n",
              "  </style>\n",
              "\n",
              "      <script>\n",
              "        const buttonEl =\n",
              "          document.querySelector('#df-51869d0b-72bc-4b85-b9ce-6520463c07c4 button.colab-df-convert');\n",
              "        buttonEl.style.display =\n",
              "          google.colab.kernel.accessAllowed ? 'block' : 'none';\n",
              "\n",
              "        async function convertToInteractive(key) {\n",
              "          const element = document.querySelector('#df-51869d0b-72bc-4b85-b9ce-6520463c07c4');\n",
              "          const dataTable =\n",
              "            await google.colab.kernel.invokeFunction('convertToInteractive',\n",
              "                                                     [key], {});\n",
              "          if (!dataTable) return;\n",
              "\n",
              "          const docLinkHtml = 'Like what you see? Visit the ' +\n",
              "            '<a target=\"_blank\" href=https://colab.research.google.com/notebooks/data_table.ipynb>data table notebook</a>'\n",
              "            + ' to learn more about interactive tables.';\n",
              "          element.innerHTML = '';\n",
              "          dataTable['output_type'] = 'display_data';\n",
              "          await google.colab.output.renderOutput(dataTable, element);\n",
              "          const docLink = document.createElement('div');\n",
              "          docLink.innerHTML = docLinkHtml;\n",
              "          element.appendChild(docLink);\n",
              "        }\n",
              "      </script>\n",
              "    </div>\n",
              "  </div>\n",
              "  "
            ]
          },
          "metadata": {},
          "execution_count": 40
        }
      ],
      "source": [
        "df"
      ]
    },
    {
      "cell_type": "code",
      "execution_count": 41,
      "id": "235c8f60",
      "metadata": {
        "execution": {
          "iopub.execute_input": "2022-03-31T11:20:31.971108Z",
          "iopub.status.busy": "2022-03-31T11:20:31.970385Z",
          "iopub.status.idle": "2022-03-31T11:20:32.098133Z",
          "shell.execute_reply": "2022-03-31T11:20:32.097572Z",
          "shell.execute_reply.started": "2022-03-31T11:12:02.058415Z"
        },
        "papermill": {
          "duration": 0.340423,
          "end_time": "2022-03-31T11:20:32.098274",
          "exception": false,
          "start_time": "2022-03-31T11:20:31.757851",
          "status": "completed"
        },
        "tags": [],
        "id": "235c8f60"
      },
      "outputs": [],
      "source": [
        "df['location']=df['location'].fillna(df['location'].mode()[0])\n",
        "df['type']=df['type'].fillna(df['type'].mode()[0])\n",
        "# Null value Imputation for categorical data"
      ]
    },
    {
      "cell_type": "code",
      "execution_count": 42,
      "id": "bd52df94",
      "metadata": {
        "execution": {
          "iopub.execute_input": "2022-03-31T11:20:32.458217Z",
          "iopub.status.busy": "2022-03-31T11:20:32.457314Z",
          "iopub.status.idle": "2022-03-31T11:20:32.467612Z",
          "shell.execute_reply": "2022-03-31T11:20:32.467060Z",
          "shell.execute_reply.started": "2022-03-31T11:12:02.286854Z"
        },
        "papermill": {
          "duration": 0.260494,
          "end_time": "2022-03-31T11:20:32.467763",
          "exception": false,
          "start_time": "2022-03-31T11:20:32.207269",
          "status": "completed"
        },
        "tags": [],
        "id": "bd52df94"
      },
      "outputs": [],
      "source": [
        "df.fillna(0, inplace=True)\n",
        "# null values are replaced with zeros for the numerical data"
      ]
    },
    {
      "cell_type": "code",
      "execution_count": 43,
      "id": "b30febf3",
      "metadata": {
        "execution": {
          "iopub.execute_input": "2022-03-31T11:20:32.783951Z",
          "iopub.status.busy": "2022-03-31T11:20:32.738040Z",
          "iopub.status.idle": "2022-03-31T11:20:32.843702Z",
          "shell.execute_reply": "2022-03-31T11:20:32.843163Z",
          "shell.execute_reply.started": "2022-03-31T11:12:02.435334Z"
        },
        "papermill": {
          "duration": 0.266778,
          "end_time": "2022-03-31T11:20:32.843846",
          "exception": false,
          "start_time": "2022-03-31T11:20:32.577068",
          "status": "completed"
        },
        "tags": [],
        "colab": {
          "base_uri": "https://localhost:8080/"
        },
        "id": "b30febf3",
        "outputId": "71608012-c494-4db8-b6b1-84311a5c8da2"
      },
      "outputs": [
        {
          "output_type": "execute_result",
          "data": {
            "text/plain": [
              "state       0\n",
              "location    0\n",
              "type        0\n",
              "so2         0\n",
              "no2         0\n",
              "rspm        0\n",
              "spm         0\n",
              "pm2_5       0\n",
              "dtype: int64"
            ]
          },
          "metadata": {},
          "execution_count": 43
        }
      ],
      "source": [
        "df.isnull().sum()\n",
        "# Now we have successfully imputed null values which were present in the dataset"
      ]
    },
    {
      "cell_type": "code",
      "execution_count": 44,
      "id": "32a1ea25",
      "metadata": {
        "execution": {
          "iopub.execute_input": "2022-03-31T11:20:33.087341Z",
          "iopub.status.busy": "2022-03-31T11:20:33.080390Z",
          "iopub.status.idle": "2022-03-31T11:20:33.091950Z",
          "shell.execute_reply": "2022-03-31T11:20:33.091276Z",
          "shell.execute_reply.started": "2022-03-31T11:12:02.586742Z"
        },
        "papermill": {
          "duration": 0.138426,
          "end_time": "2022-03-31T11:20:33.092113",
          "exception": false,
          "start_time": "2022-03-31T11:20:32.953687",
          "status": "completed"
        },
        "tags": [],
        "colab": {
          "base_uri": "https://localhost:8080/",
          "height": 423
        },
        "id": "32a1ea25",
        "outputId": "d143e2be-ef2d-48c6-87dc-65cbf055c8f5"
      },
      "outputs": [
        {
          "output_type": "execute_result",
          "data": {
            "text/plain": [
              "                              state   location  \\\n",
              "0                    Andhra Pradesh  Hyderabad   \n",
              "1                    Andhra Pradesh  Hyderabad   \n",
              "2                    Andhra Pradesh  Hyderabad   \n",
              "3                    Andhra Pradesh  Hyderabad   \n",
              "4                    Andhra Pradesh  Hyderabad   \n",
              "...                             ...        ...   \n",
              "435737                  West Bengal   ULUBERIA   \n",
              "435738                  West Bengal   ULUBERIA   \n",
              "435739  andaman-and-nicobar-islands   Guwahati   \n",
              "435740                  Lakshadweep   Guwahati   \n",
              "435741                      Tripura   Guwahati   \n",
              "\n",
              "                                      type   so2   no2   rspm  spm  pm2_5  \n",
              "0       Residential, Rural and other Areas   4.8  17.4    0.0  0.0    0.0  \n",
              "1                          Industrial Area   3.1   7.0    0.0  0.0    0.0  \n",
              "2       Residential, Rural and other Areas   6.2  28.5    0.0  0.0    0.0  \n",
              "3       Residential, Rural and other Areas   6.3  14.7    0.0  0.0    0.0  \n",
              "4                          Industrial Area   4.7   7.5    0.0  0.0    0.0  \n",
              "...                                    ...   ...   ...    ...  ...    ...  \n",
              "435737                               RIRUO  22.0  50.0  143.0  0.0    0.0  \n",
              "435738                               RIRUO  20.0  46.0  171.0  0.0    0.0  \n",
              "435739  Residential, Rural and other Areas   0.0   0.0    0.0  0.0    0.0  \n",
              "435740  Residential, Rural and other Areas   0.0   0.0    0.0  0.0    0.0  \n",
              "435741  Residential, Rural and other Areas   0.0   0.0    0.0  0.0    0.0  \n",
              "\n",
              "[435742 rows x 8 columns]"
            ],
            "text/html": [
              "\n",
              "  <div id=\"df-b26cedcd-6811-4096-b5f3-5cbce63b5d9d\">\n",
              "    <div class=\"colab-df-container\">\n",
              "      <div>\n",
              "<style scoped>\n",
              "    .dataframe tbody tr th:only-of-type {\n",
              "        vertical-align: middle;\n",
              "    }\n",
              "\n",
              "    .dataframe tbody tr th {\n",
              "        vertical-align: top;\n",
              "    }\n",
              "\n",
              "    .dataframe thead th {\n",
              "        text-align: right;\n",
              "    }\n",
              "</style>\n",
              "<table border=\"1\" class=\"dataframe\">\n",
              "  <thead>\n",
              "    <tr style=\"text-align: right;\">\n",
              "      <th></th>\n",
              "      <th>state</th>\n",
              "      <th>location</th>\n",
              "      <th>type</th>\n",
              "      <th>so2</th>\n",
              "      <th>no2</th>\n",
              "      <th>rspm</th>\n",
              "      <th>spm</th>\n",
              "      <th>pm2_5</th>\n",
              "    </tr>\n",
              "  </thead>\n",
              "  <tbody>\n",
              "    <tr>\n",
              "      <th>0</th>\n",
              "      <td>Andhra Pradesh</td>\n",
              "      <td>Hyderabad</td>\n",
              "      <td>Residential, Rural and other Areas</td>\n",
              "      <td>4.8</td>\n",
              "      <td>17.4</td>\n",
              "      <td>0.0</td>\n",
              "      <td>0.0</td>\n",
              "      <td>0.0</td>\n",
              "    </tr>\n",
              "    <tr>\n",
              "      <th>1</th>\n",
              "      <td>Andhra Pradesh</td>\n",
              "      <td>Hyderabad</td>\n",
              "      <td>Industrial Area</td>\n",
              "      <td>3.1</td>\n",
              "      <td>7.0</td>\n",
              "      <td>0.0</td>\n",
              "      <td>0.0</td>\n",
              "      <td>0.0</td>\n",
              "    </tr>\n",
              "    <tr>\n",
              "      <th>2</th>\n",
              "      <td>Andhra Pradesh</td>\n",
              "      <td>Hyderabad</td>\n",
              "      <td>Residential, Rural and other Areas</td>\n",
              "      <td>6.2</td>\n",
              "      <td>28.5</td>\n",
              "      <td>0.0</td>\n",
              "      <td>0.0</td>\n",
              "      <td>0.0</td>\n",
              "    </tr>\n",
              "    <tr>\n",
              "      <th>3</th>\n",
              "      <td>Andhra Pradesh</td>\n",
              "      <td>Hyderabad</td>\n",
              "      <td>Residential, Rural and other Areas</td>\n",
              "      <td>6.3</td>\n",
              "      <td>14.7</td>\n",
              "      <td>0.0</td>\n",
              "      <td>0.0</td>\n",
              "      <td>0.0</td>\n",
              "    </tr>\n",
              "    <tr>\n",
              "      <th>4</th>\n",
              "      <td>Andhra Pradesh</td>\n",
              "      <td>Hyderabad</td>\n",
              "      <td>Industrial Area</td>\n",
              "      <td>4.7</td>\n",
              "      <td>7.5</td>\n",
              "      <td>0.0</td>\n",
              "      <td>0.0</td>\n",
              "      <td>0.0</td>\n",
              "    </tr>\n",
              "    <tr>\n",
              "      <th>...</th>\n",
              "      <td>...</td>\n",
              "      <td>...</td>\n",
              "      <td>...</td>\n",
              "      <td>...</td>\n",
              "      <td>...</td>\n",
              "      <td>...</td>\n",
              "      <td>...</td>\n",
              "      <td>...</td>\n",
              "    </tr>\n",
              "    <tr>\n",
              "      <th>435737</th>\n",
              "      <td>West Bengal</td>\n",
              "      <td>ULUBERIA</td>\n",
              "      <td>RIRUO</td>\n",
              "      <td>22.0</td>\n",
              "      <td>50.0</td>\n",
              "      <td>143.0</td>\n",
              "      <td>0.0</td>\n",
              "      <td>0.0</td>\n",
              "    </tr>\n",
              "    <tr>\n",
              "      <th>435738</th>\n",
              "      <td>West Bengal</td>\n",
              "      <td>ULUBERIA</td>\n",
              "      <td>RIRUO</td>\n",
              "      <td>20.0</td>\n",
              "      <td>46.0</td>\n",
              "      <td>171.0</td>\n",
              "      <td>0.0</td>\n",
              "      <td>0.0</td>\n",
              "    </tr>\n",
              "    <tr>\n",
              "      <th>435739</th>\n",
              "      <td>andaman-and-nicobar-islands</td>\n",
              "      <td>Guwahati</td>\n",
              "      <td>Residential, Rural and other Areas</td>\n",
              "      <td>0.0</td>\n",
              "      <td>0.0</td>\n",
              "      <td>0.0</td>\n",
              "      <td>0.0</td>\n",
              "      <td>0.0</td>\n",
              "    </tr>\n",
              "    <tr>\n",
              "      <th>435740</th>\n",
              "      <td>Lakshadweep</td>\n",
              "      <td>Guwahati</td>\n",
              "      <td>Residential, Rural and other Areas</td>\n",
              "      <td>0.0</td>\n",
              "      <td>0.0</td>\n",
              "      <td>0.0</td>\n",
              "      <td>0.0</td>\n",
              "      <td>0.0</td>\n",
              "    </tr>\n",
              "    <tr>\n",
              "      <th>435741</th>\n",
              "      <td>Tripura</td>\n",
              "      <td>Guwahati</td>\n",
              "      <td>Residential, Rural and other Areas</td>\n",
              "      <td>0.0</td>\n",
              "      <td>0.0</td>\n",
              "      <td>0.0</td>\n",
              "      <td>0.0</td>\n",
              "      <td>0.0</td>\n",
              "    </tr>\n",
              "  </tbody>\n",
              "</table>\n",
              "<p>435742 rows × 8 columns</p>\n",
              "</div>\n",
              "      <button class=\"colab-df-convert\" onclick=\"convertToInteractive('df-b26cedcd-6811-4096-b5f3-5cbce63b5d9d')\"\n",
              "              title=\"Convert this dataframe to an interactive table.\"\n",
              "              style=\"display:none;\">\n",
              "        \n",
              "  <svg xmlns=\"http://www.w3.org/2000/svg\" height=\"24px\"viewBox=\"0 0 24 24\"\n",
              "       width=\"24px\">\n",
              "    <path d=\"M0 0h24v24H0V0z\" fill=\"none\"/>\n",
              "    <path d=\"M18.56 5.44l.94 2.06.94-2.06 2.06-.94-2.06-.94-.94-2.06-.94 2.06-2.06.94zm-11 1L8.5 8.5l.94-2.06 2.06-.94-2.06-.94L8.5 2.5l-.94 2.06-2.06.94zm10 10l.94 2.06.94-2.06 2.06-.94-2.06-.94-.94-2.06-.94 2.06-2.06.94z\"/><path d=\"M17.41 7.96l-1.37-1.37c-.4-.4-.92-.59-1.43-.59-.52 0-1.04.2-1.43.59L10.3 9.45l-7.72 7.72c-.78.78-.78 2.05 0 2.83L4 21.41c.39.39.9.59 1.41.59.51 0 1.02-.2 1.41-.59l7.78-7.78 2.81-2.81c.8-.78.8-2.07 0-2.86zM5.41 20L4 18.59l7.72-7.72 1.47 1.35L5.41 20z\"/>\n",
              "  </svg>\n",
              "      </button>\n",
              "      \n",
              "  <style>\n",
              "    .colab-df-container {\n",
              "      display:flex;\n",
              "      flex-wrap:wrap;\n",
              "      gap: 12px;\n",
              "    }\n",
              "\n",
              "    .colab-df-convert {\n",
              "      background-color: #E8F0FE;\n",
              "      border: none;\n",
              "      border-radius: 50%;\n",
              "      cursor: pointer;\n",
              "      display: none;\n",
              "      fill: #1967D2;\n",
              "      height: 32px;\n",
              "      padding: 0 0 0 0;\n",
              "      width: 32px;\n",
              "    }\n",
              "\n",
              "    .colab-df-convert:hover {\n",
              "      background-color: #E2EBFA;\n",
              "      box-shadow: 0px 1px 2px rgba(60, 64, 67, 0.3), 0px 1px 3px 1px rgba(60, 64, 67, 0.15);\n",
              "      fill: #174EA6;\n",
              "    }\n",
              "\n",
              "    [theme=dark] .colab-df-convert {\n",
              "      background-color: #3B4455;\n",
              "      fill: #D2E3FC;\n",
              "    }\n",
              "\n",
              "    [theme=dark] .colab-df-convert:hover {\n",
              "      background-color: #434B5C;\n",
              "      box-shadow: 0px 1px 3px 1px rgba(0, 0, 0, 0.15);\n",
              "      filter: drop-shadow(0px 1px 2px rgba(0, 0, 0, 0.3));\n",
              "      fill: #FFFFFF;\n",
              "    }\n",
              "  </style>\n",
              "\n",
              "      <script>\n",
              "        const buttonEl =\n",
              "          document.querySelector('#df-b26cedcd-6811-4096-b5f3-5cbce63b5d9d button.colab-df-convert');\n",
              "        buttonEl.style.display =\n",
              "          google.colab.kernel.accessAllowed ? 'block' : 'none';\n",
              "\n",
              "        async function convertToInteractive(key) {\n",
              "          const element = document.querySelector('#df-b26cedcd-6811-4096-b5f3-5cbce63b5d9d');\n",
              "          const dataTable =\n",
              "            await google.colab.kernel.invokeFunction('convertToInteractive',\n",
              "                                                     [key], {});\n",
              "          if (!dataTable) return;\n",
              "\n",
              "          const docLinkHtml = 'Like what you see? Visit the ' +\n",
              "            '<a target=\"_blank\" href=https://colab.research.google.com/notebooks/data_table.ipynb>data table notebook</a>'\n",
              "            + ' to learn more about interactive tables.';\n",
              "          element.innerHTML = '';\n",
              "          dataTable['output_type'] = 'display_data';\n",
              "          await google.colab.output.renderOutput(dataTable, element);\n",
              "          const docLink = document.createElement('div');\n",
              "          docLink.innerHTML = docLinkHtml;\n",
              "          element.appendChild(docLink);\n",
              "        }\n",
              "      </script>\n",
              "    </div>\n",
              "  </div>\n",
              "  "
            ]
          },
          "metadata": {},
          "execution_count": 44
        }
      ],
      "source": [
        "df\n",
        "# The following features are important for our machine learning models."
      ]
    },
    {
      "cell_type": "markdown",
      "id": "e2fb2a6e",
      "metadata": {
        "papermill": {
          "duration": 0.109804,
          "end_time": "2022-03-31T11:20:33.314807",
          "exception": false,
          "start_time": "2022-03-31T11:20:33.205003",
          "status": "completed"
        },
        "tags": [],
        "id": "e2fb2a6e"
      },
      "source": [
        "# CALCULATE AIR QUALITY INDEX FOR SO2 BASED ON FORMULA\n",
        "The air quality index is a piecewise linear function of the pollutant concentration. At the boundary between AQI categories, there is a discontinuous jump of one AQI unit. To convert from concentration to AQI this equation is used"
      ]
    },
    {
      "cell_type": "markdown",
      "id": "935f8fd7",
      "metadata": {
        "papermill": {
          "duration": 0.112757,
          "end_time": "2022-03-31T11:20:33.537703",
          "exception": false,
          "start_time": "2022-03-31T11:20:33.424946",
          "status": "completed"
        },
        "tags": [],
        "id": "935f8fd7"
      },
      "source": [
        "### Function to calculate so2 individual pollutant index(si)"
      ]
    },
    {
      "cell_type": "code",
      "execution_count": 45,
      "id": "5c1820a4",
      "metadata": {
        "execution": {
          "iopub.execute_input": "2022-03-31T11:20:33.771043Z",
          "iopub.status.busy": "2022-03-31T11:20:33.770315Z",
          "iopub.status.idle": "2022-03-31T11:20:34.071441Z",
          "shell.execute_reply": "2022-03-31T11:20:34.070859Z",
          "shell.execute_reply.started": "2022-03-31T11:12:02.609769Z"
        },
        "papermill": {
          "duration": 0.42081,
          "end_time": "2022-03-31T11:20:34.071614",
          "exception": false,
          "start_time": "2022-03-31T11:20:33.650804",
          "status": "completed"
        },
        "tags": [],
        "colab": {
          "base_uri": "https://localhost:8080/",
          "height": 206
        },
        "id": "5c1820a4",
        "outputId": "01a3c339-2b3f-4e7a-9b40-b94b2c1187de"
      },
      "outputs": [
        {
          "output_type": "execute_result",
          "data": {
            "text/plain": [
              "   so2    SOi\n",
              "0  4.8  6.000\n",
              "1  3.1  3.875\n",
              "2  6.2  7.750\n",
              "3  6.3  7.875\n",
              "4  4.7  5.875"
            ],
            "text/html": [
              "\n",
              "  <div id=\"df-da9b8796-9b12-46f6-810e-cab523ec0d86\">\n",
              "    <div class=\"colab-df-container\">\n",
              "      <div>\n",
              "<style scoped>\n",
              "    .dataframe tbody tr th:only-of-type {\n",
              "        vertical-align: middle;\n",
              "    }\n",
              "\n",
              "    .dataframe tbody tr th {\n",
              "        vertical-align: top;\n",
              "    }\n",
              "\n",
              "    .dataframe thead th {\n",
              "        text-align: right;\n",
              "    }\n",
              "</style>\n",
              "<table border=\"1\" class=\"dataframe\">\n",
              "  <thead>\n",
              "    <tr style=\"text-align: right;\">\n",
              "      <th></th>\n",
              "      <th>so2</th>\n",
              "      <th>SOi</th>\n",
              "    </tr>\n",
              "  </thead>\n",
              "  <tbody>\n",
              "    <tr>\n",
              "      <th>0</th>\n",
              "      <td>4.8</td>\n",
              "      <td>6.000</td>\n",
              "    </tr>\n",
              "    <tr>\n",
              "      <th>1</th>\n",
              "      <td>3.1</td>\n",
              "      <td>3.875</td>\n",
              "    </tr>\n",
              "    <tr>\n",
              "      <th>2</th>\n",
              "      <td>6.2</td>\n",
              "      <td>7.750</td>\n",
              "    </tr>\n",
              "    <tr>\n",
              "      <th>3</th>\n",
              "      <td>6.3</td>\n",
              "      <td>7.875</td>\n",
              "    </tr>\n",
              "    <tr>\n",
              "      <th>4</th>\n",
              "      <td>4.7</td>\n",
              "      <td>5.875</td>\n",
              "    </tr>\n",
              "  </tbody>\n",
              "</table>\n",
              "</div>\n",
              "      <button class=\"colab-df-convert\" onclick=\"convertToInteractive('df-da9b8796-9b12-46f6-810e-cab523ec0d86')\"\n",
              "              title=\"Convert this dataframe to an interactive table.\"\n",
              "              style=\"display:none;\">\n",
              "        \n",
              "  <svg xmlns=\"http://www.w3.org/2000/svg\" height=\"24px\"viewBox=\"0 0 24 24\"\n",
              "       width=\"24px\">\n",
              "    <path d=\"M0 0h24v24H0V0z\" fill=\"none\"/>\n",
              "    <path d=\"M18.56 5.44l.94 2.06.94-2.06 2.06-.94-2.06-.94-.94-2.06-.94 2.06-2.06.94zm-11 1L8.5 8.5l.94-2.06 2.06-.94-2.06-.94L8.5 2.5l-.94 2.06-2.06.94zm10 10l.94 2.06.94-2.06 2.06-.94-2.06-.94-.94-2.06-.94 2.06-2.06.94z\"/><path d=\"M17.41 7.96l-1.37-1.37c-.4-.4-.92-.59-1.43-.59-.52 0-1.04.2-1.43.59L10.3 9.45l-7.72 7.72c-.78.78-.78 2.05 0 2.83L4 21.41c.39.39.9.59 1.41.59.51 0 1.02-.2 1.41-.59l7.78-7.78 2.81-2.81c.8-.78.8-2.07 0-2.86zM5.41 20L4 18.59l7.72-7.72 1.47 1.35L5.41 20z\"/>\n",
              "  </svg>\n",
              "      </button>\n",
              "      \n",
              "  <style>\n",
              "    .colab-df-container {\n",
              "      display:flex;\n",
              "      flex-wrap:wrap;\n",
              "      gap: 12px;\n",
              "    }\n",
              "\n",
              "    .colab-df-convert {\n",
              "      background-color: #E8F0FE;\n",
              "      border: none;\n",
              "      border-radius: 50%;\n",
              "      cursor: pointer;\n",
              "      display: none;\n",
              "      fill: #1967D2;\n",
              "      height: 32px;\n",
              "      padding: 0 0 0 0;\n",
              "      width: 32px;\n",
              "    }\n",
              "\n",
              "    .colab-df-convert:hover {\n",
              "      background-color: #E2EBFA;\n",
              "      box-shadow: 0px 1px 2px rgba(60, 64, 67, 0.3), 0px 1px 3px 1px rgba(60, 64, 67, 0.15);\n",
              "      fill: #174EA6;\n",
              "    }\n",
              "\n",
              "    [theme=dark] .colab-df-convert {\n",
              "      background-color: #3B4455;\n",
              "      fill: #D2E3FC;\n",
              "    }\n",
              "\n",
              "    [theme=dark] .colab-df-convert:hover {\n",
              "      background-color: #434B5C;\n",
              "      box-shadow: 0px 1px 3px 1px rgba(0, 0, 0, 0.15);\n",
              "      filter: drop-shadow(0px 1px 2px rgba(0, 0, 0, 0.3));\n",
              "      fill: #FFFFFF;\n",
              "    }\n",
              "  </style>\n",
              "\n",
              "      <script>\n",
              "        const buttonEl =\n",
              "          document.querySelector('#df-da9b8796-9b12-46f6-810e-cab523ec0d86 button.colab-df-convert');\n",
              "        buttonEl.style.display =\n",
              "          google.colab.kernel.accessAllowed ? 'block' : 'none';\n",
              "\n",
              "        async function convertToInteractive(key) {\n",
              "          const element = document.querySelector('#df-da9b8796-9b12-46f6-810e-cab523ec0d86');\n",
              "          const dataTable =\n",
              "            await google.colab.kernel.invokeFunction('convertToInteractive',\n",
              "                                                     [key], {});\n",
              "          if (!dataTable) return;\n",
              "\n",
              "          const docLinkHtml = 'Like what you see? Visit the ' +\n",
              "            '<a target=\"_blank\" href=https://colab.research.google.com/notebooks/data_table.ipynb>data table notebook</a>'\n",
              "            + ' to learn more about interactive tables.';\n",
              "          element.innerHTML = '';\n",
              "          dataTable['output_type'] = 'display_data';\n",
              "          await google.colab.output.renderOutput(dataTable, element);\n",
              "          const docLink = document.createElement('div');\n",
              "          docLink.innerHTML = docLinkHtml;\n",
              "          element.appendChild(docLink);\n",
              "        }\n",
              "      </script>\n",
              "    </div>\n",
              "  </div>\n",
              "  "
            ]
          },
          "metadata": {},
          "execution_count": 45
        }
      ],
      "source": [
        "def cal_SOi(so2):\n",
        "    si=0\n",
        "    if (so2<=40):\n",
        "     si= so2*(50/40)\n",
        "    elif (so2>40 and so2<=80):\n",
        "     si= 50+(so2-40)*(50/40)\n",
        "    elif (so2>80 and so2<=380):\n",
        "     si= 100+(so2-80)*(100/300)\n",
        "    elif (so2>380 and so2<=800):\n",
        "     si= 200+(so2-380)*(100/420)\n",
        "    elif (so2>800 and so2<=1600):\n",
        "     si= 300+(so2-800)*(100/800)\n",
        "    elif (so2>1600):\n",
        "     si= 400+(so2-1600)*(100/800)\n",
        "    return si\n",
        "df['SOi']=df['so2'].apply(cal_SOi)\n",
        "data= df[['so2','SOi']]\n",
        "data.head()\n",
        "# calculating the individual pollutant index for so2(sulphur dioxide)"
      ]
    },
    {
      "cell_type": "markdown",
      "id": "d51cc577",
      "metadata": {
        "papermill": {
          "duration": 0.110458,
          "end_time": "2022-03-31T11:20:34.292719",
          "exception": false,
          "start_time": "2022-03-31T11:20:34.182261",
          "status": "completed"
        },
        "tags": [],
        "id": "d51cc577"
      },
      "source": [
        "### Function to calculate no2 individual pollutant index(ni)"
      ]
    },
    {
      "cell_type": "code",
      "execution_count": 46,
      "id": "ed766e43",
      "metadata": {
        "execution": {
          "iopub.execute_input": "2022-03-31T11:20:34.543821Z",
          "iopub.status.busy": "2022-03-31T11:20:34.543107Z",
          "iopub.status.idle": "2022-03-31T11:20:34.845908Z",
          "shell.execute_reply": "2022-03-31T11:20:34.845262Z",
          "shell.execute_reply.started": "2022-03-31T11:12:02.907496Z"
        },
        "papermill": {
          "duration": 0.442961,
          "end_time": "2022-03-31T11:20:34.846068",
          "exception": false,
          "start_time": "2022-03-31T11:20:34.403107",
          "status": "completed"
        },
        "tags": [],
        "colab": {
          "base_uri": "https://localhost:8080/",
          "height": 206
        },
        "id": "ed766e43",
        "outputId": "92b632e9-8359-4da4-ed23-d0d09fadc7f7"
      },
      "outputs": [
        {
          "output_type": "execute_result",
          "data": {
            "text/plain": [
              "    no2     Noi\n",
              "0  17.4  21.750\n",
              "1   7.0   8.750\n",
              "2  28.5  35.625\n",
              "3  14.7  18.375\n",
              "4   7.5   9.375"
            ],
            "text/html": [
              "\n",
              "  <div id=\"df-6a03b61d-fc8a-4f06-ac3e-6eeaf6e9cf34\">\n",
              "    <div class=\"colab-df-container\">\n",
              "      <div>\n",
              "<style scoped>\n",
              "    .dataframe tbody tr th:only-of-type {\n",
              "        vertical-align: middle;\n",
              "    }\n",
              "\n",
              "    .dataframe tbody tr th {\n",
              "        vertical-align: top;\n",
              "    }\n",
              "\n",
              "    .dataframe thead th {\n",
              "        text-align: right;\n",
              "    }\n",
              "</style>\n",
              "<table border=\"1\" class=\"dataframe\">\n",
              "  <thead>\n",
              "    <tr style=\"text-align: right;\">\n",
              "      <th></th>\n",
              "      <th>no2</th>\n",
              "      <th>Noi</th>\n",
              "    </tr>\n",
              "  </thead>\n",
              "  <tbody>\n",
              "    <tr>\n",
              "      <th>0</th>\n",
              "      <td>17.4</td>\n",
              "      <td>21.750</td>\n",
              "    </tr>\n",
              "    <tr>\n",
              "      <th>1</th>\n",
              "      <td>7.0</td>\n",
              "      <td>8.750</td>\n",
              "    </tr>\n",
              "    <tr>\n",
              "      <th>2</th>\n",
              "      <td>28.5</td>\n",
              "      <td>35.625</td>\n",
              "    </tr>\n",
              "    <tr>\n",
              "      <th>3</th>\n",
              "      <td>14.7</td>\n",
              "      <td>18.375</td>\n",
              "    </tr>\n",
              "    <tr>\n",
              "      <th>4</th>\n",
              "      <td>7.5</td>\n",
              "      <td>9.375</td>\n",
              "    </tr>\n",
              "  </tbody>\n",
              "</table>\n",
              "</div>\n",
              "      <button class=\"colab-df-convert\" onclick=\"convertToInteractive('df-6a03b61d-fc8a-4f06-ac3e-6eeaf6e9cf34')\"\n",
              "              title=\"Convert this dataframe to an interactive table.\"\n",
              "              style=\"display:none;\">\n",
              "        \n",
              "  <svg xmlns=\"http://www.w3.org/2000/svg\" height=\"24px\"viewBox=\"0 0 24 24\"\n",
              "       width=\"24px\">\n",
              "    <path d=\"M0 0h24v24H0V0z\" fill=\"none\"/>\n",
              "    <path d=\"M18.56 5.44l.94 2.06.94-2.06 2.06-.94-2.06-.94-.94-2.06-.94 2.06-2.06.94zm-11 1L8.5 8.5l.94-2.06 2.06-.94-2.06-.94L8.5 2.5l-.94 2.06-2.06.94zm10 10l.94 2.06.94-2.06 2.06-.94-2.06-.94-.94-2.06-.94 2.06-2.06.94z\"/><path d=\"M17.41 7.96l-1.37-1.37c-.4-.4-.92-.59-1.43-.59-.52 0-1.04.2-1.43.59L10.3 9.45l-7.72 7.72c-.78.78-.78 2.05 0 2.83L4 21.41c.39.39.9.59 1.41.59.51 0 1.02-.2 1.41-.59l7.78-7.78 2.81-2.81c.8-.78.8-2.07 0-2.86zM5.41 20L4 18.59l7.72-7.72 1.47 1.35L5.41 20z\"/>\n",
              "  </svg>\n",
              "      </button>\n",
              "      \n",
              "  <style>\n",
              "    .colab-df-container {\n",
              "      display:flex;\n",
              "      flex-wrap:wrap;\n",
              "      gap: 12px;\n",
              "    }\n",
              "\n",
              "    .colab-df-convert {\n",
              "      background-color: #E8F0FE;\n",
              "      border: none;\n",
              "      border-radius: 50%;\n",
              "      cursor: pointer;\n",
              "      display: none;\n",
              "      fill: #1967D2;\n",
              "      height: 32px;\n",
              "      padding: 0 0 0 0;\n",
              "      width: 32px;\n",
              "    }\n",
              "\n",
              "    .colab-df-convert:hover {\n",
              "      background-color: #E2EBFA;\n",
              "      box-shadow: 0px 1px 2px rgba(60, 64, 67, 0.3), 0px 1px 3px 1px rgba(60, 64, 67, 0.15);\n",
              "      fill: #174EA6;\n",
              "    }\n",
              "\n",
              "    [theme=dark] .colab-df-convert {\n",
              "      background-color: #3B4455;\n",
              "      fill: #D2E3FC;\n",
              "    }\n",
              "\n",
              "    [theme=dark] .colab-df-convert:hover {\n",
              "      background-color: #434B5C;\n",
              "      box-shadow: 0px 1px 3px 1px rgba(0, 0, 0, 0.15);\n",
              "      filter: drop-shadow(0px 1px 2px rgba(0, 0, 0, 0.3));\n",
              "      fill: #FFFFFF;\n",
              "    }\n",
              "  </style>\n",
              "\n",
              "      <script>\n",
              "        const buttonEl =\n",
              "          document.querySelector('#df-6a03b61d-fc8a-4f06-ac3e-6eeaf6e9cf34 button.colab-df-convert');\n",
              "        buttonEl.style.display =\n",
              "          google.colab.kernel.accessAllowed ? 'block' : 'none';\n",
              "\n",
              "        async function convertToInteractive(key) {\n",
              "          const element = document.querySelector('#df-6a03b61d-fc8a-4f06-ac3e-6eeaf6e9cf34');\n",
              "          const dataTable =\n",
              "            await google.colab.kernel.invokeFunction('convertToInteractive',\n",
              "                                                     [key], {});\n",
              "          if (!dataTable) return;\n",
              "\n",
              "          const docLinkHtml = 'Like what you see? Visit the ' +\n",
              "            '<a target=\"_blank\" href=https://colab.research.google.com/notebooks/data_table.ipynb>data table notebook</a>'\n",
              "            + ' to learn more about interactive tables.';\n",
              "          element.innerHTML = '';\n",
              "          dataTable['output_type'] = 'display_data';\n",
              "          await google.colab.output.renderOutput(dataTable, element);\n",
              "          const docLink = document.createElement('div');\n",
              "          docLink.innerHTML = docLinkHtml;\n",
              "          element.appendChild(docLink);\n",
              "        }\n",
              "      </script>\n",
              "    </div>\n",
              "  </div>\n",
              "  "
            ]
          },
          "metadata": {},
          "execution_count": 46
        }
      ],
      "source": [
        "def cal_Noi(no2):\n",
        "    ni=0\n",
        "    if(no2<=40):\n",
        "     ni= no2*50/40\n",
        "    elif(no2>40 and no2<=80):\n",
        "     ni= 50+(no2-40)*(50/40)\n",
        "    elif(no2>80 and no2<=180):\n",
        "     ni= 100+(no2-80)*(100/100)\n",
        "    elif(no2>180 and no2<=280):\n",
        "     ni= 200+(no2-180)*(100/100)\n",
        "    elif(no2>280 and no2<=400):\n",
        "     ni= 300+(no2-280)*(100/120)\n",
        "    else:\n",
        "     ni= 400+(no2-400)*(100/120)\n",
        "    return ni\n",
        "df['Noi']=df['no2'].apply(cal_Noi)\n",
        "data= df[['no2','Noi']]\n",
        "data.head()\n",
        "# calculating the individual pollutant index for no2(nitrogen dioxide)"
      ]
    },
    {
      "cell_type": "markdown",
      "id": "c48cf394",
      "metadata": {
        "papermill": {
          "duration": 0.120114,
          "end_time": "2022-03-31T11:20:35.090820",
          "exception": false,
          "start_time": "2022-03-31T11:20:34.970706",
          "status": "completed"
        },
        "tags": [],
        "id": "c48cf394"
      },
      "source": [
        "### Function to calculate rspm individual pollutant index(rpi)"
      ]
    },
    {
      "cell_type": "code",
      "execution_count": 47,
      "id": "d2185971",
      "metadata": {
        "execution": {
          "iopub.execute_input": "2022-03-31T11:20:35.337271Z",
          "iopub.status.busy": "2022-03-31T11:20:35.335986Z",
          "iopub.status.idle": "2022-03-31T11:20:35.619542Z",
          "shell.execute_reply": "2022-03-31T11:20:35.618998Z",
          "shell.execute_reply.started": "2022-03-31T11:12:03.220174Z"
        },
        "papermill": {
          "duration": 0.410901,
          "end_time": "2022-03-31T11:20:35.619690",
          "exception": false,
          "start_time": "2022-03-31T11:20:35.208789",
          "status": "completed"
        },
        "tags": [],
        "colab": {
          "base_uri": "https://localhost:8080/",
          "height": 206
        },
        "id": "d2185971",
        "outputId": "c19a2220-9410-463c-db8f-9860f980c854"
      },
      "outputs": [
        {
          "output_type": "execute_result",
          "data": {
            "text/plain": [
              "   rspm  Rpi\n",
              "0   0.0  0.0\n",
              "1   0.0  0.0\n",
              "2   0.0  0.0\n",
              "3   0.0  0.0\n",
              "4   0.0  0.0"
            ],
            "text/html": [
              "\n",
              "  <div id=\"df-33a24cd9-5f61-4c06-9599-f2d2ccfc96cc\">\n",
              "    <div class=\"colab-df-container\">\n",
              "      <div>\n",
              "<style scoped>\n",
              "    .dataframe tbody tr th:only-of-type {\n",
              "        vertical-align: middle;\n",
              "    }\n",
              "\n",
              "    .dataframe tbody tr th {\n",
              "        vertical-align: top;\n",
              "    }\n",
              "\n",
              "    .dataframe thead th {\n",
              "        text-align: right;\n",
              "    }\n",
              "</style>\n",
              "<table border=\"1\" class=\"dataframe\">\n",
              "  <thead>\n",
              "    <tr style=\"text-align: right;\">\n",
              "      <th></th>\n",
              "      <th>rspm</th>\n",
              "      <th>Rpi</th>\n",
              "    </tr>\n",
              "  </thead>\n",
              "  <tbody>\n",
              "    <tr>\n",
              "      <th>0</th>\n",
              "      <td>0.0</td>\n",
              "      <td>0.0</td>\n",
              "    </tr>\n",
              "    <tr>\n",
              "      <th>1</th>\n",
              "      <td>0.0</td>\n",
              "      <td>0.0</td>\n",
              "    </tr>\n",
              "    <tr>\n",
              "      <th>2</th>\n",
              "      <td>0.0</td>\n",
              "      <td>0.0</td>\n",
              "    </tr>\n",
              "    <tr>\n",
              "      <th>3</th>\n",
              "      <td>0.0</td>\n",
              "      <td>0.0</td>\n",
              "    </tr>\n",
              "    <tr>\n",
              "      <th>4</th>\n",
              "      <td>0.0</td>\n",
              "      <td>0.0</td>\n",
              "    </tr>\n",
              "  </tbody>\n",
              "</table>\n",
              "</div>\n",
              "      <button class=\"colab-df-convert\" onclick=\"convertToInteractive('df-33a24cd9-5f61-4c06-9599-f2d2ccfc96cc')\"\n",
              "              title=\"Convert this dataframe to an interactive table.\"\n",
              "              style=\"display:none;\">\n",
              "        \n",
              "  <svg xmlns=\"http://www.w3.org/2000/svg\" height=\"24px\"viewBox=\"0 0 24 24\"\n",
              "       width=\"24px\">\n",
              "    <path d=\"M0 0h24v24H0V0z\" fill=\"none\"/>\n",
              "    <path d=\"M18.56 5.44l.94 2.06.94-2.06 2.06-.94-2.06-.94-.94-2.06-.94 2.06-2.06.94zm-11 1L8.5 8.5l.94-2.06 2.06-.94-2.06-.94L8.5 2.5l-.94 2.06-2.06.94zm10 10l.94 2.06.94-2.06 2.06-.94-2.06-.94-.94-2.06-.94 2.06-2.06.94z\"/><path d=\"M17.41 7.96l-1.37-1.37c-.4-.4-.92-.59-1.43-.59-.52 0-1.04.2-1.43.59L10.3 9.45l-7.72 7.72c-.78.78-.78 2.05 0 2.83L4 21.41c.39.39.9.59 1.41.59.51 0 1.02-.2 1.41-.59l7.78-7.78 2.81-2.81c.8-.78.8-2.07 0-2.86zM5.41 20L4 18.59l7.72-7.72 1.47 1.35L5.41 20z\"/>\n",
              "  </svg>\n",
              "      </button>\n",
              "      \n",
              "  <style>\n",
              "    .colab-df-container {\n",
              "      display:flex;\n",
              "      flex-wrap:wrap;\n",
              "      gap: 12px;\n",
              "    }\n",
              "\n",
              "    .colab-df-convert {\n",
              "      background-color: #E8F0FE;\n",
              "      border: none;\n",
              "      border-radius: 50%;\n",
              "      cursor: pointer;\n",
              "      display: none;\n",
              "      fill: #1967D2;\n",
              "      height: 32px;\n",
              "      padding: 0 0 0 0;\n",
              "      width: 32px;\n",
              "    }\n",
              "\n",
              "    .colab-df-convert:hover {\n",
              "      background-color: #E2EBFA;\n",
              "      box-shadow: 0px 1px 2px rgba(60, 64, 67, 0.3), 0px 1px 3px 1px rgba(60, 64, 67, 0.15);\n",
              "      fill: #174EA6;\n",
              "    }\n",
              "\n",
              "    [theme=dark] .colab-df-convert {\n",
              "      background-color: #3B4455;\n",
              "      fill: #D2E3FC;\n",
              "    }\n",
              "\n",
              "    [theme=dark] .colab-df-convert:hover {\n",
              "      background-color: #434B5C;\n",
              "      box-shadow: 0px 1px 3px 1px rgba(0, 0, 0, 0.15);\n",
              "      filter: drop-shadow(0px 1px 2px rgba(0, 0, 0, 0.3));\n",
              "      fill: #FFFFFF;\n",
              "    }\n",
              "  </style>\n",
              "\n",
              "      <script>\n",
              "        const buttonEl =\n",
              "          document.querySelector('#df-33a24cd9-5f61-4c06-9599-f2d2ccfc96cc button.colab-df-convert');\n",
              "        buttonEl.style.display =\n",
              "          google.colab.kernel.accessAllowed ? 'block' : 'none';\n",
              "\n",
              "        async function convertToInteractive(key) {\n",
              "          const element = document.querySelector('#df-33a24cd9-5f61-4c06-9599-f2d2ccfc96cc');\n",
              "          const dataTable =\n",
              "            await google.colab.kernel.invokeFunction('convertToInteractive',\n",
              "                                                     [key], {});\n",
              "          if (!dataTable) return;\n",
              "\n",
              "          const docLinkHtml = 'Like what you see? Visit the ' +\n",
              "            '<a target=\"_blank\" href=https://colab.research.google.com/notebooks/data_table.ipynb>data table notebook</a>'\n",
              "            + ' to learn more about interactive tables.';\n",
              "          element.innerHTML = '';\n",
              "          dataTable['output_type'] = 'display_data';\n",
              "          await google.colab.output.renderOutput(dataTable, element);\n",
              "          const docLink = document.createElement('div');\n",
              "          docLink.innerHTML = docLinkHtml;\n",
              "          element.appendChild(docLink);\n",
              "        }\n",
              "      </script>\n",
              "    </div>\n",
              "  </div>\n",
              "  "
            ]
          },
          "metadata": {},
          "execution_count": 47
        }
      ],
      "source": [
        "def cal_RSPMI(rspm):\n",
        "    rpi=0\n",
        "    if(rpi<=30):\n",
        "     rpi=rpi*50/30\n",
        "    elif(rpi>30 and rpi<=60):\n",
        "     rpi=50+(rpi-30)*50/30\n",
        "    elif(rpi>60 and rpi<=90):\n",
        "     rpi=100+(rpi-60)*100/30\n",
        "    elif(rpi>90 and rpi<=120):\n",
        "     rpi=200+(rpi-90)*100/30\n",
        "    elif(rpi>120 and rpi<=250):\n",
        "     rpi=300+(rpi-120)*(100/130)\n",
        "    else:\n",
        "     rpi=400+(rpi-250)*(100/130)\n",
        "    return rpi\n",
        "df['Rpi']=df['rspm'].apply(cal_RSPMI)\n",
        "data= df[['rspm','Rpi']]\n",
        "data.head()\n",
        "# calculating the individual pollutant index for rspm(respirable suspended particualte matter concentration)"
      ]
    },
    {
      "cell_type": "markdown",
      "id": "81156bb5",
      "metadata": {
        "papermill": {
          "duration": 0.11753,
          "end_time": "2022-03-31T11:20:35.854003",
          "exception": false,
          "start_time": "2022-03-31T11:20:35.736473",
          "status": "completed"
        },
        "tags": [],
        "id": "81156bb5"
      },
      "source": [
        "### Function to calculate spm individual pollutant index(spi)"
      ]
    },
    {
      "cell_type": "code",
      "execution_count": 48,
      "id": "c452ad6a",
      "metadata": {
        "execution": {
          "iopub.execute_input": "2022-03-31T11:20:36.092021Z",
          "iopub.status.busy": "2022-03-31T11:20:36.091290Z",
          "iopub.status.idle": "2022-03-31T11:20:36.455847Z",
          "shell.execute_reply": "2022-03-31T11:20:36.455175Z",
          "shell.execute_reply.started": "2022-03-31T11:12:03.498616Z"
        },
        "papermill": {
          "duration": 0.483833,
          "end_time": "2022-03-31T11:20:36.455987",
          "exception": false,
          "start_time": "2022-03-31T11:20:35.972154",
          "status": "completed"
        },
        "tags": [],
        "colab": {
          "base_uri": "https://localhost:8080/",
          "height": 206
        },
        "id": "c452ad6a",
        "outputId": "e1aa6520-f744-4ee7-8822-72ab3efb130f"
      },
      "outputs": [
        {
          "output_type": "execute_result",
          "data": {
            "text/plain": [
              "   spm  SPMi\n",
              "0  0.0   0.0\n",
              "1  0.0   0.0\n",
              "2  0.0   0.0\n",
              "3  0.0   0.0\n",
              "4  0.0   0.0"
            ],
            "text/html": [
              "\n",
              "  <div id=\"df-e765e6c3-164b-414b-837d-0e68994a210b\">\n",
              "    <div class=\"colab-df-container\">\n",
              "      <div>\n",
              "<style scoped>\n",
              "    .dataframe tbody tr th:only-of-type {\n",
              "        vertical-align: middle;\n",
              "    }\n",
              "\n",
              "    .dataframe tbody tr th {\n",
              "        vertical-align: top;\n",
              "    }\n",
              "\n",
              "    .dataframe thead th {\n",
              "        text-align: right;\n",
              "    }\n",
              "</style>\n",
              "<table border=\"1\" class=\"dataframe\">\n",
              "  <thead>\n",
              "    <tr style=\"text-align: right;\">\n",
              "      <th></th>\n",
              "      <th>spm</th>\n",
              "      <th>SPMi</th>\n",
              "    </tr>\n",
              "  </thead>\n",
              "  <tbody>\n",
              "    <tr>\n",
              "      <th>0</th>\n",
              "      <td>0.0</td>\n",
              "      <td>0.0</td>\n",
              "    </tr>\n",
              "    <tr>\n",
              "      <th>1</th>\n",
              "      <td>0.0</td>\n",
              "      <td>0.0</td>\n",
              "    </tr>\n",
              "    <tr>\n",
              "      <th>2</th>\n",
              "      <td>0.0</td>\n",
              "      <td>0.0</td>\n",
              "    </tr>\n",
              "    <tr>\n",
              "      <th>3</th>\n",
              "      <td>0.0</td>\n",
              "      <td>0.0</td>\n",
              "    </tr>\n",
              "    <tr>\n",
              "      <th>4</th>\n",
              "      <td>0.0</td>\n",
              "      <td>0.0</td>\n",
              "    </tr>\n",
              "  </tbody>\n",
              "</table>\n",
              "</div>\n",
              "      <button class=\"colab-df-convert\" onclick=\"convertToInteractive('df-e765e6c3-164b-414b-837d-0e68994a210b')\"\n",
              "              title=\"Convert this dataframe to an interactive table.\"\n",
              "              style=\"display:none;\">\n",
              "        \n",
              "  <svg xmlns=\"http://www.w3.org/2000/svg\" height=\"24px\"viewBox=\"0 0 24 24\"\n",
              "       width=\"24px\">\n",
              "    <path d=\"M0 0h24v24H0V0z\" fill=\"none\"/>\n",
              "    <path d=\"M18.56 5.44l.94 2.06.94-2.06 2.06-.94-2.06-.94-.94-2.06-.94 2.06-2.06.94zm-11 1L8.5 8.5l.94-2.06 2.06-.94-2.06-.94L8.5 2.5l-.94 2.06-2.06.94zm10 10l.94 2.06.94-2.06 2.06-.94-2.06-.94-.94-2.06-.94 2.06-2.06.94z\"/><path d=\"M17.41 7.96l-1.37-1.37c-.4-.4-.92-.59-1.43-.59-.52 0-1.04.2-1.43.59L10.3 9.45l-7.72 7.72c-.78.78-.78 2.05 0 2.83L4 21.41c.39.39.9.59 1.41.59.51 0 1.02-.2 1.41-.59l7.78-7.78 2.81-2.81c.8-.78.8-2.07 0-2.86zM5.41 20L4 18.59l7.72-7.72 1.47 1.35L5.41 20z\"/>\n",
              "  </svg>\n",
              "      </button>\n",
              "      \n",
              "  <style>\n",
              "    .colab-df-container {\n",
              "      display:flex;\n",
              "      flex-wrap:wrap;\n",
              "      gap: 12px;\n",
              "    }\n",
              "\n",
              "    .colab-df-convert {\n",
              "      background-color: #E8F0FE;\n",
              "      border: none;\n",
              "      border-radius: 50%;\n",
              "      cursor: pointer;\n",
              "      display: none;\n",
              "      fill: #1967D2;\n",
              "      height: 32px;\n",
              "      padding: 0 0 0 0;\n",
              "      width: 32px;\n",
              "    }\n",
              "\n",
              "    .colab-df-convert:hover {\n",
              "      background-color: #E2EBFA;\n",
              "      box-shadow: 0px 1px 2px rgba(60, 64, 67, 0.3), 0px 1px 3px 1px rgba(60, 64, 67, 0.15);\n",
              "      fill: #174EA6;\n",
              "    }\n",
              "\n",
              "    [theme=dark] .colab-df-convert {\n",
              "      background-color: #3B4455;\n",
              "      fill: #D2E3FC;\n",
              "    }\n",
              "\n",
              "    [theme=dark] .colab-df-convert:hover {\n",
              "      background-color: #434B5C;\n",
              "      box-shadow: 0px 1px 3px 1px rgba(0, 0, 0, 0.15);\n",
              "      filter: drop-shadow(0px 1px 2px rgba(0, 0, 0, 0.3));\n",
              "      fill: #FFFFFF;\n",
              "    }\n",
              "  </style>\n",
              "\n",
              "      <script>\n",
              "        const buttonEl =\n",
              "          document.querySelector('#df-e765e6c3-164b-414b-837d-0e68994a210b button.colab-df-convert');\n",
              "        buttonEl.style.display =\n",
              "          google.colab.kernel.accessAllowed ? 'block' : 'none';\n",
              "\n",
              "        async function convertToInteractive(key) {\n",
              "          const element = document.querySelector('#df-e765e6c3-164b-414b-837d-0e68994a210b');\n",
              "          const dataTable =\n",
              "            await google.colab.kernel.invokeFunction('convertToInteractive',\n",
              "                                                     [key], {});\n",
              "          if (!dataTable) return;\n",
              "\n",
              "          const docLinkHtml = 'Like what you see? Visit the ' +\n",
              "            '<a target=\"_blank\" href=https://colab.research.google.com/notebooks/data_table.ipynb>data table notebook</a>'\n",
              "            + ' to learn more about interactive tables.';\n",
              "          element.innerHTML = '';\n",
              "          dataTable['output_type'] = 'display_data';\n",
              "          await google.colab.output.renderOutput(dataTable, element);\n",
              "          const docLink = document.createElement('div');\n",
              "          docLink.innerHTML = docLinkHtml;\n",
              "          element.appendChild(docLink);\n",
              "        }\n",
              "      </script>\n",
              "    </div>\n",
              "  </div>\n",
              "  "
            ]
          },
          "metadata": {},
          "execution_count": 48
        }
      ],
      "source": [
        "def cal_SPMi(spm):\n",
        "    spi=0\n",
        "    if(spm<=50):\n",
        "     spi=spm*50/50\n",
        "    elif(spm>50 and spm<=100):\n",
        "     spi=50+(spm-50)*(50/50)\n",
        "    elif(spm>100 and spm<=250):\n",
        "     spi= 100+(spm-100)*(100/150)\n",
        "    elif(spm>250 and spm<=350):\n",
        "     spi=200+(spm-250)*(100/100)\n",
        "    elif(spm>350 and spm<=430):\n",
        "     spi=300+(spm-350)*(100/80)\n",
        "    else:\n",
        "     spi=400+(spm-430)*(100/430)\n",
        "    return spi\n",
        "   \n",
        "df['SPMi']=df['spm'].apply(cal_SPMi)\n",
        "data= df[['spm','SPMi']]\n",
        "data.head()\n",
        "# calculating the individual pollutant index for spm(suspended particulate matter)"
      ]
    },
    {
      "cell_type": "markdown",
      "id": "a6612b49",
      "metadata": {
        "papermill": {
          "duration": 0.112734,
          "end_time": "2022-03-31T11:20:36.683491",
          "exception": false,
          "start_time": "2022-03-31T11:20:36.570757",
          "status": "completed"
        },
        "tags": [],
        "id": "a6612b49"
      },
      "source": [
        "### function to calculate the air quality index (AQI) of every data value"
      ]
    },
    {
      "cell_type": "code",
      "execution_count": 49,
      "id": "b4a5ef1d",
      "metadata": {
        "execution": {
          "iopub.execute_input": "2022-03-31T11:20:36.912694Z",
          "iopub.status.busy": "2022-03-31T11:20:36.912034Z",
          "iopub.status.idle": "2022-03-31T11:20:49.625435Z",
          "shell.execute_reply": "2022-03-31T11:20:49.625889Z",
          "shell.execute_reply.started": "2022-03-31T11:12:03.871875Z"
        },
        "papermill": {
          "duration": 12.829979,
          "end_time": "2022-03-31T11:20:49.626070",
          "exception": false,
          "start_time": "2022-03-31T11:20:36.796091",
          "status": "completed"
        },
        "tags": [],
        "colab": {
          "base_uri": "https://localhost:8080/",
          "height": 206
        },
        "id": "b4a5ef1d",
        "outputId": "09bc4a93-a5c7-4bde-ca1e-224452bd9150"
      },
      "outputs": [
        {
          "output_type": "execute_result",
          "data": {
            "text/plain": [
              "            state    SOi     Noi  Rpi  SPMi     AQI\n",
              "0  Andhra Pradesh  6.000  21.750  0.0   0.0  21.750\n",
              "1  Andhra Pradesh  3.875   8.750  0.0   0.0   8.750\n",
              "2  Andhra Pradesh  7.750  35.625  0.0   0.0  35.625\n",
              "3  Andhra Pradesh  7.875  18.375  0.0   0.0  18.375\n",
              "4  Andhra Pradesh  5.875   9.375  0.0   0.0   9.375"
            ],
            "text/html": [
              "\n",
              "  <div id=\"df-65696a1d-55ce-4505-8987-b221561af54b\">\n",
              "    <div class=\"colab-df-container\">\n",
              "      <div>\n",
              "<style scoped>\n",
              "    .dataframe tbody tr th:only-of-type {\n",
              "        vertical-align: middle;\n",
              "    }\n",
              "\n",
              "    .dataframe tbody tr th {\n",
              "        vertical-align: top;\n",
              "    }\n",
              "\n",
              "    .dataframe thead th {\n",
              "        text-align: right;\n",
              "    }\n",
              "</style>\n",
              "<table border=\"1\" class=\"dataframe\">\n",
              "  <thead>\n",
              "    <tr style=\"text-align: right;\">\n",
              "      <th></th>\n",
              "      <th>state</th>\n",
              "      <th>SOi</th>\n",
              "      <th>Noi</th>\n",
              "      <th>Rpi</th>\n",
              "      <th>SPMi</th>\n",
              "      <th>AQI</th>\n",
              "    </tr>\n",
              "  </thead>\n",
              "  <tbody>\n",
              "    <tr>\n",
              "      <th>0</th>\n",
              "      <td>Andhra Pradesh</td>\n",
              "      <td>6.000</td>\n",
              "      <td>21.750</td>\n",
              "      <td>0.0</td>\n",
              "      <td>0.0</td>\n",
              "      <td>21.750</td>\n",
              "    </tr>\n",
              "    <tr>\n",
              "      <th>1</th>\n",
              "      <td>Andhra Pradesh</td>\n",
              "      <td>3.875</td>\n",
              "      <td>8.750</td>\n",
              "      <td>0.0</td>\n",
              "      <td>0.0</td>\n",
              "      <td>8.750</td>\n",
              "    </tr>\n",
              "    <tr>\n",
              "      <th>2</th>\n",
              "      <td>Andhra Pradesh</td>\n",
              "      <td>7.750</td>\n",
              "      <td>35.625</td>\n",
              "      <td>0.0</td>\n",
              "      <td>0.0</td>\n",
              "      <td>35.625</td>\n",
              "    </tr>\n",
              "    <tr>\n",
              "      <th>3</th>\n",
              "      <td>Andhra Pradesh</td>\n",
              "      <td>7.875</td>\n",
              "      <td>18.375</td>\n",
              "      <td>0.0</td>\n",
              "      <td>0.0</td>\n",
              "      <td>18.375</td>\n",
              "    </tr>\n",
              "    <tr>\n",
              "      <th>4</th>\n",
              "      <td>Andhra Pradesh</td>\n",
              "      <td>5.875</td>\n",
              "      <td>9.375</td>\n",
              "      <td>0.0</td>\n",
              "      <td>0.0</td>\n",
              "      <td>9.375</td>\n",
              "    </tr>\n",
              "  </tbody>\n",
              "</table>\n",
              "</div>\n",
              "      <button class=\"colab-df-convert\" onclick=\"convertToInteractive('df-65696a1d-55ce-4505-8987-b221561af54b')\"\n",
              "              title=\"Convert this dataframe to an interactive table.\"\n",
              "              style=\"display:none;\">\n",
              "        \n",
              "  <svg xmlns=\"http://www.w3.org/2000/svg\" height=\"24px\"viewBox=\"0 0 24 24\"\n",
              "       width=\"24px\">\n",
              "    <path d=\"M0 0h24v24H0V0z\" fill=\"none\"/>\n",
              "    <path d=\"M18.56 5.44l.94 2.06.94-2.06 2.06-.94-2.06-.94-.94-2.06-.94 2.06-2.06.94zm-11 1L8.5 8.5l.94-2.06 2.06-.94-2.06-.94L8.5 2.5l-.94 2.06-2.06.94zm10 10l.94 2.06.94-2.06 2.06-.94-2.06-.94-.94-2.06-.94 2.06-2.06.94z\"/><path d=\"M17.41 7.96l-1.37-1.37c-.4-.4-.92-.59-1.43-.59-.52 0-1.04.2-1.43.59L10.3 9.45l-7.72 7.72c-.78.78-.78 2.05 0 2.83L4 21.41c.39.39.9.59 1.41.59.51 0 1.02-.2 1.41-.59l7.78-7.78 2.81-2.81c.8-.78.8-2.07 0-2.86zM5.41 20L4 18.59l7.72-7.72 1.47 1.35L5.41 20z\"/>\n",
              "  </svg>\n",
              "      </button>\n",
              "      \n",
              "  <style>\n",
              "    .colab-df-container {\n",
              "      display:flex;\n",
              "      flex-wrap:wrap;\n",
              "      gap: 12px;\n",
              "    }\n",
              "\n",
              "    .colab-df-convert {\n",
              "      background-color: #E8F0FE;\n",
              "      border: none;\n",
              "      border-radius: 50%;\n",
              "      cursor: pointer;\n",
              "      display: none;\n",
              "      fill: #1967D2;\n",
              "      height: 32px;\n",
              "      padding: 0 0 0 0;\n",
              "      width: 32px;\n",
              "    }\n",
              "\n",
              "    .colab-df-convert:hover {\n",
              "      background-color: #E2EBFA;\n",
              "      box-shadow: 0px 1px 2px rgba(60, 64, 67, 0.3), 0px 1px 3px 1px rgba(60, 64, 67, 0.15);\n",
              "      fill: #174EA6;\n",
              "    }\n",
              "\n",
              "    [theme=dark] .colab-df-convert {\n",
              "      background-color: #3B4455;\n",
              "      fill: #D2E3FC;\n",
              "    }\n",
              "\n",
              "    [theme=dark] .colab-df-convert:hover {\n",
              "      background-color: #434B5C;\n",
              "      box-shadow: 0px 1px 3px 1px rgba(0, 0, 0, 0.15);\n",
              "      filter: drop-shadow(0px 1px 2px rgba(0, 0, 0, 0.3));\n",
              "      fill: #FFFFFF;\n",
              "    }\n",
              "  </style>\n",
              "\n",
              "      <script>\n",
              "        const buttonEl =\n",
              "          document.querySelector('#df-65696a1d-55ce-4505-8987-b221561af54b button.colab-df-convert');\n",
              "        buttonEl.style.display =\n",
              "          google.colab.kernel.accessAllowed ? 'block' : 'none';\n",
              "\n",
              "        async function convertToInteractive(key) {\n",
              "          const element = document.querySelector('#df-65696a1d-55ce-4505-8987-b221561af54b');\n",
              "          const dataTable =\n",
              "            await google.colab.kernel.invokeFunction('convertToInteractive',\n",
              "                                                     [key], {});\n",
              "          if (!dataTable) return;\n",
              "\n",
              "          const docLinkHtml = 'Like what you see? Visit the ' +\n",
              "            '<a target=\"_blank\" href=https://colab.research.google.com/notebooks/data_table.ipynb>data table notebook</a>'\n",
              "            + ' to learn more about interactive tables.';\n",
              "          element.innerHTML = '';\n",
              "          dataTable['output_type'] = 'display_data';\n",
              "          await google.colab.output.renderOutput(dataTable, element);\n",
              "          const docLink = document.createElement('div');\n",
              "          docLink.innerHTML = docLinkHtml;\n",
              "          element.appendChild(docLink);\n",
              "        }\n",
              "      </script>\n",
              "    </div>\n",
              "  </div>\n",
              "  "
            ]
          },
          "metadata": {},
          "execution_count": 49
        }
      ],
      "source": [
        "def cal_aqi(si,ni,rspmi,spmi):\n",
        "    aqi=0\n",
        "    if(si>ni and si>rspmi and si>spmi):\n",
        "     aqi=si\n",
        "    if(ni>si and ni>rspmi and ni>spmi):\n",
        "     aqi=ni\n",
        "    if(rspmi>si and rspmi>ni and rspmi>spmi):\n",
        "     aqi=rspmi\n",
        "    if(spmi>si and spmi>ni and spmi>rspmi):\n",
        "     aqi=spmi\n",
        "    return aqi\n",
        "\n",
        "df['AQI']=df.apply(lambda x:cal_aqi(x['SOi'],x['Noi'],x['Rpi'],x['SPMi']),axis=1)\n",
        "data= df[['state','SOi','Noi','Rpi','SPMi','AQI']]\n",
        "data.head()\n",
        "# Caluclating the Air Quality Index."
      ]
    },
    {
      "cell_type": "code",
      "execution_count": 50,
      "id": "12381865",
      "metadata": {
        "execution": {
          "iopub.execute_input": "2022-03-31T11:20:49.861885Z",
          "iopub.status.busy": "2022-03-31T11:20:49.861147Z",
          "iopub.status.idle": "2022-03-31T11:20:50.087579Z",
          "shell.execute_reply": "2022-03-31T11:20:50.088097Z",
          "shell.execute_reply.started": "2022-03-31T11:12:16.325157Z"
        },
        "papermill": {
          "duration": 0.349057,
          "end_time": "2022-03-31T11:20:50.088265",
          "exception": false,
          "start_time": "2022-03-31T11:20:49.739208",
          "status": "completed"
        },
        "tags": [],
        "colab": {
          "base_uri": "https://localhost:8080/",
          "height": 206
        },
        "id": "12381865",
        "outputId": "34a383ef-7a05-455e-cd91-0e0031801fe4"
      },
      "outputs": [
        {
          "output_type": "execute_result",
          "data": {
            "text/plain": [
              "            state   location                                type  so2   no2  \\\n",
              "0  Andhra Pradesh  Hyderabad  Residential, Rural and other Areas  4.8  17.4   \n",
              "1  Andhra Pradesh  Hyderabad                     Industrial Area  3.1   7.0   \n",
              "2  Andhra Pradesh  Hyderabad  Residential, Rural and other Areas  6.2  28.5   \n",
              "3  Andhra Pradesh  Hyderabad  Residential, Rural and other Areas  6.3  14.7   \n",
              "4  Andhra Pradesh  Hyderabad                     Industrial Area  4.7   7.5   \n",
              "\n",
              "   rspm  spm  pm2_5    SOi     Noi  Rpi  SPMi     AQI AQI_Range  \n",
              "0   0.0  0.0    0.0  6.000  21.750  0.0   0.0  21.750      Good  \n",
              "1   0.0  0.0    0.0  3.875   8.750  0.0   0.0   8.750      Good  \n",
              "2   0.0  0.0    0.0  7.750  35.625  0.0   0.0  35.625      Good  \n",
              "3   0.0  0.0    0.0  7.875  18.375  0.0   0.0  18.375      Good  \n",
              "4   0.0  0.0    0.0  5.875   9.375  0.0   0.0   9.375      Good  "
            ],
            "text/html": [
              "\n",
              "  <div id=\"df-73fe6bd9-a2b4-45f3-a325-bbe8ad82540c\">\n",
              "    <div class=\"colab-df-container\">\n",
              "      <div>\n",
              "<style scoped>\n",
              "    .dataframe tbody tr th:only-of-type {\n",
              "        vertical-align: middle;\n",
              "    }\n",
              "\n",
              "    .dataframe tbody tr th {\n",
              "        vertical-align: top;\n",
              "    }\n",
              "\n",
              "    .dataframe thead th {\n",
              "        text-align: right;\n",
              "    }\n",
              "</style>\n",
              "<table border=\"1\" class=\"dataframe\">\n",
              "  <thead>\n",
              "    <tr style=\"text-align: right;\">\n",
              "      <th></th>\n",
              "      <th>state</th>\n",
              "      <th>location</th>\n",
              "      <th>type</th>\n",
              "      <th>so2</th>\n",
              "      <th>no2</th>\n",
              "      <th>rspm</th>\n",
              "      <th>spm</th>\n",
              "      <th>pm2_5</th>\n",
              "      <th>SOi</th>\n",
              "      <th>Noi</th>\n",
              "      <th>Rpi</th>\n",
              "      <th>SPMi</th>\n",
              "      <th>AQI</th>\n",
              "      <th>AQI_Range</th>\n",
              "    </tr>\n",
              "  </thead>\n",
              "  <tbody>\n",
              "    <tr>\n",
              "      <th>0</th>\n",
              "      <td>Andhra Pradesh</td>\n",
              "      <td>Hyderabad</td>\n",
              "      <td>Residential, Rural and other Areas</td>\n",
              "      <td>4.8</td>\n",
              "      <td>17.4</td>\n",
              "      <td>0.0</td>\n",
              "      <td>0.0</td>\n",
              "      <td>0.0</td>\n",
              "      <td>6.000</td>\n",
              "      <td>21.750</td>\n",
              "      <td>0.0</td>\n",
              "      <td>0.0</td>\n",
              "      <td>21.750</td>\n",
              "      <td>Good</td>\n",
              "    </tr>\n",
              "    <tr>\n",
              "      <th>1</th>\n",
              "      <td>Andhra Pradesh</td>\n",
              "      <td>Hyderabad</td>\n",
              "      <td>Industrial Area</td>\n",
              "      <td>3.1</td>\n",
              "      <td>7.0</td>\n",
              "      <td>0.0</td>\n",
              "      <td>0.0</td>\n",
              "      <td>0.0</td>\n",
              "      <td>3.875</td>\n",
              "      <td>8.750</td>\n",
              "      <td>0.0</td>\n",
              "      <td>0.0</td>\n",
              "      <td>8.750</td>\n",
              "      <td>Good</td>\n",
              "    </tr>\n",
              "    <tr>\n",
              "      <th>2</th>\n",
              "      <td>Andhra Pradesh</td>\n",
              "      <td>Hyderabad</td>\n",
              "      <td>Residential, Rural and other Areas</td>\n",
              "      <td>6.2</td>\n",
              "      <td>28.5</td>\n",
              "      <td>0.0</td>\n",
              "      <td>0.0</td>\n",
              "      <td>0.0</td>\n",
              "      <td>7.750</td>\n",
              "      <td>35.625</td>\n",
              "      <td>0.0</td>\n",
              "      <td>0.0</td>\n",
              "      <td>35.625</td>\n",
              "      <td>Good</td>\n",
              "    </tr>\n",
              "    <tr>\n",
              "      <th>3</th>\n",
              "      <td>Andhra Pradesh</td>\n",
              "      <td>Hyderabad</td>\n",
              "      <td>Residential, Rural and other Areas</td>\n",
              "      <td>6.3</td>\n",
              "      <td>14.7</td>\n",
              "      <td>0.0</td>\n",
              "      <td>0.0</td>\n",
              "      <td>0.0</td>\n",
              "      <td>7.875</td>\n",
              "      <td>18.375</td>\n",
              "      <td>0.0</td>\n",
              "      <td>0.0</td>\n",
              "      <td>18.375</td>\n",
              "      <td>Good</td>\n",
              "    </tr>\n",
              "    <tr>\n",
              "      <th>4</th>\n",
              "      <td>Andhra Pradesh</td>\n",
              "      <td>Hyderabad</td>\n",
              "      <td>Industrial Area</td>\n",
              "      <td>4.7</td>\n",
              "      <td>7.5</td>\n",
              "      <td>0.0</td>\n",
              "      <td>0.0</td>\n",
              "      <td>0.0</td>\n",
              "      <td>5.875</td>\n",
              "      <td>9.375</td>\n",
              "      <td>0.0</td>\n",
              "      <td>0.0</td>\n",
              "      <td>9.375</td>\n",
              "      <td>Good</td>\n",
              "    </tr>\n",
              "  </tbody>\n",
              "</table>\n",
              "</div>\n",
              "      <button class=\"colab-df-convert\" onclick=\"convertToInteractive('df-73fe6bd9-a2b4-45f3-a325-bbe8ad82540c')\"\n",
              "              title=\"Convert this dataframe to an interactive table.\"\n",
              "              style=\"display:none;\">\n",
              "        \n",
              "  <svg xmlns=\"http://www.w3.org/2000/svg\" height=\"24px\"viewBox=\"0 0 24 24\"\n",
              "       width=\"24px\">\n",
              "    <path d=\"M0 0h24v24H0V0z\" fill=\"none\"/>\n",
              "    <path d=\"M18.56 5.44l.94 2.06.94-2.06 2.06-.94-2.06-.94-.94-2.06-.94 2.06-2.06.94zm-11 1L8.5 8.5l.94-2.06 2.06-.94-2.06-.94L8.5 2.5l-.94 2.06-2.06.94zm10 10l.94 2.06.94-2.06 2.06-.94-2.06-.94-.94-2.06-.94 2.06-2.06.94z\"/><path d=\"M17.41 7.96l-1.37-1.37c-.4-.4-.92-.59-1.43-.59-.52 0-1.04.2-1.43.59L10.3 9.45l-7.72 7.72c-.78.78-.78 2.05 0 2.83L4 21.41c.39.39.9.59 1.41.59.51 0 1.02-.2 1.41-.59l7.78-7.78 2.81-2.81c.8-.78.8-2.07 0-2.86zM5.41 20L4 18.59l7.72-7.72 1.47 1.35L5.41 20z\"/>\n",
              "  </svg>\n",
              "      </button>\n",
              "      \n",
              "  <style>\n",
              "    .colab-df-container {\n",
              "      display:flex;\n",
              "      flex-wrap:wrap;\n",
              "      gap: 12px;\n",
              "    }\n",
              "\n",
              "    .colab-df-convert {\n",
              "      background-color: #E8F0FE;\n",
              "      border: none;\n",
              "      border-radius: 50%;\n",
              "      cursor: pointer;\n",
              "      display: none;\n",
              "      fill: #1967D2;\n",
              "      height: 32px;\n",
              "      padding: 0 0 0 0;\n",
              "      width: 32px;\n",
              "    }\n",
              "\n",
              "    .colab-df-convert:hover {\n",
              "      background-color: #E2EBFA;\n",
              "      box-shadow: 0px 1px 2px rgba(60, 64, 67, 0.3), 0px 1px 3px 1px rgba(60, 64, 67, 0.15);\n",
              "      fill: #174EA6;\n",
              "    }\n",
              "\n",
              "    [theme=dark] .colab-df-convert {\n",
              "      background-color: #3B4455;\n",
              "      fill: #D2E3FC;\n",
              "    }\n",
              "\n",
              "    [theme=dark] .colab-df-convert:hover {\n",
              "      background-color: #434B5C;\n",
              "      box-shadow: 0px 1px 3px 1px rgba(0, 0, 0, 0.15);\n",
              "      filter: drop-shadow(0px 1px 2px rgba(0, 0, 0, 0.3));\n",
              "      fill: #FFFFFF;\n",
              "    }\n",
              "  </style>\n",
              "\n",
              "      <script>\n",
              "        const buttonEl =\n",
              "          document.querySelector('#df-73fe6bd9-a2b4-45f3-a325-bbe8ad82540c button.colab-df-convert');\n",
              "        buttonEl.style.display =\n",
              "          google.colab.kernel.accessAllowed ? 'block' : 'none';\n",
              "\n",
              "        async function convertToInteractive(key) {\n",
              "          const element = document.querySelector('#df-73fe6bd9-a2b4-45f3-a325-bbe8ad82540c');\n",
              "          const dataTable =\n",
              "            await google.colab.kernel.invokeFunction('convertToInteractive',\n",
              "                                                     [key], {});\n",
              "          if (!dataTable) return;\n",
              "\n",
              "          const docLinkHtml = 'Like what you see? Visit the ' +\n",
              "            '<a target=\"_blank\" href=https://colab.research.google.com/notebooks/data_table.ipynb>data table notebook</a>'\n",
              "            + ' to learn more about interactive tables.';\n",
              "          element.innerHTML = '';\n",
              "          dataTable['output_type'] = 'display_data';\n",
              "          await google.colab.output.renderOutput(dataTable, element);\n",
              "          const docLink = document.createElement('div');\n",
              "          docLink.innerHTML = docLinkHtml;\n",
              "          element.appendChild(docLink);\n",
              "        }\n",
              "      </script>\n",
              "    </div>\n",
              "  </div>\n",
              "  "
            ]
          },
          "metadata": {},
          "execution_count": 50
        }
      ],
      "source": [
        "def AQI_Range(x):\n",
        "    if x<=50:\n",
        "        return \"Good\"\n",
        "    elif x>50 and x<=100:\n",
        "        return \"Moderate\"\n",
        "    elif x>100 and x<=200:\n",
        "        return \"Poor\"\n",
        "    elif x>200 and x<=300:\n",
        "        return \"Unhealthy\"\n",
        "    elif x>300 and x<=400:\n",
        "        return \"Very unhealthy\"\n",
        "    elif x>400:\n",
        "        return \"Hazardous\"\n",
        "\n",
        "df['AQI_Range'] = df['AQI'] .apply(AQI_Range)\n",
        "df.head()\n",
        "# Using threshold values to classify a particular values as good, moderate, poor, unhealthy, very unhealthy and Hazardous"
      ]
    },
    {
      "cell_type": "code",
      "execution_count": 51,
      "id": "7bf77384",
      "metadata": {
        "execution": {
          "iopub.execute_input": "2022-03-31T11:20:50.328675Z",
          "iopub.status.busy": "2022-03-31T11:20:50.328009Z",
          "iopub.status.idle": "2022-03-31T11:20:50.385014Z",
          "shell.execute_reply": "2022-03-31T11:20:50.384524Z",
          "shell.execute_reply.started": "2022-03-31T11:12:16.556642Z"
        },
        "papermill": {
          "duration": 0.172357,
          "end_time": "2022-03-31T11:20:50.385152",
          "exception": false,
          "start_time": "2022-03-31T11:20:50.212795",
          "status": "completed"
        },
        "tags": [],
        "colab": {
          "base_uri": "https://localhost:8080/"
        },
        "id": "7bf77384",
        "outputId": "60aea8d8-5c3a-4618-d938-2ef6e13dc9f6"
      },
      "outputs": [
        {
          "output_type": "execute_result",
          "data": {
            "text/plain": [
              "Good              219643\n",
              "Poor               93272\n",
              "Moderate           56571\n",
              "Unhealthy          31733\n",
              "Hazardous          18700\n",
              "Very unhealthy     15823\n",
              "Name: AQI_Range, dtype: int64"
            ]
          },
          "metadata": {},
          "execution_count": 51
        }
      ],
      "source": [
        "df['AQI_Range'].value_counts()\n",
        "# These are the counts of values present in the AQI_Range column."
      ]
    },
    {
      "cell_type": "markdown",
      "id": "06ff0c1b",
      "metadata": {
        "papermill": {
          "duration": 0.113274,
          "end_time": "2022-03-31T11:20:50.611681",
          "exception": false,
          "start_time": "2022-03-31T11:20:50.498407",
          "status": "completed"
        },
        "tags": [],
        "id": "06ff0c1b"
      },
      "source": [
        "### Splitting the dataset into Dependent and Independent columns"
      ]
    },
    {
      "cell_type": "code",
      "execution_count": 52,
      "id": "82038c01",
      "metadata": {
        "execution": {
          "iopub.execute_input": "2022-03-31T11:20:50.845336Z",
          "iopub.status.busy": "2022-03-31T11:20:50.844679Z",
          "iopub.status.idle": "2022-03-31T11:20:50.876231Z",
          "shell.execute_reply": "2022-03-31T11:20:50.875726Z",
          "shell.execute_reply.started": "2022-03-31T11:12:16.617180Z"
        },
        "papermill": {
          "duration": 0.150442,
          "end_time": "2022-03-31T11:20:50.876369",
          "exception": false,
          "start_time": "2022-03-31T11:20:50.725927",
          "status": "completed"
        },
        "tags": [],
        "colab": {
          "base_uri": "https://localhost:8080/",
          "height": 206
        },
        "id": "82038c01",
        "outputId": "40d2d6c8-2837-492b-c9a4-200521af7937"
      },
      "outputs": [
        {
          "output_type": "execute_result",
          "data": {
            "text/plain": [
              "     SOi     Noi  Rpi  SPMi\n",
              "0  6.000  21.750  0.0   0.0\n",
              "1  3.875   8.750  0.0   0.0\n",
              "2  7.750  35.625  0.0   0.0\n",
              "3  7.875  18.375  0.0   0.0\n",
              "4  5.875   9.375  0.0   0.0"
            ],
            "text/html": [
              "\n",
              "  <div id=\"df-9b7d622d-8ee3-4e8a-a9d8-1f7d1538857e\">\n",
              "    <div class=\"colab-df-container\">\n",
              "      <div>\n",
              "<style scoped>\n",
              "    .dataframe tbody tr th:only-of-type {\n",
              "        vertical-align: middle;\n",
              "    }\n",
              "\n",
              "    .dataframe tbody tr th {\n",
              "        vertical-align: top;\n",
              "    }\n",
              "\n",
              "    .dataframe thead th {\n",
              "        text-align: right;\n",
              "    }\n",
              "</style>\n",
              "<table border=\"1\" class=\"dataframe\">\n",
              "  <thead>\n",
              "    <tr style=\"text-align: right;\">\n",
              "      <th></th>\n",
              "      <th>SOi</th>\n",
              "      <th>Noi</th>\n",
              "      <th>Rpi</th>\n",
              "      <th>SPMi</th>\n",
              "    </tr>\n",
              "  </thead>\n",
              "  <tbody>\n",
              "    <tr>\n",
              "      <th>0</th>\n",
              "      <td>6.000</td>\n",
              "      <td>21.750</td>\n",
              "      <td>0.0</td>\n",
              "      <td>0.0</td>\n",
              "    </tr>\n",
              "    <tr>\n",
              "      <th>1</th>\n",
              "      <td>3.875</td>\n",
              "      <td>8.750</td>\n",
              "      <td>0.0</td>\n",
              "      <td>0.0</td>\n",
              "    </tr>\n",
              "    <tr>\n",
              "      <th>2</th>\n",
              "      <td>7.750</td>\n",
              "      <td>35.625</td>\n",
              "      <td>0.0</td>\n",
              "      <td>0.0</td>\n",
              "    </tr>\n",
              "    <tr>\n",
              "      <th>3</th>\n",
              "      <td>7.875</td>\n",
              "      <td>18.375</td>\n",
              "      <td>0.0</td>\n",
              "      <td>0.0</td>\n",
              "    </tr>\n",
              "    <tr>\n",
              "      <th>4</th>\n",
              "      <td>5.875</td>\n",
              "      <td>9.375</td>\n",
              "      <td>0.0</td>\n",
              "      <td>0.0</td>\n",
              "    </tr>\n",
              "  </tbody>\n",
              "</table>\n",
              "</div>\n",
              "      <button class=\"colab-df-convert\" onclick=\"convertToInteractive('df-9b7d622d-8ee3-4e8a-a9d8-1f7d1538857e')\"\n",
              "              title=\"Convert this dataframe to an interactive table.\"\n",
              "              style=\"display:none;\">\n",
              "        \n",
              "  <svg xmlns=\"http://www.w3.org/2000/svg\" height=\"24px\"viewBox=\"0 0 24 24\"\n",
              "       width=\"24px\">\n",
              "    <path d=\"M0 0h24v24H0V0z\" fill=\"none\"/>\n",
              "    <path d=\"M18.56 5.44l.94 2.06.94-2.06 2.06-.94-2.06-.94-.94-2.06-.94 2.06-2.06.94zm-11 1L8.5 8.5l.94-2.06 2.06-.94-2.06-.94L8.5 2.5l-.94 2.06-2.06.94zm10 10l.94 2.06.94-2.06 2.06-.94-2.06-.94-.94-2.06-.94 2.06-2.06.94z\"/><path d=\"M17.41 7.96l-1.37-1.37c-.4-.4-.92-.59-1.43-.59-.52 0-1.04.2-1.43.59L10.3 9.45l-7.72 7.72c-.78.78-.78 2.05 0 2.83L4 21.41c.39.39.9.59 1.41.59.51 0 1.02-.2 1.41-.59l7.78-7.78 2.81-2.81c.8-.78.8-2.07 0-2.86zM5.41 20L4 18.59l7.72-7.72 1.47 1.35L5.41 20z\"/>\n",
              "  </svg>\n",
              "      </button>\n",
              "      \n",
              "  <style>\n",
              "    .colab-df-container {\n",
              "      display:flex;\n",
              "      flex-wrap:wrap;\n",
              "      gap: 12px;\n",
              "    }\n",
              "\n",
              "    .colab-df-convert {\n",
              "      background-color: #E8F0FE;\n",
              "      border: none;\n",
              "      border-radius: 50%;\n",
              "      cursor: pointer;\n",
              "      display: none;\n",
              "      fill: #1967D2;\n",
              "      height: 32px;\n",
              "      padding: 0 0 0 0;\n",
              "      width: 32px;\n",
              "    }\n",
              "\n",
              "    .colab-df-convert:hover {\n",
              "      background-color: #E2EBFA;\n",
              "      box-shadow: 0px 1px 2px rgba(60, 64, 67, 0.3), 0px 1px 3px 1px rgba(60, 64, 67, 0.15);\n",
              "      fill: #174EA6;\n",
              "    }\n",
              "\n",
              "    [theme=dark] .colab-df-convert {\n",
              "      background-color: #3B4455;\n",
              "      fill: #D2E3FC;\n",
              "    }\n",
              "\n",
              "    [theme=dark] .colab-df-convert:hover {\n",
              "      background-color: #434B5C;\n",
              "      box-shadow: 0px 1px 3px 1px rgba(0, 0, 0, 0.15);\n",
              "      filter: drop-shadow(0px 1px 2px rgba(0, 0, 0, 0.3));\n",
              "      fill: #FFFFFF;\n",
              "    }\n",
              "  </style>\n",
              "\n",
              "      <script>\n",
              "        const buttonEl =\n",
              "          document.querySelector('#df-9b7d622d-8ee3-4e8a-a9d8-1f7d1538857e button.colab-df-convert');\n",
              "        buttonEl.style.display =\n",
              "          google.colab.kernel.accessAllowed ? 'block' : 'none';\n",
              "\n",
              "        async function convertToInteractive(key) {\n",
              "          const element = document.querySelector('#df-9b7d622d-8ee3-4e8a-a9d8-1f7d1538857e');\n",
              "          const dataTable =\n",
              "            await google.colab.kernel.invokeFunction('convertToInteractive',\n",
              "                                                     [key], {});\n",
              "          if (!dataTable) return;\n",
              "\n",
              "          const docLinkHtml = 'Like what you see? Visit the ' +\n",
              "            '<a target=\"_blank\" href=https://colab.research.google.com/notebooks/data_table.ipynb>data table notebook</a>'\n",
              "            + ' to learn more about interactive tables.';\n",
              "          element.innerHTML = '';\n",
              "          dataTable['output_type'] = 'display_data';\n",
              "          await google.colab.output.renderOutput(dataTable, element);\n",
              "          const docLink = document.createElement('div');\n",
              "          docLink.innerHTML = docLinkHtml;\n",
              "          element.appendChild(docLink);\n",
              "        }\n",
              "      </script>\n",
              "    </div>\n",
              "  </div>\n",
              "  "
            ]
          },
          "metadata": {},
          "execution_count": 52
        }
      ],
      "source": [
        "X=df[['SOi','Noi','Rpi','SPMi']]\n",
        "Y=df['AQI']\n",
        "X.head()\n",
        "# we only select columns like soi, noi, rpi, spmi"
      ]
    },
    {
      "cell_type": "code",
      "execution_count": 53,
      "id": "9b4acc05",
      "metadata": {
        "execution": {
          "iopub.execute_input": "2022-03-31T11:20:51.112898Z",
          "iopub.status.busy": "2022-03-31T11:20:51.112224Z",
          "iopub.status.idle": "2022-03-31T11:20:51.121618Z",
          "shell.execute_reply": "2022-03-31T11:20:51.122412Z",
          "shell.execute_reply.started": "2022-03-31T11:12:16.652232Z"
        },
        "papermill": {
          "duration": 0.129659,
          "end_time": "2022-03-31T11:20:51.122698",
          "exception": false,
          "start_time": "2022-03-31T11:20:50.993039",
          "status": "completed"
        },
        "tags": [],
        "colab": {
          "base_uri": "https://localhost:8080/"
        },
        "id": "9b4acc05",
        "outputId": "a558cfa4-5ed8-4263-c267-88dfa80c82d9"
      },
      "outputs": [
        {
          "output_type": "execute_result",
          "data": {
            "text/plain": [
              "0    21.750\n",
              "1     8.750\n",
              "2    35.625\n",
              "3    18.375\n",
              "4     9.375\n",
              "Name: AQI, dtype: float64"
            ]
          },
          "metadata": {},
          "execution_count": 53
        }
      ],
      "source": [
        "Y.head()\n",
        "# the AQI column is the target column"
      ]
    },
    {
      "cell_type": "code",
      "execution_count": 107,
      "id": "458b8bd7",
      "metadata": {
        "execution": {
          "iopub.execute_input": "2022-03-31T11:20:51.371562Z",
          "iopub.status.busy": "2022-03-31T11:20:51.370897Z",
          "iopub.status.idle": "2022-03-31T11:20:51.427837Z",
          "shell.execute_reply": "2022-03-31T11:20:51.428314Z",
          "shell.execute_reply.started": "2022-03-31T11:12:16.661672Z"
        },
        "papermill": {
          "duration": 0.174551,
          "end_time": "2022-03-31T11:20:51.428529",
          "exception": false,
          "start_time": "2022-03-31T11:20:51.253978",
          "status": "completed"
        },
        "tags": [],
        "colab": {
          "base_uri": "https://localhost:8080/"
        },
        "id": "458b8bd7",
        "outputId": "34928135-3da0-4981-eeac-ce986b04fb41"
      },
      "outputs": [
        {
          "output_type": "stream",
          "name": "stdout",
          "text": [
            "(305019, 4) (130723, 4) (305019,) (130723,)\n"
          ]
        }
      ],
      "source": [
        "X_train,X_test,Y_train,Y_test=train_test_split(X,Y,test_size=0.3,random_state=70)\n",
        "print(X_train.shape,X_test.shape,Y_train.shape,Y_test.shape)\n",
        "# splitting the data into training and testing data"
      ]
    },
    {
      "cell_type": "markdown",
      "id": "c4356862",
      "metadata": {
        "papermill": {
          "duration": 0.115073,
          "end_time": "2022-03-31T11:20:51.658643",
          "exception": false,
          "start_time": "2022-03-31T11:20:51.543570",
          "status": "completed"
        },
        "tags": [],
        "id": "c4356862"
      },
      "source": [
        "### Linear Regression"
      ]
    },
    {
      "cell_type": "code",
      "execution_count": 108,
      "id": "32f3a110",
      "metadata": {
        "execution": {
          "iopub.execute_input": "2022-03-31T11:20:51.898734Z",
          "iopub.status.busy": "2022-03-31T11:20:51.897548Z",
          "iopub.status.idle": "2022-03-31T11:20:51.949835Z",
          "shell.execute_reply": "2022-03-31T11:20:51.949280Z",
          "shell.execute_reply.started": "2022-03-31T11:12:16.720648Z"
        },
        "papermill": {
          "duration": 0.174517,
          "end_time": "2022-03-31T11:20:51.949998",
          "exception": false,
          "start_time": "2022-03-31T11:20:51.775481",
          "status": "completed"
        },
        "tags": [],
        "colab": {
          "base_uri": "https://localhost:8080/",
          "height": 74
        },
        "id": "32f3a110",
        "outputId": "d2e054c0-3c78-404e-ff6e-f9c28e061cc3"
      },
      "outputs": [
        {
          "output_type": "execute_result",
          "data": {
            "text/plain": [
              "LinearRegression()"
            ],
            "text/html": [
              "<style>#sk-container-id-5 {color: black;background-color: white;}#sk-container-id-5 pre{padding: 0;}#sk-container-id-5 div.sk-toggleable {background-color: white;}#sk-container-id-5 label.sk-toggleable__label {cursor: pointer;display: block;width: 100%;margin-bottom: 0;padding: 0.3em;box-sizing: border-box;text-align: center;}#sk-container-id-5 label.sk-toggleable__label-arrow:before {content: \"▸\";float: left;margin-right: 0.25em;color: #696969;}#sk-container-id-5 label.sk-toggleable__label-arrow:hover:before {color: black;}#sk-container-id-5 div.sk-estimator:hover label.sk-toggleable__label-arrow:before {color: black;}#sk-container-id-5 div.sk-toggleable__content {max-height: 0;max-width: 0;overflow: hidden;text-align: left;background-color: #f0f8ff;}#sk-container-id-5 div.sk-toggleable__content pre {margin: 0.2em;color: black;border-radius: 0.25em;background-color: #f0f8ff;}#sk-container-id-5 input.sk-toggleable__control:checked~div.sk-toggleable__content {max-height: 200px;max-width: 100%;overflow: auto;}#sk-container-id-5 input.sk-toggleable__control:checked~label.sk-toggleable__label-arrow:before {content: \"▾\";}#sk-container-id-5 div.sk-estimator input.sk-toggleable__control:checked~label.sk-toggleable__label {background-color: #d4ebff;}#sk-container-id-5 div.sk-label input.sk-toggleable__control:checked~label.sk-toggleable__label {background-color: #d4ebff;}#sk-container-id-5 input.sk-hidden--visually {border: 0;clip: rect(1px 1px 1px 1px);clip: rect(1px, 1px, 1px, 1px);height: 1px;margin: -1px;overflow: hidden;padding: 0;position: absolute;width: 1px;}#sk-container-id-5 div.sk-estimator {font-family: monospace;background-color: #f0f8ff;border: 1px dotted black;border-radius: 0.25em;box-sizing: border-box;margin-bottom: 0.5em;}#sk-container-id-5 div.sk-estimator:hover {background-color: #d4ebff;}#sk-container-id-5 div.sk-parallel-item::after {content: \"\";width: 100%;border-bottom: 1px solid gray;flex-grow: 1;}#sk-container-id-5 div.sk-label:hover label.sk-toggleable__label {background-color: #d4ebff;}#sk-container-id-5 div.sk-serial::before {content: \"\";position: absolute;border-left: 1px solid gray;box-sizing: border-box;top: 0;bottom: 0;left: 50%;z-index: 0;}#sk-container-id-5 div.sk-serial {display: flex;flex-direction: column;align-items: center;background-color: white;padding-right: 0.2em;padding-left: 0.2em;position: relative;}#sk-container-id-5 div.sk-item {position: relative;z-index: 1;}#sk-container-id-5 div.sk-parallel {display: flex;align-items: stretch;justify-content: center;background-color: white;position: relative;}#sk-container-id-5 div.sk-item::before, #sk-container-id-5 div.sk-parallel-item::before {content: \"\";position: absolute;border-left: 1px solid gray;box-sizing: border-box;top: 0;bottom: 0;left: 50%;z-index: -1;}#sk-container-id-5 div.sk-parallel-item {display: flex;flex-direction: column;z-index: 1;position: relative;background-color: white;}#sk-container-id-5 div.sk-parallel-item:first-child::after {align-self: flex-end;width: 50%;}#sk-container-id-5 div.sk-parallel-item:last-child::after {align-self: flex-start;width: 50%;}#sk-container-id-5 div.sk-parallel-item:only-child::after {width: 0;}#sk-container-id-5 div.sk-dashed-wrapped {border: 1px dashed gray;margin: 0 0.4em 0.5em 0.4em;box-sizing: border-box;padding-bottom: 0.4em;background-color: white;}#sk-container-id-5 div.sk-label label {font-family: monospace;font-weight: bold;display: inline-block;line-height: 1.2em;}#sk-container-id-5 div.sk-label-container {text-align: center;}#sk-container-id-5 div.sk-container {/* jupyter's `normalize.less` sets `[hidden] { display: none; }` but bootstrap.min.css set `[hidden] { display: none !important; }` so we also need the `!important` here to be able to override the default hidden behavior on the sphinx rendered scikit-learn.org. See: https://github.com/scikit-learn/scikit-learn/issues/21755 */display: inline-block !important;position: relative;}#sk-container-id-5 div.sk-text-repr-fallback {display: none;}</style><div id=\"sk-container-id-5\" class=\"sk-top-container\"><div class=\"sk-text-repr-fallback\"><pre>LinearRegression()</pre><b>In a Jupyter environment, please rerun this cell to show the HTML representation or trust the notebook. <br />On GitHub, the HTML representation is unable to render, please try loading this page with nbviewer.org.</b></div><div class=\"sk-container\" hidden><div class=\"sk-item\"><div class=\"sk-estimator sk-toggleable\"><input class=\"sk-toggleable__control sk-hidden--visually\" id=\"sk-estimator-id-5\" type=\"checkbox\" checked><label for=\"sk-estimator-id-5\" class=\"sk-toggleable__label sk-toggleable__label-arrow\">LinearRegression</label><div class=\"sk-toggleable__content\"><pre>LinearRegression()</pre></div></div></div></div></div>"
            ]
          },
          "metadata": {},
          "execution_count": 108
        }
      ],
      "source": [
        "model=LinearRegression()\n",
        "model.fit(X_train,Y_train)"
      ]
    },
    {
      "cell_type": "code",
      "execution_count": 109,
      "id": "31d6d227",
      "metadata": {
        "execution": {
          "iopub.execute_input": "2022-03-31T11:20:52.188732Z",
          "iopub.status.busy": "2022-03-31T11:20:52.188010Z",
          "iopub.status.idle": "2022-03-31T11:20:52.199399Z",
          "shell.execute_reply": "2022-03-31T11:20:52.200486Z",
          "shell.execute_reply.started": "2022-03-31T11:12:16.777477Z"
        },
        "papermill": {
          "duration": 0.1352,
          "end_time": "2022-03-31T11:20:52.200792",
          "exception": false,
          "start_time": "2022-03-31T11:20:52.065592",
          "status": "completed"
        },
        "tags": [],
        "id": "31d6d227"
      },
      "outputs": [],
      "source": [
        "#predicting train\n",
        "train_pred=model.predict(X_train)\n",
        "#predicting on test\n",
        "test_pred=model.predict(X_test)"
      ]
    },
    {
      "cell_type": "code",
      "execution_count": 110,
      "id": "c0aae4bd",
      "metadata": {
        "execution": {
          "iopub.execute_input": "2022-03-31T11:20:52.496721Z",
          "iopub.status.busy": "2022-03-31T11:20:52.495516Z",
          "iopub.status.idle": "2022-03-31T11:20:52.516858Z",
          "shell.execute_reply": "2022-03-31T11:20:52.515871Z",
          "shell.execute_reply.started": "2022-03-31T11:12:16.796704Z"
        },
        "papermill": {
          "duration": 0.145061,
          "end_time": "2022-03-31T11:20:52.517099",
          "exception": false,
          "start_time": "2022-03-31T11:20:52.372038",
          "status": "completed"
        },
        "tags": [],
        "colab": {
          "base_uri": "https://localhost:8080/"
        },
        "id": "c0aae4bd",
        "outputId": "32692013-0144-4c76-f57f-e666bd0ca84b"
      },
      "outputs": [
        {
          "output_type": "stream",
          "name": "stdout",
          "text": [
            "RMSE TrainingData =  13.591751463206645\n",
            "RMSE TestData =  13.624056587009827\n",
            "--------------------------------------------------\n",
            "RSquared value on train: 0.9849558983615057\n",
            "RSquared value on test: 0.9847965526261007\n"
          ]
        }
      ],
      "source": [
        "RMSE_train=(np.sqrt(metrics.mean_squared_error(Y_train,train_pred)))\n",
        "RMSE_test=(np.sqrt(metrics.mean_squared_error(Y_test,test_pred)))\n",
        "print(\"RMSE TrainingData = \",str(RMSE_train))\n",
        "print(\"RMSE TestData = \",str(RMSE_test))\n",
        "print('-'*50)\n",
        "print('RSquared value on train:',model.score(X_train, Y_train))\n",
        "print('RSquared value on test:',model.score(X_test, Y_test))"
      ]
    },
    {
      "cell_type": "markdown",
      "id": "520dd8d2",
      "metadata": {
        "papermill": {
          "duration": 0.116353,
          "end_time": "2022-03-31T11:20:52.803465",
          "exception": false,
          "start_time": "2022-03-31T11:20:52.687112",
          "status": "completed"
        },
        "tags": [],
        "id": "520dd8d2"
      },
      "source": [
        "### Decision Tree Regressor"
      ]
    },
    {
      "cell_type": "code",
      "execution_count": 111,
      "id": "39944e55",
      "metadata": {
        "execution": {
          "iopub.execute_input": "2022-03-31T11:20:53.048492Z",
          "iopub.status.busy": "2022-03-31T11:20:53.047389Z",
          "iopub.status.idle": "2022-03-31T11:20:53.760148Z",
          "shell.execute_reply": "2022-03-31T11:20:53.759522Z",
          "shell.execute_reply.started": "2022-03-31T11:12:16.828753Z"
        },
        "papermill": {
          "duration": 0.835738,
          "end_time": "2022-03-31T11:20:53.760285",
          "exception": false,
          "start_time": "2022-03-31T11:20:52.924547",
          "status": "completed"
        },
        "tags": [],
        "colab": {
          "base_uri": "https://localhost:8080/",
          "height": 74
        },
        "id": "39944e55",
        "outputId": "26528bdc-d4d0-4133-e52b-f4c51b209afa"
      },
      "outputs": [
        {
          "output_type": "execute_result",
          "data": {
            "text/plain": [
              "DecisionTreeRegressor()"
            ],
            "text/html": [
              "<style>#sk-container-id-6 {color: black;background-color: white;}#sk-container-id-6 pre{padding: 0;}#sk-container-id-6 div.sk-toggleable {background-color: white;}#sk-container-id-6 label.sk-toggleable__label {cursor: pointer;display: block;width: 100%;margin-bottom: 0;padding: 0.3em;box-sizing: border-box;text-align: center;}#sk-container-id-6 label.sk-toggleable__label-arrow:before {content: \"▸\";float: left;margin-right: 0.25em;color: #696969;}#sk-container-id-6 label.sk-toggleable__label-arrow:hover:before {color: black;}#sk-container-id-6 div.sk-estimator:hover label.sk-toggleable__label-arrow:before {color: black;}#sk-container-id-6 div.sk-toggleable__content {max-height: 0;max-width: 0;overflow: hidden;text-align: left;background-color: #f0f8ff;}#sk-container-id-6 div.sk-toggleable__content pre {margin: 0.2em;color: black;border-radius: 0.25em;background-color: #f0f8ff;}#sk-container-id-6 input.sk-toggleable__control:checked~div.sk-toggleable__content {max-height: 200px;max-width: 100%;overflow: auto;}#sk-container-id-6 input.sk-toggleable__control:checked~label.sk-toggleable__label-arrow:before {content: \"▾\";}#sk-container-id-6 div.sk-estimator input.sk-toggleable__control:checked~label.sk-toggleable__label {background-color: #d4ebff;}#sk-container-id-6 div.sk-label input.sk-toggleable__control:checked~label.sk-toggleable__label {background-color: #d4ebff;}#sk-container-id-6 input.sk-hidden--visually {border: 0;clip: rect(1px 1px 1px 1px);clip: rect(1px, 1px, 1px, 1px);height: 1px;margin: -1px;overflow: hidden;padding: 0;position: absolute;width: 1px;}#sk-container-id-6 div.sk-estimator {font-family: monospace;background-color: #f0f8ff;border: 1px dotted black;border-radius: 0.25em;box-sizing: border-box;margin-bottom: 0.5em;}#sk-container-id-6 div.sk-estimator:hover {background-color: #d4ebff;}#sk-container-id-6 div.sk-parallel-item::after {content: \"\";width: 100%;border-bottom: 1px solid gray;flex-grow: 1;}#sk-container-id-6 div.sk-label:hover label.sk-toggleable__label {background-color: #d4ebff;}#sk-container-id-6 div.sk-serial::before {content: \"\";position: absolute;border-left: 1px solid gray;box-sizing: border-box;top: 0;bottom: 0;left: 50%;z-index: 0;}#sk-container-id-6 div.sk-serial {display: flex;flex-direction: column;align-items: center;background-color: white;padding-right: 0.2em;padding-left: 0.2em;position: relative;}#sk-container-id-6 div.sk-item {position: relative;z-index: 1;}#sk-container-id-6 div.sk-parallel {display: flex;align-items: stretch;justify-content: center;background-color: white;position: relative;}#sk-container-id-6 div.sk-item::before, #sk-container-id-6 div.sk-parallel-item::before {content: \"\";position: absolute;border-left: 1px solid gray;box-sizing: border-box;top: 0;bottom: 0;left: 50%;z-index: -1;}#sk-container-id-6 div.sk-parallel-item {display: flex;flex-direction: column;z-index: 1;position: relative;background-color: white;}#sk-container-id-6 div.sk-parallel-item:first-child::after {align-self: flex-end;width: 50%;}#sk-container-id-6 div.sk-parallel-item:last-child::after {align-self: flex-start;width: 50%;}#sk-container-id-6 div.sk-parallel-item:only-child::after {width: 0;}#sk-container-id-6 div.sk-dashed-wrapped {border: 1px dashed gray;margin: 0 0.4em 0.5em 0.4em;box-sizing: border-box;padding-bottom: 0.4em;background-color: white;}#sk-container-id-6 div.sk-label label {font-family: monospace;font-weight: bold;display: inline-block;line-height: 1.2em;}#sk-container-id-6 div.sk-label-container {text-align: center;}#sk-container-id-6 div.sk-container {/* jupyter's `normalize.less` sets `[hidden] { display: none; }` but bootstrap.min.css set `[hidden] { display: none !important; }` so we also need the `!important` here to be able to override the default hidden behavior on the sphinx rendered scikit-learn.org. See: https://github.com/scikit-learn/scikit-learn/issues/21755 */display: inline-block !important;position: relative;}#sk-container-id-6 div.sk-text-repr-fallback {display: none;}</style><div id=\"sk-container-id-6\" class=\"sk-top-container\"><div class=\"sk-text-repr-fallback\"><pre>DecisionTreeRegressor()</pre><b>In a Jupyter environment, please rerun this cell to show the HTML representation or trust the notebook. <br />On GitHub, the HTML representation is unable to render, please try loading this page with nbviewer.org.</b></div><div class=\"sk-container\" hidden><div class=\"sk-item\"><div class=\"sk-estimator sk-toggleable\"><input class=\"sk-toggleable__control sk-hidden--visually\" id=\"sk-estimator-id-6\" type=\"checkbox\" checked><label for=\"sk-estimator-id-6\" class=\"sk-toggleable__label sk-toggleable__label-arrow\">DecisionTreeRegressor</label><div class=\"sk-toggleable__content\"><pre>DecisionTreeRegressor()</pre></div></div></div></div></div>"
            ]
          },
          "metadata": {},
          "execution_count": 111
        }
      ],
      "source": [
        "DT=DecisionTreeRegressor()\n",
        "DT.fit(X_train,Y_train)"
      ]
    },
    {
      "cell_type": "code",
      "execution_count": 112,
      "id": "cf6837bf",
      "metadata": {
        "execution": {
          "iopub.execute_input": "2022-03-31T11:20:53.997347Z",
          "iopub.status.busy": "2022-03-31T11:20:53.996682Z",
          "iopub.status.idle": "2022-03-31T11:20:54.080865Z",
          "shell.execute_reply": "2022-03-31T11:20:54.081411Z",
          "shell.execute_reply.started": "2022-03-31T11:12:17.563070Z"
        },
        "papermill": {
          "duration": 0.204587,
          "end_time": "2022-03-31T11:20:54.081612",
          "exception": false,
          "start_time": "2022-03-31T11:20:53.877025",
          "status": "completed"
        },
        "tags": [],
        "id": "cf6837bf"
      },
      "outputs": [],
      "source": [
        "#predicting train\n",
        "train_preds=DT.predict(X_train)\n",
        "#predicting on test\n",
        "test_preds=DT.predict(X_test)"
      ]
    },
    {
      "cell_type": "code",
      "execution_count": 113,
      "id": "c8e00f96",
      "metadata": {
        "execution": {
          "iopub.execute_input": "2022-03-31T11:20:54.319356Z",
          "iopub.status.busy": "2022-03-31T11:20:54.318660Z",
          "iopub.status.idle": "2022-03-31T11:20:54.414843Z",
          "shell.execute_reply": "2022-03-31T11:20:54.414287Z",
          "shell.execute_reply.started": "2022-03-31T11:12:17.649976Z"
        },
        "papermill": {
          "duration": 0.215934,
          "end_time": "2022-03-31T11:20:54.414996",
          "exception": false,
          "start_time": "2022-03-31T11:20:54.199062",
          "status": "completed"
        },
        "tags": [],
        "colab": {
          "base_uri": "https://localhost:8080/"
        },
        "id": "c8e00f96",
        "outputId": "be2702dc-dd0e-483d-ffd1-4ef812c1ca71"
      },
      "outputs": [
        {
          "output_type": "stream",
          "name": "stdout",
          "text": [
            "RMSE TrainingData =  2.354306659177604e-13\n",
            "RMSE TestData =  1.3652804669829852\n",
            "--------------------------------------------------\n",
            "RSquared value on train: 1.0\n",
            "RSquared value on test: 0.99984732323431\n"
          ]
        }
      ],
      "source": [
        "RMSE_train=(np.sqrt(metrics.mean_squared_error(Y_train,train_preds)))\n",
        "RMSE_test=(np.sqrt(metrics.mean_squared_error(Y_test,test_preds)))\n",
        "print(\"RMSE TrainingData = \",str(RMSE_train))\n",
        "print(\"RMSE TestData = \",str(RMSE_test))\n",
        "print('-'*50)\n",
        "print('RSquared value on train:',DT.score(X_train, Y_train))\n",
        "print('RSquared value on test:',DT.score(X_test, Y_test))"
      ]
    },
    {
      "cell_type": "markdown",
      "id": "f3208ac0",
      "metadata": {
        "papermill": {
          "duration": 0.117631,
          "end_time": "2022-03-31T11:20:54.651343",
          "exception": false,
          "start_time": "2022-03-31T11:20:54.533712",
          "status": "completed"
        },
        "tags": [],
        "id": "f3208ac0"
      },
      "source": [
        "### Random Forest Regressor"
      ]
    },
    {
      "cell_type": "code",
      "execution_count": 114,
      "id": "2c8265f7",
      "metadata": {
        "execution": {
          "iopub.execute_input": "2022-03-31T11:20:54.898437Z",
          "iopub.status.busy": "2022-03-31T11:20:54.897800Z",
          "iopub.status.idle": "2022-03-31T11:21:42.152516Z",
          "shell.execute_reply": "2022-03-31T11:21:42.151891Z",
          "shell.execute_reply.started": "2022-03-31T11:12:17.750284Z"
        },
        "papermill": {
          "duration": 47.379962,
          "end_time": "2022-03-31T11:21:42.152692",
          "exception": false,
          "start_time": "2022-03-31T11:20:54.772730",
          "status": "completed"
        },
        "tags": [],
        "id": "2c8265f7"
      },
      "outputs": [],
      "source": [
        "RF=RandomForestRegressor().fit(X_train,Y_train)"
      ]
    },
    {
      "cell_type": "code",
      "execution_count": 115,
      "id": "aa936037",
      "metadata": {
        "execution": {
          "iopub.execute_input": "2022-03-31T11:21:42.393915Z",
          "iopub.status.busy": "2022-03-31T11:21:42.392923Z",
          "iopub.status.idle": "2022-03-31T11:21:49.690707Z",
          "shell.execute_reply": "2022-03-31T11:21:49.691257Z",
          "shell.execute_reply.started": "2022-03-31T11:13:03.465584Z"
        },
        "papermill": {
          "duration": 7.41923,
          "end_time": "2022-03-31T11:21:49.691442",
          "exception": false,
          "start_time": "2022-03-31T11:21:42.272212",
          "status": "completed"
        },
        "tags": [],
        "id": "aa936037"
      },
      "outputs": [],
      "source": [
        "#predicting train\n",
        "train_preds1=RF.predict(X_train)\n",
        "#predicting on test\n",
        "test_preds1=RF.predict(X_test)"
      ]
    },
    {
      "cell_type": "code",
      "execution_count": 116,
      "id": "2bef9e0e",
      "metadata": {
        "execution": {
          "iopub.execute_input": "2022-03-31T11:21:49.936328Z",
          "iopub.status.busy": "2022-03-31T11:21:49.935665Z",
          "iopub.status.idle": "2022-03-31T11:21:57.273661Z",
          "shell.execute_reply": "2022-03-31T11:21:57.272794Z",
          "shell.execute_reply.started": "2022-03-31T11:13:10.758004Z"
        },
        "papermill": {
          "duration": 7.463089,
          "end_time": "2022-03-31T11:21:57.273827",
          "exception": false,
          "start_time": "2022-03-31T11:21:49.810738",
          "status": "completed"
        },
        "tags": [],
        "colab": {
          "base_uri": "https://localhost:8080/"
        },
        "id": "2bef9e0e",
        "outputId": "b5b17064-4a83-4fe0-952b-8afa066cc8e4"
      },
      "outputs": [
        {
          "output_type": "stream",
          "name": "stdout",
          "text": [
            "RMSE TrainingData =  0.44684818873204635\n",
            "RMSE TestData =  1.1632606730984827\n",
            "--------------------------------------------------\n",
            "RSquared value on train: 0.9999837394431665\n",
            "RSquared value on test: 0.9998891633758847\n"
          ]
        }
      ],
      "source": [
        "RMSE_train=(np.sqrt(metrics.mean_squared_error(Y_train,train_preds1)))\n",
        "RMSE_test=(np.sqrt(metrics.mean_squared_error(Y_test,test_preds1)))\n",
        "print(\"RMSE TrainingData = \",str(RMSE_train))\n",
        "print(\"RMSE TestData = \",str(RMSE_test))\n",
        "print('-'*50)\n",
        "print('RSquared value on train:',RF.score(X_train, Y_train))\n",
        "print('RSquared value on test:',RF.score(X_test, Y_test))"
      ]
    },
    {
      "cell_type": "markdown",
      "id": "f9e8aa05",
      "metadata": {
        "papermill": {
          "duration": 0.119793,
          "end_time": "2022-03-31T11:21:57.519521",
          "exception": false,
          "start_time": "2022-03-31T11:21:57.399728",
          "status": "completed"
        },
        "tags": [],
        "id": "f9e8aa05"
      },
      "source": [
        "# Classification Algorithms"
      ]
    },
    {
      "cell_type": "code",
      "execution_count": 117,
      "id": "6cc6411d",
      "metadata": {
        "execution": {
          "iopub.execute_input": "2022-03-31T11:21:57.759378Z",
          "iopub.status.busy": "2022-03-31T11:21:57.758687Z",
          "iopub.status.idle": "2022-03-31T11:21:57.762411Z",
          "shell.execute_reply": "2022-03-31T11:21:57.763042Z",
          "shell.execute_reply.started": "2022-03-31T11:13:18.117271Z"
        },
        "papermill": {
          "duration": 0.125585,
          "end_time": "2022-03-31T11:21:57.763215",
          "exception": false,
          "start_time": "2022-03-31T11:21:57.637630",
          "status": "completed"
        },
        "tags": [],
        "id": "6cc6411d"
      },
      "outputs": [],
      "source": [
        "from sklearn.linear_model import LogisticRegression\n",
        "from sklearn.tree import DecisionTreeClassifier\n",
        "from sklearn.ensemble import RandomForestClassifier\n",
        "from sklearn.neighbors import KNeighborsClassifier"
      ]
    },
    {
      "cell_type": "code",
      "execution_count": 118,
      "id": "d0c4fd42",
      "metadata": {
        "execution": {
          "iopub.execute_input": "2022-03-31T11:21:58.012707Z",
          "iopub.status.busy": "2022-03-31T11:21:58.011800Z",
          "iopub.status.idle": "2022-03-31T11:21:58.014967Z",
          "shell.execute_reply": "2022-03-31T11:21:58.014305Z",
          "shell.execute_reply.started": "2022-03-31T11:13:18.123592Z"
        },
        "papermill": {
          "duration": 0.132241,
          "end_time": "2022-03-31T11:21:58.015121",
          "exception": false,
          "start_time": "2022-03-31T11:21:57.882880",
          "status": "completed"
        },
        "tags": [],
        "id": "d0c4fd42"
      },
      "outputs": [],
      "source": [
        "X2 = df[['SOi','Noi','Rpi','SPMi']]\n",
        "Y2 = df['AQI_Range']\n",
        "# Splitting the data into independent and dependent columns for classification "
      ]
    },
    {
      "cell_type": "code",
      "execution_count": 119,
      "id": "c50beb21",
      "metadata": {
        "execution": {
          "iopub.execute_input": "2022-03-31T11:21:58.256602Z",
          "iopub.status.busy": "2022-03-31T11:21:58.255930Z",
          "iopub.status.idle": "2022-03-31T11:21:58.331717Z",
          "shell.execute_reply": "2022-03-31T11:21:58.331140Z",
          "shell.execute_reply.started": "2022-03-31T11:13:18.141890Z"
        },
        "papermill": {
          "duration": 0.19769,
          "end_time": "2022-03-31T11:21:58.331871",
          "exception": false,
          "start_time": "2022-03-31T11:21:58.134181",
          "status": "completed"
        },
        "tags": [],
        "id": "c50beb21"
      },
      "outputs": [],
      "source": [
        "X_train2, X_test2, Y_train2, Y_test2 = train_test_split(X2, Y2, test_size=0.33, random_state=70)\n",
        "# Splitting the data into training and testing data "
      ]
    },
    {
      "cell_type": "markdown",
      "id": "fe7c133b",
      "metadata": {
        "papermill": {
          "duration": 0.119039,
          "end_time": "2022-03-31T11:21:58.569060",
          "exception": false,
          "start_time": "2022-03-31T11:21:58.450021",
          "status": "completed"
        },
        "tags": [],
        "id": "fe7c133b"
      },
      "source": [
        "### Logistic Regression"
      ]
    },
    {
      "cell_type": "code",
      "execution_count": 120,
      "id": "46df0a5b",
      "metadata": {
        "execution": {
          "iopub.execute_input": "2022-03-31T11:21:58.814573Z",
          "iopub.status.busy": "2022-03-31T11:21:58.813900Z",
          "iopub.status.idle": "2022-03-31T11:22:21.734574Z",
          "shell.execute_reply": "2022-03-31T11:22:21.735070Z",
          "shell.execute_reply.started": "2022-03-31T11:13:18.231216Z"
        },
        "papermill": {
          "duration": 23.047432,
          "end_time": "2022-03-31T11:22:21.735257",
          "exception": false,
          "start_time": "2022-03-31T11:21:58.687825",
          "status": "completed"
        },
        "tags": [],
        "colab": {
          "base_uri": "https://localhost:8080/"
        },
        "id": "46df0a5b",
        "outputId": "22e3949c-5c0c-4adf-ed0c-f5aca42fa406"
      },
      "outputs": [
        {
          "output_type": "stream",
          "name": "stdout",
          "text": [
            "Model accuracy on train is:  0.7276012426913104\n",
            "Model accuracy on test is:  0.7271254216071491\n",
            "--------------------------------------------------\n",
            "KappaScore is:  0.584377382981496\n"
          ]
        }
      ],
      "source": [
        "#fit the model on train data \n",
        "log_reg = LogisticRegression().fit(X_train2, Y_train2)\n",
        "\n",
        "#predict on train \n",
        "train_preds2 = log_reg.predict(X_train2)\n",
        "#accuracy on train\n",
        "print(\"Model accuracy on train is: \", accuracy_score(Y_train2, train_preds2))\n",
        "\n",
        "#predict on test\n",
        "test_preds2 = log_reg.predict(X_test2)\n",
        "#accuracy on test\n",
        "print(\"Model accuracy on test is: \", accuracy_score(Y_test2, test_preds2))\n",
        "print('-'*50)\n",
        "\n",
        "# Kappa Score.\n",
        "print('KappaScore is: ', metrics.cohen_kappa_score(Y_test2,test_preds2))"
      ]
    },
    {
      "cell_type": "code",
      "execution_count": 121,
      "id": "9dfc2a2b",
      "metadata": {
        "execution": {
          "iopub.execute_input": "2022-03-31T11:22:21.987656Z",
          "iopub.status.busy": "2022-03-31T11:22:21.986886Z",
          "iopub.status.idle": "2022-03-31T11:22:21.989625Z",
          "shell.execute_reply": "2022-03-31T11:22:21.990108Z",
          "shell.execute_reply.started": "2022-03-31T11:13:40.842593Z"
        },
        "papermill": {
          "duration": 0.128418,
          "end_time": "2022-03-31T11:22:21.990273",
          "exception": false,
          "start_time": "2022-03-31T11:22:21.861855",
          "status": "completed"
        },
        "tags": [],
        "colab": {
          "base_uri": "https://localhost:8080/"
        },
        "id": "9dfc2a2b",
        "outputId": "c02cfc61-c088-4623-a444-36de580676c5"
      },
      "outputs": [
        {
          "output_type": "execute_result",
          "data": {
            "text/plain": [
              "array(['Good'], dtype=object)"
            ]
          },
          "metadata": {},
          "execution_count": 121
        }
      ],
      "source": [
        "log_reg.predict([[727,327.55,78.2,100]]) "
      ]
    },
    {
      "cell_type": "code",
      "execution_count": 122,
      "id": "2c8d9271",
      "metadata": {
        "execution": {
          "iopub.execute_input": "2022-03-31T11:22:22.233576Z",
          "iopub.status.busy": "2022-03-31T11:22:22.232921Z",
          "iopub.status.idle": "2022-03-31T11:22:22.239224Z",
          "shell.execute_reply": "2022-03-31T11:22:22.239692Z",
          "shell.execute_reply.started": "2022-03-31T11:13:40.851961Z"
        },
        "papermill": {
          "duration": 0.128839,
          "end_time": "2022-03-31T11:22:22.239866",
          "exception": false,
          "start_time": "2022-03-31T11:22:22.111027",
          "status": "completed"
        },
        "tags": [],
        "colab": {
          "base_uri": "https://localhost:8080/"
        },
        "id": "2c8d9271",
        "outputId": "62b89060-3ba9-4510-eb99-8da5f83f7d23"
      },
      "outputs": [
        {
          "output_type": "execute_result",
          "data": {
            "text/plain": [
              "array(['Poor'], dtype=object)"
            ]
          },
          "metadata": {},
          "execution_count": 122
        }
      ],
      "source": [
        "log_reg.predict([[2.7,45,35.16,23]]) "
      ]
    },
    {
      "cell_type": "code",
      "execution_count": 123,
      "id": "509663e1",
      "metadata": {
        "execution": {
          "iopub.execute_input": "2022-03-31T11:22:22.486493Z",
          "iopub.status.busy": "2022-03-31T11:22:22.485742Z",
          "iopub.status.idle": "2022-03-31T11:22:22.490883Z",
          "shell.execute_reply": "2022-03-31T11:22:22.491459Z",
          "shell.execute_reply.started": "2022-03-31T11:13:40.867728Z"
        },
        "papermill": {
          "duration": 0.130033,
          "end_time": "2022-03-31T11:22:22.491647",
          "exception": false,
          "start_time": "2022-03-31T11:22:22.361614",
          "status": "completed"
        },
        "tags": [],
        "colab": {
          "base_uri": "https://localhost:8080/"
        },
        "id": "509663e1",
        "outputId": "50098515-2a0e-4376-cf87-33365338acf8"
      },
      "outputs": [
        {
          "output_type": "execute_result",
          "data": {
            "text/plain": [
              "array(['Good'], dtype=object)"
            ]
          },
          "metadata": {},
          "execution_count": 123
        }
      ],
      "source": [
        "log_reg.predict([[10,2.8,82,20]]) "
      ]
    },
    {
      "cell_type": "code",
      "execution_count": 124,
      "id": "58820f02",
      "metadata": {
        "execution": {
          "iopub.execute_input": "2022-03-31T11:22:22.736580Z",
          "iopub.status.busy": "2022-03-31T11:22:22.735877Z",
          "iopub.status.idle": "2022-03-31T11:22:22.740841Z",
          "shell.execute_reply": "2022-03-31T11:22:22.741394Z",
          "shell.execute_reply.started": "2022-03-31T11:13:40.878757Z"
        },
        "papermill": {
          "duration": 0.129539,
          "end_time": "2022-03-31T11:22:22.741583",
          "exception": false,
          "start_time": "2022-03-31T11:22:22.612044",
          "status": "completed"
        },
        "tags": [],
        "colab": {
          "base_uri": "https://localhost:8080/"
        },
        "id": "58820f02",
        "outputId": "4f5a0b15-67c0-46aa-c4cd-edc9d7d662a3"
      },
      "outputs": [
        {
          "output_type": "execute_result",
          "data": {
            "text/plain": [
              "array(['Poor'], dtype=object)"
            ]
          },
          "metadata": {},
          "execution_count": 124
        }
      ],
      "source": [
        "log_reg.predict([[2,45.8,37,32]])"
      ]
    },
    {
      "cell_type": "markdown",
      "id": "fd559db9",
      "metadata": {
        "papermill": {
          "duration": 0.121595,
          "end_time": "2022-03-31T11:22:22.984794",
          "exception": false,
          "start_time": "2022-03-31T11:22:22.863199",
          "status": "completed"
        },
        "tags": [],
        "id": "fd559db9"
      },
      "source": [
        "### Decision Tree Classifier"
      ]
    },
    {
      "cell_type": "code",
      "execution_count": 125,
      "id": "9314d4a3",
      "metadata": {
        "execution": {
          "iopub.execute_input": "2022-03-31T11:22:23.233437Z",
          "iopub.status.busy": "2022-03-31T11:22:23.232725Z",
          "iopub.status.idle": "2022-03-31T11:22:26.052380Z",
          "shell.execute_reply": "2022-03-31T11:22:26.051661Z",
          "shell.execute_reply.started": "2022-03-31T11:13:40.890177Z"
        },
        "papermill": {
          "duration": 2.944727,
          "end_time": "2022-03-31T11:22:26.052550",
          "exception": false,
          "start_time": "2022-03-31T11:22:23.107823",
          "status": "completed"
        },
        "tags": [],
        "colab": {
          "base_uri": "https://localhost:8080/"
        },
        "id": "9314d4a3",
        "outputId": "77c48d5f-a9c9-4160-e193-e48ed8b0636a"
      },
      "outputs": [
        {
          "output_type": "stream",
          "name": "stdout",
          "text": [
            "Model accuracy on train is:  1.0\n",
            "Model accuracy on test is:  0.9998122326923745\n",
            "--------------------------------------------------\n",
            "KappaScore is:  0.9997215109561272\n"
          ]
        }
      ],
      "source": [
        "#fit the model on train data \n",
        "DT2 = DecisionTreeClassifier().fit(X_train2,Y_train2)\n",
        "\n",
        "#predict on train \n",
        "train_preds3 = DT2.predict(X_train2)\n",
        "#accuracy on train\n",
        "print(\"Model accuracy on train is: \", accuracy_score(Y_train2, train_preds3))\n",
        "\n",
        "#predict on test\n",
        "test_preds3 = DT2.predict(X_test2)\n",
        "#accuracy on test\n",
        "print(\"Model accuracy on test is: \", accuracy_score(Y_test2, test_preds3))\n",
        "print('-'*50)\n",
        "\n",
        "# Kappa Score\n",
        "print('KappaScore is: ', metrics.cohen_kappa_score(Y_test2,test_preds3))"
      ]
    },
    {
      "cell_type": "markdown",
      "id": "3684c542",
      "metadata": {
        "papermill": {
          "duration": 0.121709,
          "end_time": "2022-03-31T11:22:26.296345",
          "exception": false,
          "start_time": "2022-03-31T11:22:26.174636",
          "status": "completed"
        },
        "tags": [],
        "id": "3684c542"
      },
      "source": [
        "### Random Forest Classifier"
      ]
    },
    {
      "cell_type": "code",
      "execution_count": 126,
      "id": "17951567",
      "metadata": {
        "execution": {
          "iopub.execute_input": "2022-03-31T11:22:26.548801Z",
          "iopub.status.busy": "2022-03-31T11:22:26.548154Z",
          "iopub.status.idle": "2022-03-31T11:22:49.150457Z",
          "shell.execute_reply": "2022-03-31T11:22:49.149901Z",
          "shell.execute_reply.started": "2022-03-31T11:13:43.766727Z"
        },
        "papermill": {
          "duration": 22.730984,
          "end_time": "2022-03-31T11:22:49.150615",
          "exception": false,
          "start_time": "2022-03-31T11:22:26.419631",
          "status": "completed"
        },
        "tags": [],
        "colab": {
          "base_uri": "https://localhost:8080/"
        },
        "id": "17951567",
        "outputId": "e48b3a4a-d200-48d3-9796-829cdd9c9ffd"
      },
      "outputs": [
        {
          "output_type": "stream",
          "name": "stdout",
          "text": [
            "Model accuracy on train is:  1.0\n",
            "Model accuracy on test is:  0.9998330957265552\n",
            "--------------------------------------------------\n",
            "KappaScore is:  0.9997524572702334\n"
          ]
        }
      ],
      "source": [
        "#fit the model on train data \n",
        "RF=RandomForestClassifier().fit(X_train2,Y_train2)\n",
        "#predict on train \n",
        "train_preds4 = RF.predict(X_train2)\n",
        "#accuracy on train\n",
        "print(\"Model accuracy on train is: \", accuracy_score(Y_train2, train_preds4))\n",
        "\n",
        "#predict on test\n",
        "test_preds4 = RF.predict(X_test2)\n",
        "#accuracy on test\n",
        "print(\"Model accuracy on test is: \", accuracy_score(Y_test2, test_preds4))\n",
        "print('-'*50)\n",
        "\n",
        "# Kappa Score\n",
        "print('KappaScore is: ', metrics.cohen_kappa_score(Y_test2,test_preds4))"
      ]
    },
    {
      "cell_type": "markdown",
      "id": "c687f93c",
      "metadata": {
        "papermill": {
          "duration": 0.122669,
          "end_time": "2022-03-31T11:22:49.398405",
          "exception": false,
          "start_time": "2022-03-31T11:22:49.275736",
          "status": "completed"
        },
        "tags": [],
        "id": "c687f93c"
      },
      "source": [
        "### K-Nearest Neighbours"
      ]
    },
    {
      "cell_type": "code",
      "execution_count": 127,
      "id": "546f107a",
      "metadata": {
        "execution": {
          "iopub.execute_input": "2022-03-31T11:22:49.646437Z",
          "iopub.status.busy": "2022-03-31T11:22:49.645844Z",
          "iopub.status.idle": "2022-03-31T11:23:15.365092Z",
          "shell.execute_reply": "2022-03-31T11:23:15.365598Z",
          "shell.execute_reply.started": "2022-03-31T11:14:05.030397Z"
        },
        "papermill": {
          "duration": 25.845028,
          "end_time": "2022-03-31T11:23:15.365770",
          "exception": false,
          "start_time": "2022-03-31T11:22:49.520742",
          "status": "completed"
        },
        "tags": [],
        "colab": {
          "base_uri": "https://localhost:8080/"
        },
        "id": "546f107a",
        "outputId": "63e34e3d-b784-4ccd-d93c-199ff50d3d93"
      },
      "outputs": [
        {
          "output_type": "stream",
          "name": "stdout",
          "text": [
            "Model accuracy on train is:  0.9981640503242026\n",
            "Model accuracy on test is:  0.9967105949441913\n",
            "--------------------------------------------------\n",
            "KappaScore is:  0.9951204869122668\n"
          ]
        }
      ],
      "source": [
        "#fit the model on train data \n",
        "KNN = KNeighborsClassifier().fit(X_train2,Y_train2)\n",
        "#predict on train \n",
        "train_preds5 = KNN.predict(X_train2)\n",
        "#accuracy on train\n",
        "print(\"Model accuracy on train is: \", accuracy_score(Y_train2, train_preds5))\n",
        "\n",
        "#predict on test\n",
        "test_preds5 = KNN.predict(X_test2)\n",
        "#accuracy on test\n",
        "print(\"Model accuracy on test is: \", accuracy_score(Y_test2, test_preds5))\n",
        "print('-'*50)\n",
        "\n",
        "# Kappa Score\n",
        "print('KappaScore is: ', metrics.cohen_kappa_score(Y_test2,test_preds5))"
      ]
    },
    {
      "cell_type": "code",
      "execution_count": 128,
      "id": "50453c4b",
      "metadata": {
        "execution": {
          "iopub.execute_input": "2022-03-31T11:23:15.620069Z",
          "iopub.status.busy": "2022-03-31T11:23:15.619101Z",
          "iopub.status.idle": "2022-03-31T11:23:15.626371Z",
          "shell.execute_reply": "2022-03-31T11:23:15.627031Z",
          "shell.execute_reply.started": "2022-03-31T11:14:30.225158Z"
        },
        "papermill": {
          "duration": 0.137596,
          "end_time": "2022-03-31T11:23:15.627205",
          "exception": false,
          "start_time": "2022-03-31T11:23:15.489609",
          "status": "completed"
        },
        "tags": [],
        "colab": {
          "base_uri": "https://localhost:8080/"
        },
        "id": "50453c4b",
        "outputId": "61084dd2-b9d2-4add-e813-06b2af5c312d"
      },
      "outputs": [
        {
          "output_type": "execute_result",
          "data": {
            "text/plain": [
              "array(['Poor'], dtype=object)"
            ]
          },
          "metadata": {},
          "execution_count": 128
        }
      ],
      "source": [
        "KNN.predict([[7.4,47.7,78.182,100]]) \n",
        "# Predictions on random values"
      ]
    },
    {
      "cell_type": "code",
      "execution_count": 129,
      "id": "0f24b23f",
      "metadata": {
        "execution": {
          "iopub.execute_input": "2022-03-31T11:23:15.914886Z",
          "iopub.status.busy": "2022-03-31T11:23:15.914213Z",
          "iopub.status.idle": "2022-03-31T11:23:15.923045Z",
          "shell.execute_reply": "2022-03-31T11:23:15.923819Z",
          "shell.execute_reply.started": "2022-03-31T11:14:30.235324Z"
        },
        "papermill": {
          "duration": 0.150222,
          "end_time": "2022-03-31T11:23:15.924055",
          "exception": false,
          "start_time": "2022-03-31T11:23:15.773833",
          "status": "completed"
        },
        "tags": [],
        "colab": {
          "base_uri": "https://localhost:8080/"
        },
        "id": "0f24b23f",
        "outputId": "6de1d160-4212-438b-e678-1b79c5de8a5b"
      },
      "outputs": [
        {
          "output_type": "execute_result",
          "data": {
            "text/plain": [
              "array(['Good'], dtype=object)"
            ]
          },
          "metadata": {},
          "execution_count": 129
        }
      ],
      "source": [
        "KNN.predict([[1,1.2,3.12,0]]) \n",
        "# Predictions on random values"
      ]
    },
    {
      "cell_type": "code",
      "execution_count": 130,
      "id": "2688adde",
      "metadata": {
        "execution": {
          "iopub.execute_input": "2022-03-31T11:23:16.186895Z",
          "iopub.status.busy": "2022-03-31T11:23:16.186017Z",
          "iopub.status.idle": "2022-03-31T11:23:16.189471Z",
          "shell.execute_reply": "2022-03-31T11:23:16.190003Z",
          "shell.execute_reply.started": "2022-03-31T11:14:30.245337Z"
        },
        "papermill": {
          "duration": 0.136196,
          "end_time": "2022-03-31T11:23:16.190181",
          "exception": false,
          "start_time": "2022-03-31T11:23:16.053985",
          "status": "completed"
        },
        "tags": [],
        "colab": {
          "base_uri": "https://localhost:8080/"
        },
        "id": "2688adde",
        "outputId": "f3e5c6d4-06e3-4d7e-e70c-9b95560b83fe"
      },
      "outputs": [
        {
          "output_type": "execute_result",
          "data": {
            "text/plain": [
              "array(['Unhealthy'], dtype=object)"
            ]
          },
          "metadata": {},
          "execution_count": 130
        }
      ],
      "source": [
        "KNN.predict([[325.7,345,798.182,203]]) \n",
        "# Predictions on random values"
      ]
    }
  ],
  "metadata": {
    "kernelspec": {
      "display_name": "Python 3",
      "language": "python",
      "name": "python3"
    },
    "language_info": {
      "codemirror_mode": {
        "name": "ipython",
        "version": 3
      },
      "file_extension": ".py",
      "mimetype": "text/x-python",
      "name": "python",
      "nbconvert_exporter": "python",
      "pygments_lexer": "ipython3",
      "version": "3.7.12"
    },
    "papermill": {
      "default_parameters": {},
      "duration": 254.938724,
      "end_time": "2022-03-31T11:23:17.730970",
      "environment_variables": {},
      "exception": null,
      "input_path": "__notebook__.ipynb",
      "output_path": "__notebook__.ipynb",
      "parameters": {},
      "start_time": "2022-03-31T11:19:02.792246",
      "version": "2.3.3"
    },
    "colab": {
      "provenance": []
    }
  },
  "nbformat": 4,
  "nbformat_minor": 5
}